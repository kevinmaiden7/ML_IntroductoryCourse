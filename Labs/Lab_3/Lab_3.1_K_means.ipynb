{
 "cells": [
  {
   "cell_type": "markdown",
   "metadata": {},
   "source": [
    "# Laboratorio 3 - Parte 1 \n",
    "\n",
    "### Modelos de mezclas de funciones Gausianas y k-means\n",
    "\n",
    "### 2019-II\n",
    "\n",
    "#### Profesor: Julián D. Arias Londoño\n",
    "#### julian.ariasl@udea.edu.co\n"
   ]
  },
  {
   "cell_type": "markdown",
   "metadata": {},
   "source": [
    "## Guía del laboratorio\n",
    "\n",
    "En este archivo va a encontrar tanto celdas de código cómo celdas de texto con las instrucciones para desarrollar el laboratorio.\n",
    "\n",
    "Lea atentamente las instrucciones entregadas en las celdas de texto correspondientes y proceda con la solución de las preguntas planteadas.\n",
    "\n",
    "Nota: no olvide ir ejecutando las celdas de código de arriba hacia abajo para que no tenga errores de importación de librerías o por falta de definición de variables."
   ]
  },
  {
   "cell_type": "markdown",
   "metadata": {},
   "source": [
    "#### Primer integrante: Kevin Martínez Gallego\n",
    "#### Segundo integrante: Andrés Álvarez Ortiz"
   ]
  },
  {
   "cell_type": "code",
   "execution_count": 1,
   "metadata": {},
   "outputs": [],
   "source": [
    "#Algunas advertencias que queremos evitar\n",
    "import warnings\n",
    "warnings.filterwarnings(\"always\") \n",
    "\n",
    "%matplotlib inline\n",
    "import numpy as np\n",
    "import scipy as sc\n",
    "import matplotlib.pyplot as plt\n",
    "import numpy.matlib as matlib\n",
    "from scipy import stats"
   ]
  },
  {
   "cell_type": "markdown",
   "metadata": {},
   "source": [
    "## Ejercicio 1: Contextualización del problema\n",
    "\n",
    "A continuación se leen los datos de un problema de clasificación. El problema corresponde a la clasificación de dígitos escritos a mano. Usaremos únicamente 4 de las 10 clases disponibles. Los datos fueron preprocesados para reducir el número de características. La técnica usada será analizada más adelante en el curso."
   ]
  },
  {
   "cell_type": "code",
   "execution_count": 2,
   "metadata": {},
   "outputs": [],
   "source": [
    "from sklearn.datasets import load_digits\n",
    "from sklearn.decomposition import PCA\n",
    "digits = load_digits(n_class=4)\n",
    "\n",
    "#--------- preprocesamiento--------------------\n",
    "pca = PCA(0.99, whiten=True)\n",
    "data = pca.fit_transform(digits.data)\n",
    "\n",
    "#---------- Datos a usar ----------------------\n",
    "X = data\n",
    "Y = digits.target"
   ]
  },
  {
   "cell_type": "markdown",
   "metadata": {},
   "source": [
    "Un vistazo a la base de datos"
   ]
  },
  {
   "cell_type": "code",
   "execution_count": null,
   "metadata": {},
   "outputs": [],
   "source": [
    "def plot_digits(data):\n",
    "    fig, ax = plt.subplots(10, 10, figsize=(8, 8),\n",
    "                           subplot_kw=dict(xticks=[], yticks=[]))\n",
    "    fig.subplots_adjust(hspace=0.05, wspace=0.05)\n",
    "    for i, axi in enumerate(ax.flat):\n",
    "        im = axi.imshow(data[i].reshape(8, 8), cmap='binary')\n",
    "        im.set_clim(0, 16)\n",
    "plot_digits(digits.data)"
   ]
  },
  {
   "cell_type": "code",
   "execution_count": 3,
   "metadata": {},
   "outputs": [
    {
     "name": "stdout",
     "output_type": "stream",
     "text": [
      "(720, 39)\n",
      "(720,)\n",
      "(array([0, 1, 2, 3]), array([178, 182, 177, 183], dtype=int64))\n"
     ]
    }
   ],
   "source": [
    "print(X.shape)\n",
    "print(Y.shape)\n",
    "print(np.unique(Y, return_counts = True))"
   ]
  },
  {
   "cell_type": "markdown",
   "metadata": {},
   "source": [
    "Responda:\n",
    "\n",
    "1.1 ¿Cuántas muestras por clase tiene la base de datos?:"
   ]
  },
  {
   "cell_type": "markdown",
   "metadata": {},
   "source": [
    "La base de datos tiene 4 clases. \n",
    "La clase correspondiente al digito 0 tiene 178 muestras;\n",
    "la clase correspondiente al digito 1 tiene 182 muestras;\n",
    "la clase correspondiente al digito 2 tiene 177 muestras;\n",
    "la clase correspondiente al digito 3 tiene 183 muestras."
   ]
  },
  {
   "cell_type": "markdown",
   "metadata": {},
   "source": [
    "1.2 ¿Cuántas características tiene cada muestra?\n"
   ]
  },
  {
   "cell_type": "markdown",
   "metadata": {},
   "source": [
    "Cada muestra tiene 39 características."
   ]
  },
  {
   "cell_type": "markdown",
   "metadata": {},
   "source": [
    "1.2 Teniendo en cuenta el tipo de problema y el número de muestras por clase, ¿qué metodología de validación debería usar?¿Porqué?:"
   ]
  },
  {
   "cell_type": "markdown",
   "metadata": {},
   "source": [
    "El problema no esta desbalanceado, por lo cual se podría usar tranquilamente la validación cruzada o la validación booststrap. Sin embargo, sería ideal utilizar validación cruzada leave-one-out debido a que no contamos con muchos datos, y deberíamos proporcionarle al sistema tantas muestras como sea posible para el entrenamiento.\n",
    "Adicionalmente, es recomendable combinar la metodología seleccionada con la validación estratificada, así evitaríamos que al partir el conjunto de muestras se desbalanceen las particiones."
   ]
  },
  {
   "cell_type": "markdown",
   "metadata": {},
   "source": [
    "## Ejercicio 2: Completar el código\n",
    "\n",
    "En la siguiente celda defina una función que tome como entradas una matriz $X$ y una matriz $Y$, entrene un modelo GMM  (Modelo de mezclas gaussianas) por cada clase y retorne el listado de modelos para cada clase. Debe consultar todo lo relacionado con la creación, entrenamiento y uso en predicción de este modelo usando la librería scikit-learn. Consultar aquí: http://scikit-learn.org/stable/modules/generated/sklearn.mixture.GaussianMixture.html\n",
    "\n",
    "\n",
    "Adicionalmente construya una función que use los modelos entrenados en la función anterior para hacer la clasificación de un conjunto nuevo de muestras.\n",
    "\n"
   ]
  },
  {
   "cell_type": "code",
   "execution_count": 19,
   "metadata": {},
   "outputs": [],
   "source": [
    "from sklearn.mixture import GaussianMixture\n",
    "\n",
    "def GMMClassifierTrain(X,Y,M,tipo):\n",
    "    \n",
    "    #X: Matriz con las características\n",
    "    #Y: Matriz con las clases\n",
    "    #M: Número de componentes\n",
    "    #tipo: Tipo de matriz de covarianza\n",
    "    \n",
    "    tipoCov = 'full'\n",
    "    if(tipo == 'diagonal'):\n",
    "        tipoCov = 'diag'\n",
    "    elif(tipo == 'esferica'):\n",
    "        tipoCov = 'spherical'\n",
    "    elif(tipo == 'atada'):\n",
    "        tipoCov = 'tied'\n",
    "    \n",
    "    clases = np.unique(Y)\n",
    "    GMMs = []\n",
    "    \n",
    "    for i in range(np.size(clases)): # iteramos por cada clase\n",
    "        muestrasClase = X[Y==i,:] # todas las muestras pertenecientes a la clase\n",
    "        modeloClase = GaussianMixture(n_components=M, covariance_type=tipoCov, max_iter=100, init_params='kmeans')\n",
    "        modeloClase.fit(muestrasClase) # Estimate model parameters with the EM algorithm.\n",
    "        GMMs.append(modeloClase)\n",
    "        \n",
    "    return GMMs #Debe retornar un objeto que contenga todos los modelos entrenados\n",
    "\n",
    "\n",
    "def GMMClassfierVal(GMMs,Xtest):\n",
    "    clases = len(GMMs)\n",
    "    muestras = np.size(Xtest, 0)\n",
    "    Yest = np.zeros(muestras)\n",
    "    probabilidades = np.zeros((muestras, clases))\n",
    "    \n",
    "    for i in range(clases): # iteramos por cada clase\n",
    "        probabilidades[:,i] = np.exp(GMMs[i].score_samples(Xtest)) \n",
    "        # Calculamos las probabilidadades de las muestras en la clase i.\n",
    "        # score_samples: Compute the weighted log probabilities for each sample.\n",
    "        # utilizamos la exponencial para obtener el valor de probabilidad dado por la función logaritmica\n",
    "        \n",
    "    Yest = np.argmax(probabilidades, axis=1) # obtenemos la mayor probabilidad (índice) para cada muestra \n",
    "    \n",
    "    return Yest #Debe retornar un vector con las clases predichas para cada una de las muestras en Xtest, de acuerdo con los modelos almacenados en GMMs"
   ]
  },
  {
   "cell_type": "markdown",
   "metadata": {},
   "source": [
    "## Ejercicio 3: Entrenamiento\n",
    "\n",
    "En la siguiente celda se define una simulación para entrenar y validar un modelo usando los datos previamente cargados de lo digitos. Complete el código para usar como modelo de predicción un GMM.\n",
    "\n",
    "Asegure que:\n",
    "\n",
    "\n",
    "                                - Matriz de covarianza: diagonal \n",
    "                                - Numero de componentes: 3\n",
    "                                - Eficiencia en validacion: 0.9555\t\n",
    "                                - Intervalo de confianza: 0.02297\n"
   ]
  },
  {
   "cell_type": "code",
   "execution_count": 20,
   "metadata": {},
   "outputs": [],
   "source": [
    "import math\n",
    "import numpy as np\n",
    "from numpy import random\n",
    "from sklearn.mixture import GaussianMixture\n",
    "from sklearn.model_selection import StratifiedKFold\n",
    "\n",
    "#Validamos el modelo\n",
    "def mainGMM(num_components, cov_type):\n",
    "    Folds = 4\n",
    "    random.seed(19680801)\n",
    "    EficienciaTrain = np.zeros(Folds)\n",
    "    EficienciaVal = np.zeros(Folds)\n",
    "    skf = StratifiedKFold(n_splits=Folds)\n",
    "    j = 0\n",
    "    for train, test in skf.split(X, Y):\n",
    "        Xtrain = X[train,:]\n",
    "        Ytrain = Y[train]\n",
    "        Xtest = X[test,:]\n",
    "        Ytest = Y[test]\n",
    "\n",
    "        #Normalizamos los datos\n",
    "        media = np.mean(Xtrain)\n",
    "        desvia = np.std(Xtrain)\n",
    "        Xtrain = sc.stats.stats.zscore(Xtrain)\n",
    "        Xtest = (Xtest - np.matlib.repmat(media, Xtest.shape[0], 1))/np.matlib.repmat(desvia, Xtest.shape[0], 1)\n",
    "\n",
    "        #Haga el llamado a la función para crear y entrenar el modelo usando los datos de entrenamiento\n",
    "        #(X,Y,M,tipo)\n",
    "\n",
    "        gmms = GMMClassifierTrain(Xtrain,Ytrain,num_components,cov_type)\n",
    "\n",
    "        #Validación\n",
    "        Ytrain_pred = GMMClassfierVal(gmms,Xtrain);\n",
    "        Yest = GMMClassfierVal(gmms,Xtest);\n",
    "\n",
    "        #Evaluamos las predicciones del modelo con los datos de test\n",
    "        EficienciaTrain[j] = np.mean(Ytrain_pred.ravel() == Ytrain.ravel())\n",
    "        EficienciaVal[j] = np.mean(Yest.ravel() == Ytest.ravel())\n",
    "        j += 1\n",
    "        \n",
    "    print('Eficiencia durante el entrenamiento = ' + str(np.mean(EficienciaTrain)) + '+-' + str(np.std(EficienciaTrain)))\n",
    "    print('Eficiencia durante la validación = ' + str(np.mean(EficienciaVal)) + '+-' + str(np.std(EficienciaVal)))\n",
    "    return (np.mean(EficienciaVal),np.std(EficienciaVal))\n",
    "\n",
    "   "
   ]
  },
  {
   "cell_type": "code",
   "execution_count": 21,
   "metadata": {},
   "outputs": [
    {
     "name": "stdout",
     "output_type": "stream",
     "text": [
      "Eficiencia durante el entrenamiento = 0.9986093773577142+-0.001540159626776286\n",
      "Eficiencia durante la validación = 0.9555068542222571+-0.022967890779648337\n"
     ]
    },
    {
     "data": {
      "text/plain": [
       "(0.9555068542222571, 0.022967890779648337)"
      ]
     },
     "execution_count": 21,
     "metadata": {},
     "output_type": "execute_result"
    }
   ],
   "source": [
    "mainGMM(3, 'diagonal')"
   ]
  },
  {
   "cell_type": "markdown",
   "metadata": {},
   "source": [
    "## Ejercicio 4: Resultados\n",
    "\n",
    "Una vez completado el código realice los experimentos necesarios para llenar la siguiente tabla:"
   ]
  },
  {
   "cell_type": "code",
   "execution_count": 22,
   "metadata": {},
   "outputs": [
    {
     "name": "stdout",
     "output_type": "stream",
     "text": [
      "Eficiencia durante el entrenamiento = 1.0+-0.0\n",
      "Eficiencia durante la validación = 0.9834479272694958+-0.014043974572147429\n",
      "Eficiencia durante el entrenamiento = 1.0+-0.0\n",
      "Eficiencia durante la validación = 0.9681536008332576+-0.013022908857458793\n",
      "Eficiencia durante el entrenamiento = 1.0+-0.0\n",
      "Eficiencia durante la validación = 0.912416908045111+-0.029747965775809456\n",
      "Eficiencia durante el entrenamiento = 1.0+-0.0\n",
      "Eficiencia durante la validación = 0.6899249310119687+-0.12103174952956765\n",
      "Eficiencia durante el entrenamiento = 1.0+-0.0\n",
      "Eficiencia durante la validación = 0.5173994995516398+-0.09648566591263898\n",
      "Eficiencia durante el entrenamiento = 1.0+-0.0\n",
      "Eficiencia durante la validación = 0.4084583510698063+-0.028087280561425322\n",
      "Eficiencia durante el entrenamiento = 0.9874913312685584+-0.004034179257013327\n",
      "Eficiencia durante la validación = 0.9263682245912502+-0.010018017854166889\n",
      "Eficiencia durante el entrenamiento = 0.9953677586353733+-0.0009388043015629532\n",
      "Eficiencia durante la validación = 0.9374956257062395+-0.010621933451619608\n",
      "Eficiencia durante el entrenamiento = 0.9986093773577142+-0.001540159626776286\n",
      "Eficiencia durante la validación = 0.9555068542222571+-0.022967890779648337\n",
      "Eficiencia durante el entrenamiento = 0.9990714940927368+-0.0009285067077479822\n",
      "Eficiencia durante la validación = 0.9388307921172456+-0.02385056736246423\n",
      "Eficiencia durante el entrenamiento = 0.9995353159851301+-0.0008048563232197171\n",
      "Eficiencia durante la validación = 0.9471808499170888+-0.028432202861579572\n",
      "Eficiencia durante el entrenamiento = 0.9990732087762577+-0.0009267983881428157\n",
      "Eficiencia durante la validación = 0.9597269003571771+-0.015902086832139072\n",
      "Eficiencia durante el entrenamiento = 0.973585976423762+-0.013905285691674724\n",
      "Eficiencia durante la validación = 0.8833235614651569+-0.01876983809647873\n",
      "Eficiencia durante el entrenamiento = 0.9666535444844918+-0.006606981195550575\n",
      "Eficiencia durante la validación = 0.8556150203006674+-0.026736626379277973\n",
      "Eficiencia durante el entrenamiento = 0.9810063409651906+-0.00518987802138679\n",
      "Eficiencia durante la validación = 0.8820749419984606+-0.02336139156541426\n",
      "Eficiencia durante el entrenamiento = 0.9842539658605708+-0.006238402035239225\n",
      "Eficiencia durante la validación = 0.8486691996415039+-0.011851570184303054\n",
      "Eficiencia durante el entrenamiento = 0.9856377107164727+-0.006229384731827092\n",
      "Eficiencia durante la validación = 0.8666948317672297+-0.006126847612538244\n",
      "Eficiencia durante el entrenamiento = 0.9902716762554885+-0.0060794167770095026\n",
      "Eficiencia durante la validación = 0.8709242705457736+-0.026772464765403185\n",
      "Eficiencia durante el entrenamiento = 1.0+-0.0\n",
      "Eficiencia durante la validación = 0.9834479272694958+-0.014043974572147429\n",
      "Eficiencia durante el entrenamiento = 1.0+-0.0\n",
      "Eficiencia durante la validación = 0.9848215536431222+-0.013148860054575707\n",
      "Eficiencia durante el entrenamiento = 1.0+-0.0\n",
      "Eficiencia durante la validación = 0.9834479272694958+-0.014043974572147429\n",
      "Eficiencia durante el entrenamiento = 1.0+-0.0\n",
      "Eficiencia durante la validación = 0.9820434328874733+-0.012516247395640619\n",
      "Eficiencia durante el entrenamiento = 1.0+-0.0\n",
      "Eficiencia durante la validación = 0.9834479272694958+-0.014043974572147429\n",
      "Eficiencia durante el entrenamiento = 1.0+-0.0\n",
      "Eficiencia durante la validación = 0.9875839845823486+-0.009823432282667867\n"
     ]
    },
    {
     "data": {
      "application/vnd.jupyter.widget-view+json": {
       "model_id": "93331a9a4d3b4c649ad3270a7c8fccd5",
       "version_major": 2,
       "version_minor": 0
      },
      "text/plain": [
       "QgridWidget(grid_options={'fullWidthRows': True, 'syncColumnCellResize': True, 'forceFitColumns': True, 'defau…"
      ]
     },
     "metadata": {},
     "output_type": "display_data"
    }
   ],
   "source": [
    "import pandas as pd\n",
    "import qgrid\n",
    "randn = np.random.randn\n",
    "df_types = pd.DataFrame({\n",
    "    'Matriz de covarianza' : pd.Series(['Completa','Completa','Completa','Completa','Completa','Completa','Diagonal','Diagonal','Diagonal','Diagonal','Diagonal','Diagonal','Esférica','Esférica','Esférica','Esférica','Esférica','Esférica','Atada','Atada','Atada','Atada','Atada','Atada']),\n",
    "    'Numero de componentes' : pd.Series([1,2,3,4,5,6,1,2,3,4,5,6,1,2,3,4,5,6,1,2,3,4,5,6])})\n",
    "df_types[\"Eficiencia en validacion\"] = \"\"\n",
    "df_types[\"Intervalo de confianza\"] = \"\"\n",
    "df_types.set_index(['Matriz de covarianza','Numero de componentes'], inplace=True)\n",
    "#df_types[\"Eficiencia en validacion\"][8] = \"0.9555\"\n",
    "#df_types[\"Intervalo de confianza\"][8] = \"0.02297\"\n",
    "#df_types.sort_index(inplace=True)\n",
    "\n",
    "matricesCov = ['completa', 'diagonal', 'esferica', 'atada']\n",
    "numeroComponentes = 6\n",
    "indice = 0\n",
    "for i in range(len(matricesCov)):\n",
    "    tipo = matricesCov[i]\n",
    "    for j in range(numeroComponentes):\n",
    "        eficiencia, std = mainGMM(j+1, tipo)\n",
    "        df_types[\"Eficiencia en validacion\"][indice] = eficiencia\n",
    "        df_types[\"Intervalo de confianza\"][indice] = std\n",
    "        indice+=1\n",
    "\n",
    "qgrid_widget = qgrid.show_grid(df_types, show_toolbar=False)\n",
    "qgrid_widget"
   ]
  },
  {
   "cell_type": "markdown",
   "metadata": {},
   "source": [
    "Ejecute la siguiente instrucción para dejar guardados en el notebook los resultados de las pruebas.\n"
   ]
  },
  {
   "cell_type": "code",
   "execution_count": 23,
   "metadata": {},
   "outputs": [
    {
     "data": {
      "text/html": [
       "<div>\n",
       "<style scoped>\n",
       "    .dataframe tbody tr th:only-of-type {\n",
       "        vertical-align: middle;\n",
       "    }\n",
       "\n",
       "    .dataframe tbody tr th {\n",
       "        vertical-align: top;\n",
       "    }\n",
       "\n",
       "    .dataframe thead th {\n",
       "        text-align: right;\n",
       "    }\n",
       "</style>\n",
       "<table border=\"1\" class=\"dataframe\">\n",
       "  <thead>\n",
       "    <tr style=\"text-align: right;\">\n",
       "      <th></th>\n",
       "      <th></th>\n",
       "      <th>Eficiencia en validacion</th>\n",
       "      <th>Intervalo de confianza</th>\n",
       "    </tr>\n",
       "    <tr>\n",
       "      <th>Matriz de covarianza</th>\n",
       "      <th>Numero de componentes</th>\n",
       "      <th></th>\n",
       "      <th></th>\n",
       "    </tr>\n",
       "  </thead>\n",
       "  <tbody>\n",
       "    <tr>\n",
       "      <td rowspan=\"6\" valign=\"top\">Completa</td>\n",
       "      <td>1</td>\n",
       "      <td>0.983448</td>\n",
       "      <td>0.014044</td>\n",
       "    </tr>\n",
       "    <tr>\n",
       "      <td>2</td>\n",
       "      <td>0.968154</td>\n",
       "      <td>0.0130229</td>\n",
       "    </tr>\n",
       "    <tr>\n",
       "      <td>3</td>\n",
       "      <td>0.912417</td>\n",
       "      <td>0.029748</td>\n",
       "    </tr>\n",
       "    <tr>\n",
       "      <td>4</td>\n",
       "      <td>0.689925</td>\n",
       "      <td>0.121032</td>\n",
       "    </tr>\n",
       "    <tr>\n",
       "      <td>5</td>\n",
       "      <td>0.517399</td>\n",
       "      <td>0.0964857</td>\n",
       "    </tr>\n",
       "    <tr>\n",
       "      <td>6</td>\n",
       "      <td>0.408458</td>\n",
       "      <td>0.0280873</td>\n",
       "    </tr>\n",
       "    <tr>\n",
       "      <td rowspan=\"6\" valign=\"top\">Diagonal</td>\n",
       "      <td>1</td>\n",
       "      <td>0.926368</td>\n",
       "      <td>0.010018</td>\n",
       "    </tr>\n",
       "    <tr>\n",
       "      <td>2</td>\n",
       "      <td>0.937496</td>\n",
       "      <td>0.0106219</td>\n",
       "    </tr>\n",
       "    <tr>\n",
       "      <td>3</td>\n",
       "      <td>0.955507</td>\n",
       "      <td>0.0229679</td>\n",
       "    </tr>\n",
       "    <tr>\n",
       "      <td>4</td>\n",
       "      <td>0.938831</td>\n",
       "      <td>0.0238506</td>\n",
       "    </tr>\n",
       "    <tr>\n",
       "      <td>5</td>\n",
       "      <td>0.947181</td>\n",
       "      <td>0.0284322</td>\n",
       "    </tr>\n",
       "    <tr>\n",
       "      <td>6</td>\n",
       "      <td>0.959727</td>\n",
       "      <td>0.0159021</td>\n",
       "    </tr>\n",
       "    <tr>\n",
       "      <td rowspan=\"6\" valign=\"top\">Esférica</td>\n",
       "      <td>1</td>\n",
       "      <td>0.883324</td>\n",
       "      <td>0.0187698</td>\n",
       "    </tr>\n",
       "    <tr>\n",
       "      <td>2</td>\n",
       "      <td>0.855615</td>\n",
       "      <td>0.0267366</td>\n",
       "    </tr>\n",
       "    <tr>\n",
       "      <td>3</td>\n",
       "      <td>0.882075</td>\n",
       "      <td>0.0233614</td>\n",
       "    </tr>\n",
       "    <tr>\n",
       "      <td>4</td>\n",
       "      <td>0.848669</td>\n",
       "      <td>0.0118516</td>\n",
       "    </tr>\n",
       "    <tr>\n",
       "      <td>5</td>\n",
       "      <td>0.866695</td>\n",
       "      <td>0.00612685</td>\n",
       "    </tr>\n",
       "    <tr>\n",
       "      <td>6</td>\n",
       "      <td>0.870924</td>\n",
       "      <td>0.0267725</td>\n",
       "    </tr>\n",
       "    <tr>\n",
       "      <td rowspan=\"6\" valign=\"top\">Atada</td>\n",
       "      <td>1</td>\n",
       "      <td>0.983448</td>\n",
       "      <td>0.014044</td>\n",
       "    </tr>\n",
       "    <tr>\n",
       "      <td>2</td>\n",
       "      <td>0.984822</td>\n",
       "      <td>0.0131489</td>\n",
       "    </tr>\n",
       "    <tr>\n",
       "      <td>3</td>\n",
       "      <td>0.983448</td>\n",
       "      <td>0.014044</td>\n",
       "    </tr>\n",
       "    <tr>\n",
       "      <td>4</td>\n",
       "      <td>0.982043</td>\n",
       "      <td>0.0125162</td>\n",
       "    </tr>\n",
       "    <tr>\n",
       "      <td>5</td>\n",
       "      <td>0.983448</td>\n",
       "      <td>0.014044</td>\n",
       "    </tr>\n",
       "    <tr>\n",
       "      <td>6</td>\n",
       "      <td>0.987584</td>\n",
       "      <td>0.00982343</td>\n",
       "    </tr>\n",
       "  </tbody>\n",
       "</table>\n",
       "</div>"
      ],
      "text/plain": [
       "                                           Eficiencia en validacion  \\\n",
       "Matriz de covarianza Numero de componentes                            \n",
       "Completa             1                                     0.983448   \n",
       "                     2                                     0.968154   \n",
       "                     3                                     0.912417   \n",
       "                     4                                     0.689925   \n",
       "                     5                                     0.517399   \n",
       "                     6                                     0.408458   \n",
       "Diagonal             1                                     0.926368   \n",
       "                     2                                     0.937496   \n",
       "                     3                                     0.955507   \n",
       "                     4                                     0.938831   \n",
       "                     5                                     0.947181   \n",
       "                     6                                     0.959727   \n",
       "Esférica             1                                     0.883324   \n",
       "                     2                                     0.855615   \n",
       "                     3                                     0.882075   \n",
       "                     4                                     0.848669   \n",
       "                     5                                     0.866695   \n",
       "                     6                                     0.870924   \n",
       "Atada                1                                     0.983448   \n",
       "                     2                                     0.984822   \n",
       "                     3                                     0.983448   \n",
       "                     4                                     0.982043   \n",
       "                     5                                     0.983448   \n",
       "                     6                                     0.987584   \n",
       "\n",
       "                                           Intervalo de confianza  \n",
       "Matriz de covarianza Numero de componentes                         \n",
       "Completa             1                                   0.014044  \n",
       "                     2                                  0.0130229  \n",
       "                     3                                   0.029748  \n",
       "                     4                                   0.121032  \n",
       "                     5                                  0.0964857  \n",
       "                     6                                  0.0280873  \n",
       "Diagonal             1                                   0.010018  \n",
       "                     2                                  0.0106219  \n",
       "                     3                                  0.0229679  \n",
       "                     4                                  0.0238506  \n",
       "                     5                                  0.0284322  \n",
       "                     6                                  0.0159021  \n",
       "Esférica             1                                  0.0187698  \n",
       "                     2                                  0.0267366  \n",
       "                     3                                  0.0233614  \n",
       "                     4                                  0.0118516  \n",
       "                     5                                 0.00612685  \n",
       "                     6                                  0.0267725  \n",
       "Atada                1                                   0.014044  \n",
       "                     2                                  0.0131489  \n",
       "                     3                                   0.014044  \n",
       "                     4                                  0.0125162  \n",
       "                     5                                   0.014044  \n",
       "                     6                                 0.00982343  "
      ]
     },
     "execution_count": 23,
     "metadata": {},
     "output_type": "execute_result"
    }
   ],
   "source": [
    "qgrid_widget.get_changed_df()"
   ]
  },
  {
   "cell_type": "markdown",
   "metadata": {},
   "source": [
    "Responda\n",
    "\n",
    "4.1 La tabla incluye un tipo de matriz de covarianza no visto en clase, Atada, ¿En qué consiste este tipo de matriz según la documentación en scikit-learn?:"
   ]
  },
  {
   "cell_type": "markdown",
   "metadata": {},
   "source": [
    "Scikit-learn: all components share the same general covariance matrix.\n",
    "Todos los componentes de una misma clase comparten la misma matriz de covarianza general (una matriz completa)."
   ]
  },
  {
   "cell_type": "markdown",
   "metadata": {},
   "source": [
    "4.2  ¿Qué método se utilizó para la incialización de los parámetros del modelo GMM?:"
   ]
  },
  {
   "cell_type": "markdown",
   "metadata": {},
   "source": [
    "Scikit-learn permite inicializar los parámetros del modelo GMM de dos maneras diferentes: utilizando el método k-means o de manera aleatoria (a través del parámetro de la función init_params). En este caso usamos la estrategia k-means, ya que esta inicializa las medias en puntos distantes para producir mejores resultados."
   ]
  },
  {
   "cell_type": "markdown",
   "metadata": {},
   "source": [
    "4.3 ¿El algoritmo EM presentó problemas de convergencia o colapso para alguna de las combinaciones de parámetros?"
   ]
  },
  {
   "cell_type": "markdown",
   "metadata": {},
   "source": [
    "En este caso no se presentaron problemas de convergencia o colapso. No obstante, esto puede ocurrir si con alguna combinación se genera una matriz de covarianza nula, lo que implicaría que esta no fuese invertible y la función gaussiana de ese compente quedría indeterminada."
   ]
  },
  {
   "cell_type": "markdown",
   "metadata": {
    "collapsed": true
   },
   "source": [
    "## Ejercicio 5\n",
    "\n",
    "En la siguiente celda, utilice las muestras de la base de datos iris incluidos en la variable Xclustering. \n",
    "Lleve a cabo el agrupamiento de los datos usando el algoritmo k-means y el modelo GMM.\n",
    "\n",
    "Consultar todo lo relacionado al llamado del método KMeans de la librería scikit-learn en el siguiente enlace: http://scikit-learn.org/stable/modules/generated/sklearn.cluster.KMeans.html. \n",
    "\n",
    "\n",
    "Realice el agrupamiento para 2 y 3 grupos y grafique los resultados del agrupamiento en cada caso (use colores para los puntos de acuerdo con el grupo asignado por el algoritmo de agrupamiento). Para el caso del GMM use una matriz de covarianza completa y una matriz diagonal. El resultado de este punto son 6 gráficas."
   ]
  },
  {
   "cell_type": "code",
   "execution_count": null,
   "metadata": {},
   "outputs": [],
   "source": [
    "from sklearn.datasets import load_iris\n",
    "data = load_iris()\n",
    "X=data.data\n",
    "Xclustering = X[:,1:3]\n",
    "plt.scatter(Xclustering[:,0],Xclustering[:,1])\n",
    "plt.title(\"Datos para agrupar\")\n",
    "plt.show"
   ]
  },
  {
   "cell_type": "code",
   "execution_count": null,
   "metadata": {},
   "outputs": [],
   "source": []
  }
 ],
 "metadata": {
  "kernelspec": {
   "display_name": "Python 3",
   "language": "python",
   "name": "python3"
  },
  "language_info": {
   "codemirror_mode": {
    "name": "ipython",
    "version": 3
   },
   "file_extension": ".py",
   "mimetype": "text/x-python",
   "name": "python",
   "nbconvert_exporter": "python",
   "pygments_lexer": "ipython3",
   "version": "3.7.4"
  }
 },
 "nbformat": 4,
 "nbformat_minor": 2
}
