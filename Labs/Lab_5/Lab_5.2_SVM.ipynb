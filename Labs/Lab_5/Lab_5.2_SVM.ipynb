{
 "cells": [
  {
   "cell_type": "markdown",
   "metadata": {},
   "source": [
    "# Laboratorio 5 - Parte 2\n",
    "\n",
    "### Máquinas de Vectores de Soporte\n",
    "\n",
    "### 2019-II\n",
    "\n",
    "#### Profesor: Julián D. Arias Londoño\n",
    "#### julian.ariasl@udea.edu.co"
   ]
  },
  {
   "cell_type": "markdown",
   "metadata": {},
   "source": [
    "## Guía del laboratorio\n",
    "\n",
    "En esta archivo va a encontrar tanto celdas de código cómo celdas de texto con las instrucciones para desarrollar el laboratorio.\n",
    "\n",
    "Lea atentamente las instrucciones entregadas en las celdas de texto correspondientes y proceda con la solución de las preguntas planteadas.\n",
    "\n",
    "Nota: no olvide ir ejecutando las celdas de código de arriba hacia abajo para que no tenga errores de importación de librerías o por falta de definición de variables."
   ]
  },
  {
   "cell_type": "markdown",
   "metadata": {},
   "source": [
    "#### Primer Integrante: Kevin Martínez Gallego\n",
    "#### Segundo Integrante: Andrés Mauricio Álvarez Ortiz"
   ]
  },
  {
   "cell_type": "code",
   "execution_count": 2,
   "metadata": {},
   "outputs": [],
   "source": [
    "from __future__ import division\n",
    "import numpy as np\n",
    "from numpy import round\n",
    "import math\n",
    "import matplotlib.pyplot as plt\n",
    "#Algunas advertencias que queremos evitar\n",
    "import warnings\n",
    "warnings.filterwarnings(\"always\")\n",
    "%matplotlib inline"
   ]
  },
  {
   "cell_type": "markdown",
   "metadata": {},
   "source": [
    "## Ejercicio 1: Limipiar base de datos y completar código\n",
    "\n",
    "En este ejercicio usaremos la regresión por vectores de soporte para resolver el problema de regresión de la base de datos AirQuality (https://archive.ics.uci.edu/ml/datasets/Air+Quality)."
   ]
  },
  {
   "cell_type": "markdown",
   "metadata": {},
   "source": [
    "### Limipiar base de datos\n",
    "La siguiente celda de código limpia la base de datos de todos sus datos faltantes y la deja lista en la variable DataBase."
   ]
  },
  {
   "cell_type": "markdown",
   "metadata": {},
   "source": [
    "1. **Cargar** la base de datos\n",
    "2. **Quitar** todos registros de la base de datos que son perdidos y están marcados como -200, es decir, donde haya un valor -200 eliminaremos el registro.\n",
    "3.  Ya hemos eliminado los registros con valor de la variable de salida perdido. Ahora vamos a **imputar los valores perdidos** en cada una de las características.\n",
    "4. **Verificar** si quedaron valores faltante"
   ]
  },
  {
   "cell_type": "code",
   "execution_count": 3,
   "metadata": {},
   "outputs": [
    {
     "name": "stdout",
     "output_type": "stream",
     "text": [
      "Dim de la base de datos original: (9357, 13)\n",
      "\n",
      "Hay 366 valores perdidos en la variable de salida.\n",
      "\n",
      "Dim de la base de datos sin las muestras con variable de salida perdido (8991, 13)\n",
      "\n",
      "Procesando imputación de valores perdidos en las características . . .\n",
      "\n",
      "Imputación finalizada.\n",
      "\n",
      "No hay valores perdidos en la base de datos. Ahora se puede procesar. La base de datos está en la variable DataBase\n"
     ]
    }
   ],
   "source": [
    "#Paso 1: Cargar\n",
    "db = np.loadtxt('BDatos/AirQuality.data',delimiter='\\t')  # Assuming tab-delimiter\n",
    "print(\"Dim de la base de datos original: \" + str(np.shape(db)))\n",
    "db = db.reshape(9357,13)\n",
    "\n",
    "DataBase = db\n",
    "\n",
    "#Paso 2: Quitar\n",
    "j = 0\n",
    "for i in range(0,np.size(db,0)):\n",
    "    if -200 == db[i,12]:\n",
    "        #print i\n",
    "        j+=1\n",
    "        DataBase = np.delete(DataBase,i,0)\n",
    "    \n",
    "print (\"\\nHay \" + str(j) + \" valores perdidos en la variable de salida.\")\n",
    "\n",
    "print (\"\\nDim de la base de datos sin las muestras con variable de salida perdido \"+ str(np.shape(DataBase)))\n",
    "\n",
    "\n",
    "##Paso 3: Imputar\n",
    "print (\"\\nProcesando imputación de valores perdidos en las características . . .\\n\")\n",
    "\n",
    "\n",
    "for k in range(0,np.size(DataBase,0)):\n",
    "    for w in range(0,13):\n",
    "        if -200 == DataBase[k,w]:\n",
    "            DataBase[k,w] = round(np.mean(DataBase[:,w])) ## Se imputa con la media de toda la caracteristicas\n",
    "        \n",
    "print (\"Imputación finalizada.\\n\")\n",
    "\n",
    "\n",
    "##Paso 4: Verificar\n",
    "\n",
    "hay_missed_values = False\n",
    "for i in range(0,np.size(DataBase,0)):\n",
    "    if -200 in DataBase[i,:]:\n",
    "        hay_missed_values = True\n",
    "if(hay_missed_values):\n",
    "    print (\"Hay valores perdidos\")\n",
    "else:\n",
    "    print (\"No hay valores perdidos en la base de datos. Ahora se puede procesar. La base de datos está en la variable DataBase\")"
   ]
  },
  {
   "cell_type": "markdown",
   "metadata": {},
   "source": [
    "Base de datos final"
   ]
  },
  {
   "cell_type": "code",
   "execution_count": 4,
   "metadata": {},
   "outputs": [],
   "source": [
    "X = DataBase[:,0:12]\n",
    "\n",
    "Y = DataBase[:,12]"
   ]
  },
  {
   "cell_type": "code",
   "execution_count": 5,
   "metadata": {},
   "outputs": [
    {
     "name": "stdout",
     "output_type": "stream",
     "text": [
      "(8991, 12)\n",
      "(8991,)\n"
     ]
    }
   ],
   "source": [
    "print(X.shape)\n",
    "print(Y.shape)"
   ]
  },
  {
   "cell_type": "markdown",
   "metadata": {},
   "source": [
    "Definimos la función Mean Absolute Percentage Error para los problemas de regresión"
   ]
  },
  {
   "cell_type": "code",
   "execution_count": 9,
   "metadata": {},
   "outputs": [],
   "source": [
    "def MAPE(Y_est,Y):\n",
    "    ind = Y != 0 #Remueve los elementos que son cero en la variable deseada\n",
    "    N = np.size(Y[ind])\n",
    "    mape = np.sum(abs((Y_est[ind].reshape(N,1) - Y[ind].reshape(N,1))/(Y[ind].reshape(N,1)+np.finfo(np.float).eps)))/N\n",
    "    return mape "
   ]
  },
  {
   "cell_type": "markdown",
   "metadata": {},
   "source": [
    "\n",
    "\n",
    "### Complete el código\n",
    "\n",
    "A continuación complete el siguiente código para crear el modelo vectores de soporte(SVM) para regresión usando la librería sklearn. \n",
    "https://scikit-learn.org/stable/modules/generated/sklearn.svm.SVR.html"
   ]
  },
  {
   "cell_type": "code",
   "execution_count": 10,
   "metadata": {},
   "outputs": [],
   "source": [
    "from sklearn.model_selection import KFold\n",
    "from sklearn import preprocessing\n",
    "from sklearn.svm import SVR\n",
    "import time\n",
    "\n",
    "def execute_SVR(kernel, regParam, gamma):\n",
    "    tiempo_i = time.time()\n",
    "\n",
    "    #Implemetamos la metodología de validación cross validation con 5 folds\n",
    "    Folds = 5\n",
    "    Errores = np.ones(Folds)\n",
    "    porcentajeVectores = np.zeros(Folds)\n",
    "    j = 0\n",
    "    kf = KFold(n_splits=Folds)\n",
    "\n",
    "    for train_index, test_index in kf.split(X):\n",
    "\n",
    "        Xtrain, Xtest = X[train_index], X[test_index]\n",
    "        Ytrain, Ytest = Y[train_index], Y[test_index]  \n",
    "\n",
    "        #Complete el código\n",
    "                \n",
    "        #Normalizamos los datos\n",
    "        scaler = preprocessing.StandardScaler().fit(Xtrain)\n",
    "        Xtrain = scaler.transform(Xtrain)\n",
    "        Xtest = scaler.transform(Xtest)\n",
    "\n",
    "        # Entrenar el modelo\n",
    "        if(kernel == 'rbf'):\n",
    "            model = SVR(C=regParam, kernel='rbf', gamma=gamma).fit(Xtrain, Ytrain)\n",
    "        else:\n",
    "            model = SVR(C=regParam, kernel=kernel).fit(Xtrain, Ytrain)\n",
    "\n",
    "        porcentajeVectores[j] = np.sum(len(model.support_))/np.shape(Xtrain)[0]\n",
    "            \n",
    "        # Validación del modelo\n",
    "        Y_pred = model.predict(Xtest)\n",
    "\n",
    "        Errores[j] = MAPE(Y_pred, Ytest)\n",
    "        j+=1\n",
    "\n",
    "    error = round(np.mean(Errores),3)\n",
    "    std_error = round(np.std(Errores),3)\n",
    "    vectores_soporte = round(np.mean(porcentajeVectores),3)\n",
    "    \n",
    "    print(\"\\nError de validación: \" + str(error) + \" +/- \" + str(std_error) + \", % vectores de soporte: \" + str(vectores_soporte))\n",
    "\n",
    "    print (\"\\n\\nTiempo total de ejecución: \" + str(time.time()-tiempo_i) + \" segundos.\")\n",
    "    \n",
    "    return(str(error), str(std_error), str(vectores_soporte), Ytest, Y_pred)"
   ]
  },
  {
   "cell_type": "code",
   "execution_count": 8,
   "metadata": {},
   "outputs": [
    {
     "name": "stdout",
     "output_type": "stream",
     "text": [
      "\n",
      "Error de validación: 0.226 +/- 0.111, % vectores de soporte: 0.219\n",
      "\n",
      "\n",
      "Tiempo total de ejecución: 47.7696008682251 segundos.\n"
     ]
    },
    {
     "data": {
      "text/plain": [
       "('0.226', '0.111', '0.219')"
      ]
     },
     "execution_count": 8,
     "metadata": {},
     "output_type": "execute_result"
    }
   ],
   "source": [
    "execute_SVR('rbf', 100, 1)"
   ]
  },
  {
   "cell_type": "markdown",
   "metadata": {},
   "source": [
    "## Ejercicio 2: Experimentos\n",
    "\n",
    "Una vez complete el código, realice las simulaciones necesarias para llenar la tabla siguiente:"
   ]
  },
  {
   "cell_type": "code",
   "execution_count": 10,
   "metadata": {
    "scrolled": false
   },
   "outputs": [
    {
     "name": "stdout",
     "output_type": "stream",
     "text": [
      "\n",
      "Error de validación: 0.215 +/- 0.065, % vectores de soporte: 0.379\n",
      "\n",
      "\n",
      "Tiempo total de ejecución: 16.34675669670105 segundos.\n",
      "\n",
      "Error de validación: 0.245 +/- 0.096, % vectores de soporte: 0.377\n",
      "\n",
      "\n",
      "Tiempo total de ejecución: 12.361960887908936 segundos.\n",
      "\n",
      "Error de validación: 0.277 +/- 0.135, % vectores de soporte: 0.385\n",
      "\n",
      "\n",
      "Tiempo total de ejecución: 27.428181886672974 segundos.\n",
      "\n",
      "Error de validación: 0.287 +/- 0.151, % vectores de soporte: 0.386\n",
      "\n",
      "\n",
      "Tiempo total de ejecución: 132.8582968711853 segundos.\n",
      "\n",
      "Error de validación: 0.287 +/- 0.15, % vectores de soporte: 0.386\n",
      "\n",
      "\n",
      "Tiempo total de ejecución: 575.6068267822266 segundos.\n",
      "\n",
      "Error de validación: 0.289 +/- 0.153, % vectores de soporte: 0.386\n",
      "\n",
      "\n",
      "Tiempo total de ejecución: 2931.2996480464935 segundos.\n",
      "\n",
      "Error de validación: 0.401 +/- 0.206, % vectores de soporte: 0.747\n",
      "\n",
      "\n",
      "Tiempo total de ejecución: 10.906141996383667 segundos.\n",
      "\n",
      "Error de validación: 0.329 +/- 0.14, % vectores de soporte: 0.643\n",
      "\n",
      "\n",
      "Tiempo total de ejecución: 9.030409812927246 segundos.\n",
      "\n",
      "Error de validación: 0.491 +/- 0.286, % vectores de soporte: 0.769\n",
      "\n",
      "\n",
      "Tiempo total de ejecución: 11.126045942306519 segundos.\n",
      "\n",
      "Error de validación: 0.183 +/- 0.038, % vectores de soporte: 0.443\n",
      "\n",
      "\n",
      "Tiempo total de ejecución: 6.549493074417114 segundos.\n",
      "\n",
      "Error de validación: 0.179 +/- 0.051, % vectores de soporte: 0.278\n",
      "\n",
      "\n",
      "Tiempo total de ejecución: 4.087890863418579 segundos.\n",
      "\n",
      "Error de validación: 0.391 +/- 0.234, % vectores de soporte: 0.562\n",
      "\n",
      "\n",
      "Tiempo total de ejecución: 8.48944878578186 segundos.\n",
      "\n",
      "Error de validación: 0.147 +/- 0.038, % vectores de soporte: 0.19\n",
      "\n",
      "\n",
      "Tiempo total de ejecución: 2.9942610263824463 segundos.\n",
      "\n",
      "Error de validación: 0.15 +/- 0.054, % vectores de soporte: 0.152\n",
      "\n",
      "\n",
      "Tiempo total de ejecución: 2.7599611282348633 segundos.\n",
      "\n",
      "Error de validación: 0.269 +/- 0.15, % vectores de soporte: 0.269\n",
      "\n",
      "\n",
      "Tiempo total de ejecución: 4.988033056259155 segundos.\n",
      "\n",
      "Error de validación: 0.204 +/- 0.187, % vectores de soporte: 0.122\n",
      "\n",
      "\n",
      "Tiempo total de ejecución: 2.4811649322509766 segundos.\n",
      "\n",
      "Error de validación: 0.192 +/- 0.14, % vectores de soporte: 0.166\n",
      "\n",
      "\n",
      "Tiempo total de ejecución: 3.659532070159912 segundos.\n",
      "\n",
      "Error de validación: 0.238 +/- 0.13, % vectores de soporte: 0.217\n",
      "\n",
      "\n",
      "Tiempo total de ejecución: 5.009355068206787 segundos.\n",
      "\n",
      "Error de validación: 0.559 +/- 0.912, % vectores de soporte: 0.164\n",
      "\n",
      "\n",
      "Tiempo total de ejecución: 5.031160116195679 segundos.\n",
      "\n",
      "Error de validación: 0.18 +/- 0.171, % vectores de soporte: 0.104\n",
      "\n",
      "\n",
      "Tiempo total de ejecución: 5.63857889175415 segundos.\n",
      "\n",
      "Error de validación: 0.223 +/- 0.108, % vectores de soporte: 0.213\n",
      "\n",
      "\n",
      "Tiempo total de ejecución: 5.639779806137085 segundos.\n",
      "\n",
      "Error de validación: 0.69 +/- 1.21, % vectores de soporte: 0.102\n",
      "\n",
      "\n",
      "Tiempo total de ejecución: 13.043868064880371 segundos.\n",
      "\n",
      "Error de validación: 0.214 +/- 0.204, % vectores de soporte: 0.105\n",
      "\n",
      "\n",
      "Tiempo total de ejecución: 17.3032169342041 segundos.\n",
      "\n",
      "Error de validación: 0.226 +/- 0.111, % vectores de soporte: 0.219\n",
      "\n",
      "\n",
      "Tiempo total de ejecución: 7.273940086364746 segundos.\n"
     ]
    },
    {
     "name": "stderr",
     "output_type": "stream",
     "text": [
      "/opt/anaconda3/lib/python3.7/site-packages/qgrid/grid.py:827: DeprecationWarning: QgridWidget._df_changed is deprecated in traitlets 4.1: use @observe and @unobserve instead.\n",
      "  def _df_changed(self):\n"
     ]
    },
    {
     "data": {
      "application/vnd.jupyter.widget-view+json": {
       "model_id": "d268cecc117a4c1fabdee5784ba8cf17",
       "version_major": 2,
       "version_minor": 0
      },
      "text/plain": [
       "QgridWidget(grid_options={'fullWidthRows': True, 'syncColumnCellResize': True, 'forceFitColumns': True, 'defau…"
      ]
     },
     "metadata": {},
     "output_type": "display_data"
    }
   ],
   "source": [
    "import pandas as pd\n",
    "import qgrid\n",
    "df_types = pd.DataFrame({\n",
    "    'Kernel' : pd.Series(['lineal','lineal','lineal','lineal','lineal','lineal','rbf','rbf','rbf','rbf','rbf','rbf','rbf','rbf','rbf','rbf','rbf','rbf','rbf','rbf','rbf','rbf','rbf','rbf']),\n",
    "    'C' : pd.Series([0.001,0.01,0.1,1,10,100,0.001,0.001,0.001,0.01,0.01,0.01,0.1,0.1,0.1,1,1,1,10,10,10,100,100,100]),\n",
    "    'gamma' : pd.Series([0,0,0,0,0,0,0.01,0.1,1,0.01,0.1,1,0.01,0.1,1,0.01,0.1,1,0.01,0.1,1,0.01,0.1,1])})\n",
    "df_types[\"MAPE Promedio\"] = \"\"\n",
    "df_types[\"Intervalo de confianza\"] = \"\"\n",
    "df_types[\"% de Vectores de Soporte\"] = \"\"\n",
    "df_types.set_index(['Kernel','C','gamma'], inplace=True)\n",
    "#df_types[\"MAPE Promedio\"][23] = \"0.2259\"\n",
    "#df_types[\"Intervalo de confianza\"][23] = \"0.1109\"\n",
    "#df_types[\"% de Vectores de Soporte\"][23] = \"0.2191\"\n",
    "#df_types.sort_index(inplace=True)\n",
    "\n",
    "index = 0\n",
    "kernel = 'linear'\n",
    "regParam = [0.001, 0.01, 0.1, 1, 10, 100]\n",
    "gammaValues = [0.01, 0.1, 1]\n",
    "\n",
    "for i in range(np.size(regParam)):\n",
    "    eff, std_eff, sv = execute_SVR(kernel, regParam[i], -1)\n",
    "    df_types[\"MAPE Promedio\"][index] = eff\n",
    "    df_types[\"Intervalo de confianza\"][index] = std_eff\n",
    "    df_types[\"% de Vectores de Soporte\"][index] = sv\n",
    "    index += 1\n",
    "\n",
    "kernel = 'rbf'\n",
    "for i in range(np.size(regParam)):\n",
    "    C = regParam[i]\n",
    "    for j in range(np.size(gammaValues)):\n",
    "        eff, std_eff, sv = execute_SVR(kernel, C, gammaValues[j])\n",
    "        df_types[\"MAPE Promedio\"][index] = eff\n",
    "        df_types[\"Intervalo de confianza\"][index] = std_eff\n",
    "        df_types[\"% de Vectores de Soporte\"][index] = sv\n",
    "        index += 1\n",
    "\n",
    "qgrid_widget = qgrid.show_grid(df_types, show_toolbar=False)\n",
    "qgrid_widget"
   ]
  },
  {
   "cell_type": "markdown",
   "metadata": {},
   "source": [
    "Ejecute la siguiente instrucción para dejar guardados en el notebook los resultados de las pruebas."
   ]
  },
  {
   "cell_type": "code",
   "execution_count": 11,
   "metadata": {},
   "outputs": [
    {
     "data": {
      "text/html": [
       "<div>\n",
       "<style scoped>\n",
       "    .dataframe tbody tr th:only-of-type {\n",
       "        vertical-align: middle;\n",
       "    }\n",
       "\n",
       "    .dataframe tbody tr th {\n",
       "        vertical-align: top;\n",
       "    }\n",
       "\n",
       "    .dataframe thead th {\n",
       "        text-align: right;\n",
       "    }\n",
       "</style>\n",
       "<table border=\"1\" class=\"dataframe\">\n",
       "  <thead>\n",
       "    <tr style=\"text-align: right;\">\n",
       "      <th></th>\n",
       "      <th></th>\n",
       "      <th></th>\n",
       "      <th>MAPE Promedio</th>\n",
       "      <th>Intervalo de confianza</th>\n",
       "      <th>% de Vectores de Soporte</th>\n",
       "    </tr>\n",
       "    <tr>\n",
       "      <th>Kernel</th>\n",
       "      <th>C</th>\n",
       "      <th>gamma</th>\n",
       "      <th></th>\n",
       "      <th></th>\n",
       "      <th></th>\n",
       "    </tr>\n",
       "  </thead>\n",
       "  <tbody>\n",
       "    <tr>\n",
       "      <th rowspan=\"6\" valign=\"top\">lineal</th>\n",
       "      <th>0.001</th>\n",
       "      <th>0.00</th>\n",
       "      <td>0.215</td>\n",
       "      <td>0.065</td>\n",
       "      <td>0.379</td>\n",
       "    </tr>\n",
       "    <tr>\n",
       "      <th>0.010</th>\n",
       "      <th>0.00</th>\n",
       "      <td>0.245</td>\n",
       "      <td>0.096</td>\n",
       "      <td>0.377</td>\n",
       "    </tr>\n",
       "    <tr>\n",
       "      <th>0.100</th>\n",
       "      <th>0.00</th>\n",
       "      <td>0.277</td>\n",
       "      <td>0.135</td>\n",
       "      <td>0.385</td>\n",
       "    </tr>\n",
       "    <tr>\n",
       "      <th>1.000</th>\n",
       "      <th>0.00</th>\n",
       "      <td>0.287</td>\n",
       "      <td>0.151</td>\n",
       "      <td>0.386</td>\n",
       "    </tr>\n",
       "    <tr>\n",
       "      <th>10.000</th>\n",
       "      <th>0.00</th>\n",
       "      <td>0.287</td>\n",
       "      <td>0.15</td>\n",
       "      <td>0.386</td>\n",
       "    </tr>\n",
       "    <tr>\n",
       "      <th>100.000</th>\n",
       "      <th>0.00</th>\n",
       "      <td>0.289</td>\n",
       "      <td>0.153</td>\n",
       "      <td>0.386</td>\n",
       "    </tr>\n",
       "    <tr>\n",
       "      <th rowspan=\"18\" valign=\"top\">rbf</th>\n",
       "      <th rowspan=\"3\" valign=\"top\">0.001</th>\n",
       "      <th>0.01</th>\n",
       "      <td>0.401</td>\n",
       "      <td>0.206</td>\n",
       "      <td>0.747</td>\n",
       "    </tr>\n",
       "    <tr>\n",
       "      <th>0.10</th>\n",
       "      <td>0.329</td>\n",
       "      <td>0.14</td>\n",
       "      <td>0.643</td>\n",
       "    </tr>\n",
       "    <tr>\n",
       "      <th>1.00</th>\n",
       "      <td>0.491</td>\n",
       "      <td>0.286</td>\n",
       "      <td>0.769</td>\n",
       "    </tr>\n",
       "    <tr>\n",
       "      <th rowspan=\"3\" valign=\"top\">0.010</th>\n",
       "      <th>0.01</th>\n",
       "      <td>0.183</td>\n",
       "      <td>0.038</td>\n",
       "      <td>0.443</td>\n",
       "    </tr>\n",
       "    <tr>\n",
       "      <th>0.10</th>\n",
       "      <td>0.179</td>\n",
       "      <td>0.051</td>\n",
       "      <td>0.278</td>\n",
       "    </tr>\n",
       "    <tr>\n",
       "      <th>1.00</th>\n",
       "      <td>0.391</td>\n",
       "      <td>0.234</td>\n",
       "      <td>0.562</td>\n",
       "    </tr>\n",
       "    <tr>\n",
       "      <th rowspan=\"3\" valign=\"top\">0.100</th>\n",
       "      <th>0.01</th>\n",
       "      <td>0.147</td>\n",
       "      <td>0.038</td>\n",
       "      <td>0.19</td>\n",
       "    </tr>\n",
       "    <tr>\n",
       "      <th>0.10</th>\n",
       "      <td>0.15</td>\n",
       "      <td>0.054</td>\n",
       "      <td>0.152</td>\n",
       "    </tr>\n",
       "    <tr>\n",
       "      <th>1.00</th>\n",
       "      <td>0.269</td>\n",
       "      <td>0.15</td>\n",
       "      <td>0.269</td>\n",
       "    </tr>\n",
       "    <tr>\n",
       "      <th rowspan=\"3\" valign=\"top\">1.000</th>\n",
       "      <th>0.01</th>\n",
       "      <td>0.204</td>\n",
       "      <td>0.187</td>\n",
       "      <td>0.122</td>\n",
       "    </tr>\n",
       "    <tr>\n",
       "      <th>0.10</th>\n",
       "      <td>0.192</td>\n",
       "      <td>0.14</td>\n",
       "      <td>0.166</td>\n",
       "    </tr>\n",
       "    <tr>\n",
       "      <th>1.00</th>\n",
       "      <td>0.238</td>\n",
       "      <td>0.13</td>\n",
       "      <td>0.217</td>\n",
       "    </tr>\n",
       "    <tr>\n",
       "      <th rowspan=\"3\" valign=\"top\">10.000</th>\n",
       "      <th>0.01</th>\n",
       "      <td>0.559</td>\n",
       "      <td>0.912</td>\n",
       "      <td>0.164</td>\n",
       "    </tr>\n",
       "    <tr>\n",
       "      <th>0.10</th>\n",
       "      <td>0.18</td>\n",
       "      <td>0.171</td>\n",
       "      <td>0.104</td>\n",
       "    </tr>\n",
       "    <tr>\n",
       "      <th>1.00</th>\n",
       "      <td>0.223</td>\n",
       "      <td>0.108</td>\n",
       "      <td>0.213</td>\n",
       "    </tr>\n",
       "    <tr>\n",
       "      <th rowspan=\"3\" valign=\"top\">100.000</th>\n",
       "      <th>0.01</th>\n",
       "      <td>0.69</td>\n",
       "      <td>1.21</td>\n",
       "      <td>0.102</td>\n",
       "    </tr>\n",
       "    <tr>\n",
       "      <th>0.10</th>\n",
       "      <td>0.214</td>\n",
       "      <td>0.204</td>\n",
       "      <td>0.105</td>\n",
       "    </tr>\n",
       "    <tr>\n",
       "      <th>1.00</th>\n",
       "      <td>0.226</td>\n",
       "      <td>0.111</td>\n",
       "      <td>0.219</td>\n",
       "    </tr>\n",
       "  </tbody>\n",
       "</table>\n",
       "</div>"
      ],
      "text/plain": [
       "                     MAPE Promedio Intervalo de confianza  \\\n",
       "Kernel C       gamma                                        \n",
       "lineal 0.001   0.00          0.215                  0.065   \n",
       "       0.010   0.00          0.245                  0.096   \n",
       "       0.100   0.00          0.277                  0.135   \n",
       "       1.000   0.00          0.287                  0.151   \n",
       "       10.000  0.00          0.287                   0.15   \n",
       "       100.000 0.00          0.289                  0.153   \n",
       "rbf    0.001   0.01          0.401                  0.206   \n",
       "               0.10          0.329                   0.14   \n",
       "               1.00          0.491                  0.286   \n",
       "       0.010   0.01          0.183                  0.038   \n",
       "               0.10          0.179                  0.051   \n",
       "               1.00          0.391                  0.234   \n",
       "       0.100   0.01          0.147                  0.038   \n",
       "               0.10           0.15                  0.054   \n",
       "               1.00          0.269                   0.15   \n",
       "       1.000   0.01          0.204                  0.187   \n",
       "               0.10          0.192                   0.14   \n",
       "               1.00          0.238                   0.13   \n",
       "       10.000  0.01          0.559                  0.912   \n",
       "               0.10           0.18                  0.171   \n",
       "               1.00          0.223                  0.108   \n",
       "       100.000 0.01           0.69                   1.21   \n",
       "               0.10          0.214                  0.204   \n",
       "               1.00          0.226                  0.111   \n",
       "\n",
       "                     % de Vectores de Soporte  \n",
       "Kernel C       gamma                           \n",
       "lineal 0.001   0.00                     0.379  \n",
       "       0.010   0.00                     0.377  \n",
       "       0.100   0.00                     0.385  \n",
       "       1.000   0.00                     0.386  \n",
       "       10.000  0.00                     0.386  \n",
       "       100.000 0.00                     0.386  \n",
       "rbf    0.001   0.01                     0.747  \n",
       "               0.10                     0.643  \n",
       "               1.00                     0.769  \n",
       "       0.010   0.01                     0.443  \n",
       "               0.10                     0.278  \n",
       "               1.00                     0.562  \n",
       "       0.100   0.01                      0.19  \n",
       "               0.10                     0.152  \n",
       "               1.00                     0.269  \n",
       "       1.000   0.01                     0.122  \n",
       "               0.10                     0.166  \n",
       "               1.00                     0.217  \n",
       "       10.000  0.01                     0.164  \n",
       "               0.10                     0.104  \n",
       "               1.00                     0.213  \n",
       "       100.000 0.01                     0.102  \n",
       "               0.10                     0.105  \n",
       "               1.00                     0.219  "
      ]
     },
     "execution_count": 11,
     "metadata": {},
     "output_type": "execute_result"
    }
   ],
   "source": [
    "qgrid_widget.get_changed_df()"
   ]
  },
  {
   "cell_type": "markdown",
   "metadata": {},
   "source": [
    "## Ejercicio 3: Completar preguntas"
   ]
  },
  {
   "cell_type": "markdown",
   "metadata": {},
   "source": [
    "3.1 ¿Cuál es la finalidad de usar las funciones kernel en el modelo SVM?\n",
    "\n",
    "R/: La idea de la función Kernel es mapear las muestras, que originalmente estan en un espacio d-dimensional, a un espacio de mayor dimensión en el cual aumenta la capacidad del modelo de realizar predicciones. Para un problema de clasificación, la función Kernel puede hacer posible que clases traslapadas en el espacio orginal sean linealmente separables en el nuevo espacio. Para un problema de regresión, la función Kernel puede permitir encontrar una curva más representativa de las muestras de entrenamiento."
   ]
  },
  {
   "cell_type": "markdown",
   "metadata": {},
   "source": [
    "3.2 ¿En este caso el porcentaje de vectores de soporte provee una información similar que en el problema de clasificación? Explique su respuesta.\n",
    "\n",
    "R/: Si. Porque en regresión, los vectores de soporte son las muestras que están fuera del epsilon-tubo o justo en el limite; es decir, las muestras que son \"difíciles\" de ajustar a la curva. En clasificación, los vectores de soporte son las muestras que están dentro del margen o justo en el límite; es decir, las muestras que son \"difíciles\" de clasificar.\n"
   ]
  },
  {
   "cell_type": "markdown",
   "metadata": {},
   "source": [
    "3.3 Realice una gráfica de las salidas reales vs las predicciones del modelo SVM, para evaluar visualmente el desempeño del mismo. Esto solo para la configuración en la cuál se encontró el menor error.\n",
    "\n",
    "Complete el código para hacer la gráfica aquí"
   ]
  },
  {
   "cell_type": "markdown",
   "metadata": {},
   "source": [
    "Configuración con menor error: Kernel RBF, C=0.1, gamma=0.01"
   ]
  },
  {
   "cell_type": "code",
   "execution_count": 11,
   "metadata": {},
   "outputs": [
    {
     "name": "stdout",
     "output_type": "stream",
     "text": [
      "\n",
      "Error de validación: 0.147 +/- 0.038, % vectores de soporte: 0.19\n",
      "\n",
      "\n",
      "Tiempo total de ejecución: 3.519688606262207 segundos.\n"
     ]
    }
   ],
   "source": [
    "(mape, std_mape, sv, Ytest, Ypred) = execute_SVR('rbf', 0.1, 0.01)"
   ]
  },
  {
   "cell_type": "code",
   "execution_count": 12,
   "metadata": {},
   "outputs": [
    {
     "data": {
      "image/png": "[encoded data removed]",
      "text/plain": [
       "<Figure size 432x288 with 1 Axes>"
      ]
     },
     "metadata": {
      "needs_background": "light"
     },
     "output_type": "display_data"
    }
   ],
   "source": [
    "plt.plot(Ytest)\n",
    "plt.plot(Ypred)\n",
    "plt.title('SVR')\n",
    "plt.legend(['real', 'predicho'])\n",
    "plt.show()"
   ]
  }
 ],
 "metadata": {
  "kernelspec": {
   "display_name": "Python 3",
   "language": "python",
   "name": "python3"
  },
  "language_info": {
   "codemirror_mode": {
    "name": "ipython",
    "version": 3
   },
   "file_extension": ".py",
   "mimetype": "text/x-python",
   "name": "python",
   "nbconvert_exporter": "python",
   "pygments_lexer": "ipython3",
   "version": "3.7.4"
  }
 },
 "nbformat": 4,
 "nbformat_minor": 2
}
