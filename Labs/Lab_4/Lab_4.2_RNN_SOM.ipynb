{
 "cells": [
  {
   "cell_type": "markdown",
   "metadata": {
    "colab_type": "text",
    "id": "HkZr2rlGE4Zg"
   },
   "source": [
    "# Laboratorio 4 - Parte 2\n",
    "\n",
    "### Redes Neuronales Artificiales: RNN y SOM\n",
    "\n",
    "### 2019-II\n",
    "\n",
    "#### Profesor: Julián D. Arias Londoño\n",
    "#### julian.ariasl@udea.edu.co\n"
   ]
  },
  {
   "cell_type": "markdown",
   "metadata": {
    "colab_type": "text",
    "id": "wYGFreClE4Zi"
   },
   "source": [
    "## Guía del laboratorio\n",
    "\n",
    "En esta archivo va a encontrar tanto celdas de código cómo celdas de texto con las instrucciones para desarrollar el laboratorio.\n",
    "\n",
    "Lea atentamente las instrucciones entregadas en las celdas de texto correspondientes y proceda con la solución de las preguntas planteadas.\n",
    "\n",
    "Nota: no olvide ir ejecutando las celdas de código de arriba hacia abajo para que no tenga errores de importación de librerías o por falta de definición de variables."
   ]
  },
  {
   "cell_type": "markdown",
   "metadata": {
    "colab_type": "text",
    "id": "fcZOthkZE4Zl"
   },
   "source": [
    "#### Primer Integrante: Kevin Martínz Gallego\n",
    "#### Segundo Integrante: Andrés Mauricio Álvarez Ortiz"
   ]
  },
  {
   "cell_type": "code",
   "execution_count": 1,
   "metadata": {
    "colab": {},
    "colab_type": "code",
    "id": "f50sD3RtE4Zo"
   },
   "outputs": [],
   "source": [
    "%matplotlib inline\n",
    "\n",
    "import numpy as np\n",
    "from numpy import random\n",
    "import math\n",
    "import matplotlib.pyplot as plt\n",
    "#Algunas advertencias que queremos evitar\n",
    "import warnings\n",
    "warnings.filterwarnings(\"always\")\n"
   ]
  },
  {
   "cell_type": "markdown",
   "metadata": {
    "colab_type": "text",
    "id": "DUeaqXvUE4Z5"
   },
   "source": [
    "## Ejercicio 1\n",
    "\n",
    "En este ejercicio vamos a utilizar dos bases de datos diferentes para entrenar dos mapas auto-organizables.\n",
    "\n",
    "1. La base de datos iris \n",
    "2. La base de datos de dígitos escritos. \n",
    "\n",
    "Si bien en estas dos bases de datos las muestras cuentan con etiquetadas de salida, las vamos a usar para evaluar el agrupamiento que produce un SOM, es decir que **no usaremos las etiquetas** e intentaremos que el modelo descubra los grupos de muestras similares que hay en los datos. Tenga en cuenta el número de clases en cada una de las bases de datos para los análisis posteriores."
   ]
  },
  {
   "cell_type": "code",
   "execution_count": null,
   "metadata": {},
   "outputs": [],
   "source": [
    "!pip install git+https://github.com/sevamoo/SOMPY.git"
   ]
  },
  {
   "cell_type": "code",
   "execution_count": null,
   "metadata": {
    "colab": {},
    "colab_type": "code",
    "id": "GemvjT5XE4Z9"
   },
   "outputs": [],
   "source": [
    "from sklearn.datasets import load_iris\n",
    "import sompy\n",
    "import sys\n",
    "sys.path.insert(0, '../../library/')\n",
    "from sklearn.preprocessing import StandardScaler\n",
    "import showsompy as sm\n",
    "\n",
    "data = load_iris()\n",
    "X_iris = data.data\n",
    "#Definimos una lista de colores de acuerdo con las clases originales\n",
    "colors = [\"red\"] * 50\n",
    "colors.extend([\"yellow\"] * 50)\n",
    "colors.extend([\"blue\"] * 50)"
   ]
  },
  {
   "cell_type": "code",
   "execution_count": null,
   "metadata": {
    "colab": {},
    "colab_type": "code",
    "id": "ky20PZOfE4aF"
   },
   "outputs": [],
   "source": [
    "#Normalizar\n",
    "random.seed(19680801)\n",
    "scaler = StandardScaler()\n",
    "Xn = scaler.fit_transform(X_iris)\n",
    "n_columns = 50\n",
    "n_rows =50"
   ]
  },
  {
   "cell_type": "markdown",
   "metadata": {
    "colab_type": "text",
    "id": "MWbxrJTjE4aQ"
   },
   "source": [
    "Para el trabajo usaremos el paquete SOMPY, use la siguiente instrucción\n",
    "\n",
    "```\n",
    "!pip3 install git+https://github.com/sevamoo/SOMPY.git\n",
    "```\n",
    "La documentación se pueden consultar en : https://github.com/sevamoo/SOMPY. \n",
    "\n",
    "Complete el siguiente código para entrenar un SOM con los datos almacenados en la variable Xn (Datos normalizados), use una cuadrícula de neuronas de 50 por 50 y un número de épocas igual a 100."
   ]
  },
  {
   "cell_type": "code",
   "execution_count": null,
   "metadata": {
    "colab": {},
    "colab_type": "code",
    "id": "RrafUyL0E4aT"
   },
   "outputs": [],
   "source": [
    "mapsize = [n_columns,n_rows]\n",
    "component_names = ['sepal length','sepal width', 'petal length','petal width']\n",
    "som_iris = sompy.SOMFactory().build(Xn, mapsize, normalization = 'var', initialization='random', neighborhood = 'gaussian', component_names=component_names)\n",
    "som_iris.train(n_job=1, verbose=False, train_finetune_len=100)"
   ]
  },
  {
   "cell_type": "markdown",
   "metadata": {
    "colab_type": "text",
    "id": "VVuiqPrmE4ag"
   },
   "source": [
    "Una vez entrenado el modelo ejecute la siguiente celda, la cuál grafica la matriz U extraída del SOM:"
   ]
  },
  {
   "cell_type": "code",
   "execution_count": null,
   "metadata": {
    "colab": {},
    "colab_type": "code",
    "id": "2Pj9ZMZLE4an"
   },
   "outputs": [],
   "source": [
    "u = sompy.umatrix.UMatrixView(50, 50, 'umatrix', show_axis=True, text_size=8, show_text=True)\n",
    "\n",
    "u.build_u_matrix(som_iris, distance=1, row_normalized=False)\n",
    "u.show(som_iris, show_data=False)\n",
    "#u.show(som_iris, colors=colors)"
   ]
  },
  {
   "cell_type": "markdown",
   "metadata": {
    "colab_type": "text",
    "id": "7n5elpBCE4a6"
   },
   "source": [
    "Responda:\n",
    "\n",
    "1.1 ¿Qué es la matrix U (En inglés U-matrix) de un SOM?\n",
    "\n",
    "R/ Es una gráfica que representa la distancia entre neuronas vecinas, teniendo en cuenta que los colores oscuros representan distancias largas y los colores claros indican cercanía. Así, está gráfica nos permite ver los clusters que identificó el modelo."
   ]
  },
  {
   "cell_type": "markdown",
   "metadata": {
    "colab_type": "text",
    "id": "5XfZ4ifRE4a8"
   },
   "source": [
    "1.2 ¿Cómo se pueden interpretar las gráficas obtenidas en el punto anterior? Describa detalladamente lo que observa e interprételo de acuerdo con la definición que dio en el punto 1.1\n",
    "\n",
    "R/ "
   ]
  },
  {
   "cell_type": "markdown",
   "metadata": {
    "colab_type": "text",
    "id": "6gUnuyS8E4a-"
   },
   "source": [
    "Ejecute la siguiente instrucción:"
   ]
  },
  {
   "cell_type": "code",
   "execution_count": null,
   "metadata": {
    "colab": {},
    "colab_type": "code",
    "id": "KrYwzu_ZE4bA"
   },
   "outputs": [],
   "source": [
    "from sompy.visualization.mapview import View2D\n",
    "view2D  = View2D(100,100,\"rand data\",text_size=10)\n",
    "view2D.show(som_iris, col_sz=4, which_dim=\"all\", denormalize=True)"
   ]
  },
  {
   "cell_type": "markdown",
   "metadata": {
    "colab_type": "text",
    "id": "z-Zi_vGdE4bH"
   },
   "source": [
    "Responda:\n",
    "\n",
    "1.3 ¿Qué se está gráficando en las figuras? \n",
    "\n",
    "R/ Se está graficando como la red neuronal mapeó cada una de las variables del conjunto de datos, de manera individual."
   ]
  },
  {
   "cell_type": "markdown",
   "metadata": {
    "colab_type": "text",
    "id": "kpIMvXIRE4bI"
   },
   "source": [
    "1.4 ¿Qué utilidad tienen las gráficas anteriores?\n",
    "\n",
    "R/ Permiten hacerse una idea del comportomaniento de los datos respecto a cada característica."
   ]
  },
  {
   "cell_type": "markdown",
   "metadata": {
    "colab_type": "text",
    "id": "w6xy63i1E4bJ"
   },
   "source": [
    "1.5 ¿De acuerdo con las gráficas anteriores cuáles variables en el problema están correlacionadas?\n",
    "\n",
    "R/ Consideramos que las variables petal length y petal width porían estar correlacionadas ya que sus gráficas individuales son muy similares, lo cual indicaría que su aporte al modelo es proporcional."
   ]
  },
  {
   "cell_type": "code",
   "execution_count": null,
   "metadata": {
    "colab": {},
    "colab_type": "code",
    "id": "zSDqzgZwE4bL",
    "outputId": "e516435c-6f73-4bed-b056-150acdac1155"
   },
   "outputs": [],
   "source": [
    "codebook = som_iris._normalizer.denormalize_by(som_iris.data_raw, som_iris.codebook.matrix)\n",
    "mp = codebook.reshape(som_iris.codebook.mapsize[0],som_iris.codebook.mapsize[1],codebook.shape[1])\n",
    "mp.shape"
   ]
  },
  {
   "cell_type": "markdown",
   "metadata": {
    "colab_type": "text",
    "id": "2G6INDPXE4bX"
   },
   "source": [
    "## Ejercicio 2\n",
    "\n",
    "Repita el proceso anterior para los datos del problema de reconocimiento de dígitos escritos a mano. Ejecute la siguiente celda para cargar los datos"
   ]
  },
  {
   "cell_type": "code",
   "execution_count": null,
   "metadata": {
    "colab": {},
    "colab_type": "code",
    "id": "KX1ASvWVE4bZ"
   },
   "outputs": [],
   "source": [
    "from sklearn.datasets import load_digits\n",
    "from sklearn.decomposition import PCA\n",
    "digits = load_digits(n_class=4)\n",
    "\n",
    "#--------- preprocesamiento--------------------\n",
    "pca = PCA(0.99, whiten=True)\n",
    "data = pca.fit_transform(digits.data)\n",
    "\n",
    "#---------- Datos a usar ----------------------\n",
    "X_digits = data\n",
    "Y = digits.target\n",
    "\n",
    "#Definimos una lista de colores de acuerdo con las clases en Y\n",
    "color_digits = []\n",
    "for i in range(len(Y)):\n",
    "    if Y[i] == 0:\n",
    "        color_digits.append('red')\n",
    "    elif Y[i] == 1:\n",
    "        color_digits.append('blue')\n",
    "    elif Y[i] == 2:\n",
    "        color_digits.append('green')\n",
    "    elif Y[i] == 3:\n",
    "        color_digits.append('yellow')"
   ]
  },
  {
   "cell_type": "code",
   "execution_count": null,
   "metadata": {
    "colab": {},
    "colab_type": "code",
    "id": "GhIrIz2cE4bg"
   },
   "outputs": [],
   "source": [
    "random.seed(19680801)\n",
    "scaler = StandardScaler()\n",
    "Xn_dig = scaler.fit_transform(X_digits);\n",
    "\n",
    "map_size = [50,50]"
   ]
  },
  {
   "cell_type": "markdown",
   "metadata": {
    "colab_type": "text",
    "id": "AP_TOFFXE4bo"
   },
   "source": [
    "Entrene un SOM a partir de los datos cargados en la celda anterior. En este caso utilice un SOM con una capa de neuronas 50x50."
   ]
  },
  {
   "cell_type": "code",
   "execution_count": null,
   "metadata": {
    "colab": {},
    "colab_type": "code",
    "id": "BlyTnzWjE4bo"
   },
   "outputs": [],
   "source": [
    "som_digits = sompy.SOMFactory().build(Xn_dig, map_size, normalization = 'var', initialization='random', neighborhood = 'gaussian', component_names=color_digits)\n",
    "som_digits.train(n_job=1, verbose=False, train_finetune_len=100)"
   ]
  },
  {
   "cell_type": "markdown",
   "metadata": {
    "colab_type": "text",
    "id": "JG6KysLcE4b2"
   },
   "source": [
    "Una vez entrenado el SOM, ejecute la siguiente celda"
   ]
  },
  {
   "cell_type": "code",
   "execution_count": null,
   "metadata": {
    "colab": {},
    "colab_type": "code",
    "id": "LddUYoU6E4b4"
   },
   "outputs": [],
   "source": [
    "umat_digits = sompy.umatrix.UMatrixView(50, 50, 'umatrix', show_axis=True, text_size=8, show_text=True)\n",
    "\n",
    "umat_digits.build_u_matrix(som_digits, distance=1, row_normalized=False)\n",
    "#u_digits.show(som_digits, show_data=False)\n",
    "u_digits.show(som_digits, distance2=1, row_normalized=False, show_data=False, contooor=True, blob=False)\n",
    "#u_digits.show(som_digits,colors=color_digits)"
   ]
  },
  {
   "cell_type": "markdown",
   "metadata": {
    "colab_type": "text",
    "id": "siMOD4YIE4b9"
   },
   "source": [
    "Responda:\n",
    "\n",
    "2.1 ¿Qué diferencia observa entre la matrix U en este caso vs el anterior?\n",
    "\n",
    "R/ Evidentemente es una matriz más compleja porque es un problema de más dimensiones y más clases. En este caso, la distribución de las regiones en el mapa es mas pareja a través de toda la matriz entre clusters."
   ]
  },
  {
   "cell_type": "markdown",
   "metadata": {
    "colab_type": "text",
    "id": "vydMKvQTE4b-"
   },
   "source": [
    "2.2 ¿Qué puede concluir a partir de la gráfica que incluye la ubicación de las neuronas ganadoras para cada muestra de entrada?\n",
    "\n",
    "R/ "
   ]
  },
  {
   "cell_type": "markdown",
   "metadata": {
    "colab_type": "text",
    "id": "SMgARNBzE4cC"
   },
   "source": [
    "## Ejercicio 3\n",
    "\n",
    "En este ejercicio entrenaremos una Red Neuronal Recurrente para la predicción de una serie de tiempo. Este problema corresponde a una configuración many-to-many. En este caso usaremos una serie de tiempo que corresponde al número de pasajeros internacionales por mes, desde el año 1949 hasta el año 1960. La serie de tiempo puede ser consultada en: https://datamarket.com/data/set/22u3/international-airline-passengers-monthly-totals-in-thousands-jan-49-dec-60#!ds=22u3&display=line "
   ]
  },
  {
   "cell_type": "code",
   "execution_count": 3,
   "metadata": {
    "colab": {},
    "colab_type": "code",
    "id": "T7s8lLNzE4cD",
    "outputId": "8c58c2ae-6619-4a8d-c03b-95f14b4498b0"
   },
   "outputs": [
    {
     "data": {
      "image/png": "[encoded data removed]",
      "text/plain": [
       "<Figure size 432x288 with 1 Axes>"
      ]
     },
     "metadata": {
      "needs_background": "light"
     },
     "output_type": "display_data"
    }
   ],
   "source": [
    "import pandas as pd\n",
    "import matplotlib.pyplot as plt\n",
    "dataset = pd.read_csv('DB/international-airline-passengers.csv', usecols=[1], engine='python', skipfooter=3)\n",
    "#---- Tiempos para los datos originales---\n",
    "date_begin = np.datetime64('1949-01')\n",
    "date_end = np.datetime64('1961-01')\n",
    "Time = pd.date_range(date_begin, date_end, freq='M')\n",
    "\n",
    "plt.plot(Time,dataset)\n",
    "plt.title('International airline passengers')\n",
    "plt.xlabel('Time (months)')\n",
    "plt.show()"
   ]
  },
  {
   "cell_type": "markdown",
   "metadata": {
    "colab_type": "text",
    "id": "NNPW9cmRE4cN"
   },
   "source": [
    "El paquete que usaremos en este caso para el entrenamiento de redes neuronales recurrentes es neurolab.\n",
    "Use la instrucción:\n",
    "```!pip3 install neurolab\n",
    "```\n",
    "La documentación puede ser consultada en : https://pythonhosted.org/neurolab/."
   ]
  },
  {
   "cell_type": "code",
   "execution_count": 4,
   "metadata": {
    "colab": {},
    "colab_type": "code",
    "id": "Bu0GwWLME4cN"
   },
   "outputs": [],
   "source": [
    "# convert an array of values into a dataset matrix\n",
    "def create_dataset(dataset, look_back=1):\n",
    "\tdataX, dataY = [], []\n",
    "\tfor i in range(len(dataset)-look_back-1):\n",
    "\t\ta = dataset[i:(i+look_back), 0]\n",
    "\t\tdataX.append(a)\n",
    "\t\tdataY.append(dataset[i + look_back, 0])\n",
    "\treturn np.array(dataX), np.array(dataY)\n",
    "\n",
    "#Mean Absolute Percentage Error para los problemas de regresión\n",
    "def MAPE(Y_est,Y):\n",
    "    N = np.size(Y)\n",
    "    mape = np.sum(abs((Y_est.reshape(N,1) - Y.reshape(N,1))/Y.reshape(N,1)))/N\n",
    "    return mape "
   ]
  },
  {
   "cell_type": "markdown",
   "metadata": {
    "colab_type": "text",
    "id": "PQR_aZ1AE4cW"
   },
   "source": [
    "3.1 Complete el código siguiente y entrene una red neuronal recurrente de Elman, con una capa oculta y una capa de salida. Use función de activación tangente hiperbólica para la capa oculta y lineal para la capa de salida. Use un número de épocas igual a 1000, y un objetivo de error inferior a 0.00001. Inicialice los pesos de las capas aleatoriamente entre [-0.1, 0.1]."
   ]
  },
  {
   "cell_type": "code",
   "execution_count": 6,
   "metadata": {
    "colab": {},
    "colab_type": "code",
    "id": "gJrGxsQTE4cX"
   },
   "outputs": [
    {
     "name": "stdout",
     "output_type": "stream",
     "text": [
      "Epoch: 100; Error: 0.01826861312510988;\n",
      "Epoch: 200; Error: 0.002168906004915245;\n",
      "Epoch: 300; Error: 0.001942013833528485;\n",
      "Epoch: 400; Error: 0.002006988303190462;\n",
      "Epoch: 500; Error: 0.0019172376575260699;\n",
      "Epoch: 600; Error: 0.0019057218336662306;\n",
      "Epoch: 700; Error: 0.002001203484159793;\n",
      "Epoch: 800; Error: 0.0019018304647993231;\n",
      "Epoch: 900; Error: 0.001877348051198474;\n",
      "Epoch: 1000; Error: 0.0018944065656649864;\n",
      "The maximum number of train epochs is reached\n",
      "MAPE = 0.12387424417906974\n"
     ]
    }
   ],
   "source": [
    "import neurolab as nl\n",
    "from sklearn.preprocessing import MinMaxScaler\n",
    "random.seed(19680801)\n",
    "\n",
    "# normalize the dataset\n",
    "scaler = MinMaxScaler(feature_range=(0, 1))\n",
    "dataset = scaler.fit_transform(dataset)\n",
    "\n",
    "# split into train and test sets\n",
    "train_size = int(len(dataset) * 0.7)\n",
    "test_size = len(dataset) - train_size\n",
    "train, test = dataset[0:train_size,:], dataset[train_size:len(dataset),:]\n",
    "\n",
    "# reshape into X=t-look_back+1:t and Y=t+1\n",
    "look_back = 1 # Retardos de tiempo por muestra\n",
    "trainX, trainY = create_dataset(train, look_back)\n",
    "testX, testY = create_dataset(test, look_back)\n",
    "\n",
    "#Esta variable se requiere para definir la red de acuerdo con la librería neurolab. \n",
    "#Define el número de entradas y el rango de valores que toma cada entrada\n",
    "layers = []\n",
    "for i in range(look_back):\n",
    "    layers.append([np.min(trainX), np.max(trainX)])\n",
    "\n",
    "# Crear la red e inicializar los pesos. \n",
    "net = nl.net.newelm(layers, [10, 1], [nl.trans.TanSig(), nl.trans.PureLin()])\n",
    "net.layers[0].initf = nl.init.InitRand([-0.1, 0.1], 'wb')\n",
    "net.layers[1].initf = nl.init.InitRand([-0.1, 0.1], 'wb')\n",
    "net.init()\n",
    "\n",
    "# Entrenar la red con los datos de entrenamiento\n",
    "error = net.train(trainX, trainY.reshape(trainX.shape[0], 1), epochs=1000, show=100, goal=0.00001)\n",
    "\n",
    "# Evaluar la red con los datos de test\n",
    "output = net.sim(testX)\n",
    "\n",
    "# Calculo de error\n",
    "Error = MAPE(output,testY)\n",
    "\n",
    "print('MAPE = ' + str(np.mean(Error)))"
   ]
  },
  {
   "cell_type": "markdown",
   "metadata": {
    "colab_type": "text",
    "id": "G1pbZN0aE4cd"
   },
   "source": [
    "3.1 Haga una gráfica de la salida real vs la mejor predicción hecha por la red. Recuerde incluir los tiempos apropiados en el eje x y usar el método plt.legend() para identificar cuál es la serie real y cual la predicción."
   ]
  },
  {
   "cell_type": "code",
   "execution_count": null,
   "metadata": {
    "colab": {},
    "colab_type": "code",
    "id": "hujpQgv7E4cg"
   },
   "outputs": [],
   "source": [
    "# Gráfica\n",
    "plt..."
   ]
  },
  {
   "cell_type": "markdown",
   "metadata": {
    "colab_type": "text",
    "id": "Q-F0Z4e3E4cn"
   },
   "source": [
    "3.2 Una vez compoletado el código realice los experimentos necesarios para llenar la siguiente tabla: "
   ]
  },
  {
   "cell_type": "code",
   "execution_count": null,
   "metadata": {
    "colab": {
     "referenced_widgets": [
      "d1ec81dcabdc493eab031eaaeb087206"
     ]
    },
    "colab_type": "code",
    "id": "RfPiUq5DE4co",
    "outputId": "0aa574ff-2a59-493f-f285-fc2d9b1ee45a"
   },
   "outputs": [],
   "source": [
    "import pandas as pd\n",
    "import qgrid\n",
    "df_types = pd.DataFrame({\n",
    "    'Retardos de tiempo por muestra' : pd.Series([1,1,1,1,1,1,2,2,2,2,2,2,3,3,3,3,3,3,4,4,4,4,4,4]),\n",
    "    'Neuronas por capa' : pd.Series([5,10,15,20,25,30,5,10,15,20,25,30,5,10,15,20,25,30,5,10,15,20,25,30])})\n",
    "\n",
    "df_types[\"MAPE\"] = \"\"\n",
    "df_types[\"MAPE\"][0] = \"0.124732765\"\n",
    "df_types.set_index(['Retardos de tiempo por muestra','Neuronas por capa'], inplace=True)\n",
    "df_types.sort_index(inplace=True)\n",
    "qgrid_widget = qgrid.show_grid(df_types, show_toolbar=False)\n",
    "qgrid_widget"
   ]
  },
  {
   "cell_type": "markdown",
   "metadata": {
    "colab_type": "text",
    "id": "_SZRqE1JE4cw"
   },
   "source": [
    "Ejecute la siguiente instrucción para dejar guardados en el notebook los resultados de las pruebas."
   ]
  },
  {
   "cell_type": "code",
   "execution_count": null,
   "metadata": {
    "colab": {},
    "colab_type": "code",
    "id": "9neXNa3vE4cx",
    "outputId": "065b376d-3d5e-41f0-8d52-1670fce95fd9"
   },
   "outputs": [],
   "source": [
    "qgrid_widget.get_changed_df()"
   ]
  },
  {
   "cell_type": "markdown",
   "metadata": {
    "colab_type": "text",
    "id": "BKhX2KXNE4c6"
   },
   "source": [
    "Responda:\n",
    "\n",
    "3.3 ¿Cuál fue la mejor configuración encontrada?\n",
    "\n",
    "R/"
   ]
  },
  {
   "cell_type": "markdown",
   "metadata": {
    "colab_type": "text",
    "id": "MAv0Sl2hE4c7"
   },
   "source": [
    "3.4 ¿Porqué seguir aumentando los tiempos de retardo no implica siempre una mejora en la predicción del modelo?\n",
    "\n",
    "R/"
   ]
  },
  {
   "cell_type": "markdown",
   "metadata": {
    "colab_type": "text",
    "id": "slX5fTYKE4c7"
   },
   "source": [
    "## *Ejercicio 4\n",
    "\n",
    "Este ejercicio es opcional. Use una red neuronal tipo MLP para reolver el mismo problema de predicción del número de pasajeros y compare el resultado con el obtenido usando la red recurrente."
   ]
  },
  {
   "cell_type": "code",
   "execution_count": null,
   "metadata": {
    "colab": {},
    "colab_type": "code",
    "id": "jnN0AZJwE4c9"
   },
   "outputs": [],
   "source": []
  }
 ],
 "metadata": {
  "colab": {
   "name": "Lab_4.2_RNN_SOM.ipynb",
   "provenance": []
  },
  "kernelspec": {
   "display_name": "Python 3",
   "language": "python",
   "name": "python3"
  },
  "language_info": {
   "codemirror_mode": {
    "name": "ipython",
    "version": 3
   },
   "file_extension": ".py",
   "mimetype": "text/x-python",
   "name": "python",
   "nbconvert_exporter": "python",
   "pygments_lexer": "ipython3",
   "version": "3.7.4"
  }
 },
 "nbformat": 4,
 "nbformat_minor": 1
}
