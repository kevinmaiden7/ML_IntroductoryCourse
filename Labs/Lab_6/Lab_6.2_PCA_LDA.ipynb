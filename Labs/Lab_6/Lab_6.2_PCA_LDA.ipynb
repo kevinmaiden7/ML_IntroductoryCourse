{
 "cells": [
  {
   "cell_type": "markdown",
   "metadata": {},
   "source": [
    "# Laboratorio 6 Parte 2\n",
    "\n",
    "### Reducción de dimensión: PCA y LDA\n",
    "\n",
    "### 2019-II\n",
    "\n",
    "#### Profesor: Julián D. Arias Londoño\n",
    "#### julian.ariasl@udea.edu.co"
   ]
  },
  {
   "cell_type": "markdown",
   "metadata": {},
   "source": [
    "## Estudiantes\n",
    "\n",
    "#### Primer Integrante: Kevin Martínez Gallego\n",
    "#### Segundo Integrante: Andrés Mauricio Álvarez Ortiz"
   ]
  },
  {
   "cell_type": "markdown",
   "metadata": {},
   "source": [
    "## Guía del laboratorio\n",
    "\n",
    "En esta archivo va a encontrar tanto celdas de código cómo celdas de texto con las instrucciones para desarrollar el laboratorio.\n",
    "\n",
    "Lea atentamente las instrucciones entregadas en las celdas de texto correspondientes y proceda con la solución de las preguntas planteadas.\n",
    "\n",
    "Nota: no olvide ir ejecutando las celdas de código de arriba hacia abajo para que no tenga errores de importación de librerías o por falta de definición de variables."
   ]
  },
  {
   "cell_type": "markdown",
   "metadata": {},
   "source": [
    "## Indicaciones\n",
    "\n",
    "Este ejercicio tiene como objetivo implementar varias técnicas de extracción de características (PCA y LDA) y usar SVM para resolver un problema de clasificación multietiqueta o multiclase.\n",
    "\n",
    "\n",
    "\n"
   ]
  },
  {
   "cell_type": "code",
   "execution_count": 6,
   "metadata": {},
   "outputs": [],
   "source": [
    "import warnings\n",
    "warnings.filterwarnings(\"ignore\")\n",
    "\n",
    "\n",
    "import numpy as np\n",
    "import matplotlib.pyplot as plt\n",
    "from sklearn import svm\n",
    "from sklearn.model_selection import KFold\n",
    "from sklearn.decomposition import PCA\n",
    "from sklearn.discriminant_analysis import LinearDiscriminantAnalysis as LDA\n",
    "from sklearn.preprocessing import scale\n",
    "\n",
    "from numpy import round\n",
    "\n",
    "import time"
   ]
  },
  {
   "cell_type": "markdown",
   "metadata": {},
   "source": [
    "\n",
    "Para el problema de clasificación usaremos la siguiente base de datos: https://archive.ics.uci.edu/ml/datasets/Cardiotocography\n",
    "\n",
    "\n",
    "\n",
    "Analice la base de datos, sus características, su variable de salida y el contexto del problema."
   ]
  },
  {
   "cell_type": "markdown",
   "metadata": {},
   "source": [
    "\n",
    "\n",
    "Analice y comprenda la siguiente celda de código donde se importan las librerías a usar y se carga la base de datos."
   ]
  },
  {
   "cell_type": "code",
   "execution_count": 11,
   "metadata": {},
   "outputs": [
    {
     "name": "stdout",
     "output_type": "stream",
     "text": [
      "Dimensiones de la base de datos de entrenamiento. dim de X: (2126, 22)\tdim de Y: (2126, 1)\n",
      "(array([1, 2, 3]), array([1655,  295,  176], dtype=int64))\n"
     ]
    }
   ],
   "source": [
    "#cargamos la bd de entrenamiento\n",
    "db = np.loadtxt('DB/DB_Fetal_Cardiotocograms.txt',delimiter='\\t')  # Assuming tab-delimiter\n",
    "\n",
    "X = db[:,0:22]\n",
    "\n",
    "#Solo para dar formato a algunas variables\n",
    "for i in range(1,7):\n",
    "    X[:,i] = X[:,i]*1000\n",
    "\n",
    "X = X\n",
    "Y = db[:,22]\n",
    "\n",
    "#Para darle formato de entero a la variable de salida\n",
    "\n",
    "Y_l = []\n",
    "for i in Y:\n",
    "    Y_l.append(int(i))\n",
    "Y = np.asarray(Y_l)\n",
    "Y = np.expand_dims(Y,1)\n",
    "print (\"Dimensiones de la base de datos de entrenamiento. dim de X: \" + str(np.shape(X)) + \"\\tdim de Y: \" + str(np.shape(Y)))\n",
    "print(np.unique(Y, return_counts = True))"
   ]
  },
  {
   "cell_type": "code",
   "execution_count": 12,
   "metadata": {},
   "outputs": [],
   "source": [
    "def classification_error(y_est, y_real):\n",
    "    err = 0\n",
    "    for y_e, y_r in zip(y_est, y_real):\n",
    "\n",
    "        if y_e != y_r:\n",
    "            err += 1\n",
    "\n",
    "    return err/np.size(y_est)"
   ]
  },
  {
   "cell_type": "markdown",
   "metadata": {},
   "source": [
    "## Ejercicio 1: Entrenamiento sin extracción de características\n",
    "\n",
    "En la siguiente celda de código no tiene que completar nada. Analice, comprenda y ejecute el código y tenga en cuenta los resultados para completar la tabla que se le pide más abajo."
   ]
  },
  {
   "cell_type": "code",
   "execution_count": 13,
   "metadata": {},
   "outputs": [],
   "source": [
    "def executeSVM():\n",
    "    #Para calcular el costo computacional\n",
    "    tiempo_i = time.time()\n",
    "\n",
    "    #Creamos el clasificador SVM. Tenga en cuenta que el problema es multiclase. \n",
    "    clf = svm.SVC(decision_function_shape='ovr', kernel='rbf', C = 100, gamma=0.0001)\n",
    "\n",
    "    #Implemetamos la metodología de validación\n",
    "\n",
    "    Errores = np.ones(10)\n",
    "    j = 0\n",
    "    kf = KFold(n_splits=10)\n",
    "\n",
    "    for train_index, test_index in kf.split(X):\n",
    "\n",
    "        X_train, X_test = X[train_index], X[test_index]\n",
    "        y_train, y_test = Y[train_index], Y[test_index]  \n",
    "\n",
    "        #Aquí se entran y se valida el modelo sin hacer selección de características\n",
    "\n",
    "        ######\n",
    "\n",
    "        # Entrenamiento el modelo.\n",
    "        model = clf.fit(X_train,y_train)\n",
    "\n",
    "        # Validación del modelo\n",
    "        ypred = model.predict(X_test)\n",
    "\n",
    "        #######\n",
    "\n",
    "        Errores[j] = classification_error(ypred, y_test)\n",
    "        j+=1\n",
    "\n",
    "    error = round(np.mean(Errores),4)\n",
    "    std = round(np.std(Errores),4)\n",
    "    execTime = round(time.time()-tiempo_i,4)\n",
    "        \n",
    "    print(\"\\nError de validación sin aplicar extracción: \" + str(np.mean(Errores)) + \" +/- \" + str(np.std(Errores)))\n",
    "\n",
    "    print (\"\\n\\nTiempo total de ejecución: \" + str(time.time()-tiempo_i) + \" segundos.\")\n",
    "    \n",
    "    return(error, std, execTime)\n",
    "\n",
    "    #print str(ypred)\n",
    "    #print str(y_test) "
   ]
  },
  {
   "cell_type": "markdown",
   "metadata": {},
   "source": [
    "\n",
    "\n",
    "1.1 Cuando se aplica PCA ¿es necesario estandarizar los datos? Si, No y por qué? En qué consiste dicha estandarización?\n",
    "\n",
    "R/: Si, es necesario estándarizar o normalizar los datos. Este procedimiento se realiza con el objetivo de ajustar los datos para el correcto cálculo de las proyecciones de PCA, el cual requiere que los elementos de la matriz X tengan media cero.\n",
    "    \n",
    "1.2 La proyección de los datos que realiza PCA busca optimizar un medida, ¿Cuál? Explique.\n",
    "\n",
    "R/: Inicialmente, la medida de información en PCA está relacionada al nivel de variación de las variables; se busca encontrar una transformación que entrega la mayor variación. Por otro lado, para conservar la estructura original de los datos es necesario minimizar las distancias entre los puntos (muestras) y sus respectivas proyecciones."
   ]
  },
  {
   "cell_type": "markdown",
   "metadata": {},
   "source": [
    "## Ejercicio 2: Entrenamiento con extracción de características\n",
    "\n",
    "En la siguiente celda, complete el código donde le sea indicado. Consulte la documentación oficial de la librería mlxtend para los métodos de extracción de características, en este caso para PCA está en este [link](https://scikit-learn.org/stable/modules/generated/sklearn.decomposition.PCA.html).\n",
    "\n",
    "En este ejercicio hará uso del método <font color='blue'>extract_features</font>  que recibe como parámetro el tipo de extracción si es PCA o LDA y el número de componentes o discriminantes, una vez se haga la transformación de las carácteristicas, se continua con el procedimiento del modelo a entrenar, en este caso es SVM."
   ]
  },
  {
   "cell_type": "code",
   "execution_count": 14,
   "metadata": {},
   "outputs": [],
   "source": [
    "'''\n",
    "Feature Extraction Function\n",
    "#Recibe 2 parámetros: \n",
    "1. el tipo de método de extracción (pca o lda como string),\n",
    "2. el número componentes (para pca) o el número de discriminantes (para lda)\n",
    "\n",
    "#Para este laboratorio solo se le pedirá trabajar con PCA, LDA es opcional.\n",
    "'''\n",
    "\n",
    "def extract_features(tipo, n):\n",
    "    \n",
    "    if tipo == 'pca':\n",
    "    \n",
    "        ext = PCA(n_components=n)\n",
    "    \n",
    "        return ext\n",
    "\n",
    "    elif tipo == 'lda':\n",
    "        \n",
    "        ext = LDA(n_components=n)\n",
    "        \n",
    "        return ext\n",
    "    \n",
    "    else:\n",
    "        print (\"Ingrese un método válido (pca o lda)\\n\")"
   ]
  },
  {
   "cell_type": "code",
   "execution_count": 17,
   "metadata": {},
   "outputs": [],
   "source": [
    "#Estandarizamos los datos\n",
    "X = scale(X)\n",
    "\n",
    "def executePCA(method, n_components):\n",
    "    \n",
    "    #Creamos el clasificador SVM. Tenga en cuenta que el problema es multiclase. \n",
    "    clf = svm.SVC(decision_function_shape='ovr', kernel='rbf', C = 100, gamma=0.0001)\n",
    "    \n",
    "    #Para calcular el costo computacional\n",
    "    tiempo_i = time.time()\n",
    "\n",
    "    #Implemetamos la metodología de validación cross validation con 10 folds\n",
    "\n",
    "    Errores = np.ones(10)\n",
    "    j = 0\n",
    "    kf = KFold(n_splits=10)\n",
    "\n",
    "    for train_index, test_index in kf.split(X):\n",
    "\n",
    "        #Aquí se aplica la extracción de características por PCA\n",
    "        #Complete el código\n",
    "\n",
    "        #Complete el código llamando el método extract_features. Tenga en cuenta lo que le pide el ejercicio 3.1\n",
    "        ex = extract_features(method, n_components)\n",
    "\n",
    "        #Fit de PCA\n",
    "        ex.fit(X)#Complete el código con el fit correspondiente\n",
    "\n",
    "        #Transforme las variables y genere el nuevo espacio de características de menor dimensión\n",
    "        X_ex = ex.transform(X) #complete el código aquí para hacer la transformación\n",
    "\n",
    "        #Se aplica CV-10\n",
    "\n",
    "        X_train, X_test = X_ex[train_index], X_ex[test_index]\n",
    "        y_train, y_test = Y[train_index], Y[test_index]  \n",
    "\n",
    "        #Aquí se entrena y se valida el modelo luego de aplicar extracción de características con PCA o LDA\n",
    "\n",
    "        ######\n",
    "\n",
    "        # Entrenamiento el modelo.\n",
    "        model = clf.fit(X_train,y_train)\n",
    "\n",
    "        # Validación del modelo\n",
    "        ypred = model.predict(X_test)\n",
    "\n",
    "        #######\n",
    "\n",
    "        Errores[j] = classification_error(ypred, y_test)\n",
    "        j+=1\n",
    "\n",
    "        \n",
    "    error = round(np.mean(Errores),4)\n",
    "    std = round(np.std(Errores),4)\n",
    "    execTime = round(time.time()-tiempo_i,4)\n",
    "\n",
    "    print(\"\\nError de validación aplicando extracción: \" + str(np.mean(Errores)) + \" +/- \" + str(np.std(Errores)))\n",
    "\n",
    "    print(\"\\nEficiencia en validación aplicando extracción: \" + str((1-np.mean(Errores))*100) + \"%\" )\n",
    "\n",
    "    print (\"\\n\\nTiempo total de ejecución: \" + str(time.time()-tiempo_i) + \" segundos.\")\n",
    "    \n",
    "    return(error, std, execTime)\n"
   ]
  },
  {
   "cell_type": "markdown",
   "metadata": {},
   "source": [
    "## Ejercicio 3\n",
    "\n",
    "3.1 En la celda de código anterior, varíe los parámetros correspondientes al número de componentes principales a tener en cuenta (use 2, 10, 19 y 21 componentes principales) para PCA y complete la siguiente tabla de resultados:"
   ]
  },
  {
   "cell_type": "code",
   "execution_count": 21,
   "metadata": {},
   "outputs": [
    {
     "name": "stdout",
     "output_type": "stream",
     "text": [
      "\n",
      "Error de validación sin aplicar extracción: 0.07336345114713438 +/- 0.043533331744924374\n",
      "\n",
      "\n",
      "Tiempo total de ejecución: 0.6435832977294922 segundos.\n",
      "\n",
      "Error de validación aplicando extracción: 0.21483745238727964 +/- 0.1709424253642628\n",
      "\n",
      "Eficiencia en validación aplicando extracción: 78.51625476127204%\n",
      "\n",
      "\n",
      "Tiempo total de ejecución: 1.369903802871704 segundos.\n",
      "\n",
      "Error de validación aplicando extracción: 0.08932589246168837 +/- 0.06387058313574974\n",
      "\n",
      "Eficiencia en validación aplicando extracción: 91.06741075383115%\n",
      "\n",
      "\n",
      "Tiempo total de ejecución: 0.7350757122039795 segundos.\n",
      "\n",
      "Error de validación aplicando extracción: 0.07383514926034193 +/- 0.04357915071494415\n",
      "\n",
      "Eficiencia en validación aplicando extracción: 92.6164850739658%\n",
      "\n",
      "\n",
      "Tiempo total de ejecución: 0.7053482532501221 segundos.\n",
      "\n",
      "Error de validación aplicando extracción: 0.07336345114713438 +/- 0.043533331744924374\n",
      "\n",
      "Eficiencia en validación aplicando extracción: 92.66365488528656%\n",
      "\n",
      "\n",
      "Tiempo total de ejecución: 0.8551223278045654 segundos.\n"
     ]
    },
    {
     "data": {
      "application/vnd.jupyter.widget-view+json": {
       "model_id": "e64c4f47aad948b8b507938ba498c8ad",
       "version_major": 2,
       "version_minor": 0
      },
      "text/plain": [
       "QgridWidget(grid_options={'fullWidthRows': True, 'syncColumnCellResize': True, 'forceFitColumns': True, 'defau…"
      ]
     },
     "metadata": {},
     "output_type": "display_data"
    }
   ],
   "source": [
    "import pandas as pd\n",
    "import qgrid\n",
    "df_types = pd.DataFrame({\n",
    "    'Tecnica' : pd.Series(['SVM sin extracción','SVM + PCA','SVM + PCA','SVM + PCA','SVM + PCA']),\n",
    "    '# de componentes' : pd.Series(['N/A',2,10,19,21]),\n",
    "   })\n",
    "df_types[\"Error de validación\"] = \"\"\n",
    "df_types[\"IC(std)\"] = \"\"\n",
    "df_types[\"Eficiencia\"] = \"\"\n",
    "df_types[\"Tiempo de ejecución\"] = \"\"\n",
    "\n",
    "df_types.set_index(['Tecnica','# de componentes'], inplace=True)\n",
    "\n",
    "index = 0\n",
    "\n",
    "err, std, executionTime = executeSVM()\n",
    "df_types[\"Error de validación\"][index] = err\n",
    "df_types[\"IC(std)\"][index] = std\n",
    "df_types[\"Eficiencia\"][index] = 1 - err\n",
    "df_types[\"Tiempo de ejecución\"][index] = executionTime\n",
    "index += 1\n",
    "\n",
    "n_components = [2, 10, 19, 21]\n",
    "\n",
    "for i in range(np.size(n_components)):\n",
    "    err, std, executionTime = executePCA('pca', n_components[i])\n",
    "    df_types[\"Error de validación\"][index] = err\n",
    "    df_types[\"IC(std)\"][index] = std\n",
    "    df_types[\"Eficiencia\"][index] = 1 - err\n",
    "    df_types[\"Tiempo de ejecución\"][index] = executionTime\n",
    "    index += 1\n",
    "\n",
    "#df_types.sort_index(inplace=True)\n",
    "qgrid_widget = qgrid.show_grid(df_types, show_toolbar=False)\n",
    "qgrid_widget"
   ]
  },
  {
   "cell_type": "code",
   "execution_count": 22,
   "metadata": {},
   "outputs": [
    {
     "data": {
      "text/html": [
       "<div>\n",
       "<style scoped>\n",
       "    .dataframe tbody tr th:only-of-type {\n",
       "        vertical-align: middle;\n",
       "    }\n",
       "\n",
       "    .dataframe tbody tr th {\n",
       "        vertical-align: top;\n",
       "    }\n",
       "\n",
       "    .dataframe thead th {\n",
       "        text-align: right;\n",
       "    }\n",
       "</style>\n",
       "<table border=\"1\" class=\"dataframe\">\n",
       "  <thead>\n",
       "    <tr style=\"text-align: right;\">\n",
       "      <th></th>\n",
       "      <th></th>\n",
       "      <th>Error de validación</th>\n",
       "      <th>IC(std)</th>\n",
       "      <th>Eficiencia</th>\n",
       "      <th>Tiempo de ejecución</th>\n",
       "    </tr>\n",
       "    <tr>\n",
       "      <th>Tecnica</th>\n",
       "      <th># de componentes</th>\n",
       "      <th></th>\n",
       "      <th></th>\n",
       "      <th></th>\n",
       "      <th></th>\n",
       "    </tr>\n",
       "  </thead>\n",
       "  <tbody>\n",
       "    <tr>\n",
       "      <td>SVM sin extracción</td>\n",
       "      <td>N/A</td>\n",
       "      <td>0.0734</td>\n",
       "      <td>0.0435</td>\n",
       "      <td>0.9266</td>\n",
       "      <td>0.6436</td>\n",
       "    </tr>\n",
       "    <tr>\n",
       "      <td rowspan=\"4\" valign=\"top\">SVM + PCA</td>\n",
       "      <td>2</td>\n",
       "      <td>0.2148</td>\n",
       "      <td>0.1709</td>\n",
       "      <td>0.7852</td>\n",
       "      <td>1.3648</td>\n",
       "    </tr>\n",
       "    <tr>\n",
       "      <td>10</td>\n",
       "      <td>0.0893</td>\n",
       "      <td>0.0639</td>\n",
       "      <td>0.9107</td>\n",
       "      <td>0.7351</td>\n",
       "    </tr>\n",
       "    <tr>\n",
       "      <td>19</td>\n",
       "      <td>0.0738</td>\n",
       "      <td>0.0436</td>\n",
       "      <td>0.9262</td>\n",
       "      <td>0.7003</td>\n",
       "    </tr>\n",
       "    <tr>\n",
       "      <td>21</td>\n",
       "      <td>0.0734</td>\n",
       "      <td>0.0435</td>\n",
       "      <td>0.9266</td>\n",
       "      <td>0.8501</td>\n",
       "    </tr>\n",
       "  </tbody>\n",
       "</table>\n",
       "</div>"
      ],
      "text/plain": [
       "                                    Error de validación IC(std) Eficiencia  \\\n",
       "Tecnica            # de componentes                                          \n",
       "SVM sin extracción N/A                           0.0734  0.0435     0.9266   \n",
       "SVM + PCA          2                             0.2148  0.1709     0.7852   \n",
       "                   10                            0.0893  0.0639     0.9107   \n",
       "                   19                            0.0738  0.0436     0.9262   \n",
       "                   21                            0.0734  0.0435     0.9266   \n",
       "\n",
       "                                    Tiempo de ejecución  \n",
       "Tecnica            # de componentes                      \n",
       "SVM sin extracción N/A                           0.6436  \n",
       "SVM + PCA          2                             1.3648  \n",
       "                   10                            0.7351  \n",
       "                   19                            0.7003  \n",
       "                   21                            0.8501  "
      ]
     },
     "execution_count": 22,
     "metadata": {},
     "output_type": "execute_result"
    }
   ],
   "source": [
    "qgrid_widget.get_changed_df()"
   ]
  },
  {
   "cell_type": "markdown",
   "metadata": {},
   "source": [
    "3.2 Analizando los resultados del punto anterior que puede decir de la viabilidad de aplicar PCA para hacer reducción de dimensión en este problema?\n",
    "\n",
    "R/: En este problema no evidenciamos una mejora significativa en el rendimiento del modelo al aplicar PCA.\n"
   ]
  },
  {
   "cell_type": "markdown",
   "metadata": {},
   "source": [
    "3.3 Explique en sus palabras la principal ventaja que tiene LDA sobre PCA para resolver problemas de clasificación.\n",
    "\n",
    "R/: PCA es un método no supervisado que NO nos garantiza encontrar una transformación que mantenga la capacidad discriminante entre clases, debido a que se centra en maximizar la variabilidad de los datos. Sin embargo, LDA sí fue pensado exclusivamente como un método supervisado para abordar problemas de clasificación, tal que su objetivo es justamente mantener la capacidad discriminante de los datos."
   ]
  },
  {
   "cell_type": "markdown",
   "metadata": {},
   "source": [
    "3.3 Explique en sus palabras las diferencias que existen entre los métodos de selección de características y los métodos de extracción de características vistos en el curso.\n",
    "\n",
    "R/: La selección de características se enfoca en encontrar un subconjunto de las características originales, mientras que la extracción de características se enfoca en construir un conjunto nuevo de variables (mediante combinaciones lineales) a partir de las características originales."
   ]
  },
  {
   "cell_type": "markdown",
   "metadata": {},
   "source": [
    "## * Ejercicio 4: LDA (Punto opcional)"
   ]
  },
  {
   "cell_type": "markdown",
   "metadata": {},
   "source": [
    "En este punto hará uso del método <font color='blue'>extract_features</font>  que recibe como parámetro el tipo de extracción si es PCA o LDA y el número de discriminantes, una vez se haga la transformación de las carácteristicas, se continua con el procedimiento del modelo a entrenar, en este caso es SVM. Esta es documentación para LDA [link ](https://scikit-learn.org/stable/modules/generated/sklearn.discriminant_analysis.LinearDiscriminantAnalysis.html)\n",
    "\n"
   ]
  },
  {
   "cell_type": "code",
   "execution_count": null,
   "metadata": {},
   "outputs": [],
   "source": [
    "#Para calcular el costo computacional\n",
    "tiempo_i = time.time()\n",
    "\n",
    "#Estandarizamos los datos\n",
    "X = scale(X)\n",
    "\n",
    "#Implemetamos la metodología de validación cross validation con 10 folds\n",
    "\n",
    "Errores = np.ones(10)\n",
    "j = 0\n",
    "kf = KFold(n_splits=10)\n",
    "\n",
    "for train_index, test_index in kf.split(X):\n",
    "    \n",
    "    \n",
    "    #Aquí se aplica la extracción de características por LDA\n",
    "    \n",
    "    #OPCIONAL\n",
    "\n",
    "    ex = #Complete el código llamando el método extract_features.\n",
    "\n",
    "    #Fit de LDA\n",
    "    ex =#Complete el código con el fit correspondiente\n",
    "    \n",
    "    #Transforme las variables y genere el nuevo espacio de características de menor dimensión\n",
    "    X_ex =   #complete el código aquí para hacer la transformación\n",
    "    \n",
    "    \n",
    "    #Se aplica CV-10\n",
    "    \n",
    "    X_train, X_test = X_ex[train_index], X_ex[test_index]\n",
    "    y_train, y_test = Y[train_index], Y[test_index]  \n",
    "   \n",
    "    #Aquí se entrena y se valida el modelo luego de aplicar extracción de características con PCA o LDA\n",
    "    \n",
    "    ######\n",
    "    \n",
    "    # Entrenamiento el modelo.\n",
    "    model = clf.fit(X_train,y_train)\n",
    "\n",
    "    # Validación del modelo\n",
    "    ypred = model.predict(X_test)\n",
    "    \n",
    "    #######\n",
    "\n",
    "    Errores[j] = classification_error(ypred, y_test)\n",
    "    j+=1\n",
    "        \n",
    "\n",
    "print(\"\\nError de validación aplicando extracción: \" + str(np.mean(Errores)) + \" +/- \" + str(np.std(Errores)))\n",
    "\n",
    "print(\"\\nEficiencia en validación aplicando extracción: \" + str((1-np.mean(Errores))*100) + \"%\" )\n",
    "\n",
    "print (\"\\n\\nTiempo total de ejecución: \" + str(time.time()-tiempo_i) + \" segundos.\")\n"
   ]
  },
  {
   "cell_type": "code",
   "execution_count": 3,
   "metadata": {},
   "outputs": [
    {
     "data": {
      "application/vnd.jupyter.widget-view+json": {
       "model_id": "d2ea98149d8c469e976af63878419490",
       "version_major": 2,
       "version_minor": 0
      },
      "text/plain": [
       "QgridWidget(grid_options={'fullWidthRows': True, 'syncColumnCellResize': True, 'forceFitColumns': True, 'defau…"
      ]
     },
     "metadata": {},
     "output_type": "display_data"
    }
   ],
   "source": [
    "import pandas as pd\n",
    "import qgrid\n",
    "df_types = pd.DataFrame({\n",
    "    'Tecnica' : pd.Series(['SVM sin extracción','SVM + LDA','SVM + LDA','SVM + LDA','SVM + LDA']),\n",
    "    '# de discriminantes' : pd.Series(['N/A',2,10,19,21]),\n",
    "   })\n",
    "df_types[\"Error de validación\"] = \"\"\n",
    "df_types[\"IC(std)\"] = \"\"\n",
    "df_types[\"Eficiencia\"] = \"\"\n",
    "df_types[\"Tiempo de ejecución\"] = \"\"\n",
    "\n",
    "df_types.set_index(['Tecnica','# de discriminantes'], inplace=True)\n",
    "\n",
    "#df_types.sort_index(inplace=True)\n",
    "qgrid_widget2 = qgrid.show_grid(df_types, show_toolbar=False)\n",
    "qgrid_widget2"
   ]
  },
  {
   "cell_type": "code",
   "execution_count": 4,
   "metadata": {},
   "outputs": [
    {
     "data": {
      "text/html": [
       "<div>\n",
       "<style scoped>\n",
       "    .dataframe tbody tr th:only-of-type {\n",
       "        vertical-align: middle;\n",
       "    }\n",
       "\n",
       "    .dataframe tbody tr th {\n",
       "        vertical-align: top;\n",
       "    }\n",
       "\n",
       "    .dataframe thead th {\n",
       "        text-align: right;\n",
       "    }\n",
       "</style>\n",
       "<table border=\"1\" class=\"dataframe\">\n",
       "  <thead>\n",
       "    <tr style=\"text-align: right;\">\n",
       "      <th></th>\n",
       "      <th></th>\n",
       "      <th>Error de validación</th>\n",
       "      <th>IC(std)</th>\n",
       "      <th>Eficiencia</th>\n",
       "      <th>Tiempo de ejecución</th>\n",
       "    </tr>\n",
       "    <tr>\n",
       "      <th>Tecnica</th>\n",
       "      <th># de discriminantes</th>\n",
       "      <th></th>\n",
       "      <th></th>\n",
       "      <th></th>\n",
       "      <th></th>\n",
       "    </tr>\n",
       "  </thead>\n",
       "  <tbody>\n",
       "    <tr>\n",
       "      <th>SVM sin extracción</th>\n",
       "      <th>N/A</th>\n",
       "      <td></td>\n",
       "      <td></td>\n",
       "      <td></td>\n",
       "      <td></td>\n",
       "    </tr>\n",
       "    <tr>\n",
       "      <th rowspan=\"4\" valign=\"top\">SVM + LDA</th>\n",
       "      <th>2</th>\n",
       "      <td></td>\n",
       "      <td></td>\n",
       "      <td></td>\n",
       "      <td></td>\n",
       "    </tr>\n",
       "    <tr>\n",
       "      <th>10</th>\n",
       "      <td></td>\n",
       "      <td></td>\n",
       "      <td></td>\n",
       "      <td></td>\n",
       "    </tr>\n",
       "    <tr>\n",
       "      <th>19</th>\n",
       "      <td></td>\n",
       "      <td></td>\n",
       "      <td></td>\n",
       "      <td></td>\n",
       "    </tr>\n",
       "    <tr>\n",
       "      <th>21</th>\n",
       "      <td></td>\n",
       "      <td></td>\n",
       "      <td></td>\n",
       "      <td></td>\n",
       "    </tr>\n",
       "  </tbody>\n",
       "</table>\n",
       "</div>"
      ],
      "text/plain": [
       "                                       Error de validación IC(std) Eficiencia  \\\n",
       "Tecnica            # de discriminantes                                          \n",
       "SVM sin extracción N/A                                                          \n",
       "SVM + LDA          2                                                            \n",
       "                   10                                                           \n",
       "                   19                                                           \n",
       "                   21                                                           \n",
       "\n",
       "                                       Tiempo de ejecución  \n",
       "Tecnica            # de discriminantes                      \n",
       "SVM sin extracción N/A                                      \n",
       "SVM + LDA          2                                        \n",
       "                   10                                       \n",
       "                   19                                       \n",
       "                   21                                       "
      ]
     },
     "execution_count": 4,
     "metadata": {},
     "output_type": "execute_result"
    }
   ],
   "source": [
    "qgrid_widget2.get_changed_df()"
   ]
  },
  {
   "cell_type": "code",
   "execution_count": null,
   "metadata": {},
   "outputs": [],
   "source": []
  }
 ],
 "metadata": {
  "kernelspec": {
   "display_name": "Python 3",
   "language": "python",
   "name": "python3"
  },
  "language_info": {
   "codemirror_mode": {
    "name": "ipython",
    "version": 3
   },
   "file_extension": ".py",
   "mimetype": "text/x-python",
   "name": "python",
   "nbconvert_exporter": "python",
   "pygments_lexer": "ipython3",
   "version": "3.7.4"
  }
 },
 "nbformat": 4,
 "nbformat_minor": 2
}
