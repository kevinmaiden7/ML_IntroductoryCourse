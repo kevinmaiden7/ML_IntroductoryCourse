{
  "nbformat": 4,
  "nbformat_minor": 0,
  "metadata": {
    "kernelspec": {
      "display_name": "Python 3",
      "language": "python",
      "name": "python3"
    },
    "language_info": {
      "codemirror_mode": {
        "name": "ipython",
        "version": 3
      },
      "file_extension": ".py",
      "mimetype": "text/x-python",
      "name": "python",
      "nbconvert_exporter": "python",
      "pygments_lexer": "ipython3",
      "version": "3.7.1"
    },
    "colab": {
      "name": "Lab_2.2_No_Parametrico.ipynb",
      "provenance": []
    }
  },
  "cells": [
    {
      "cell_type": "markdown",
      "metadata": {
        "id": "1rYlsv1DwfTY",
        "colab_type": "text"
      },
      "source": [
        "# Laboratorio 2 - Parte 2\n",
        "\n",
        "### Modelos no paramétricos\n",
        "\n",
        "### 2019-II\n",
        "\n",
        "#### Profesor: Julián D. Arias Londoño\n",
        "#### julian.ariasl@udea.edu.co\n"
      ]
    },
    {
      "cell_type": "markdown",
      "metadata": {
        "id": "eDB0W_uAwfTf",
        "colab_type": "text"
      },
      "source": [
        "## Guía del laboratorio\n",
        "\n",
        "En esta archivo va a encontrar tanto celdas de código cómo celdas de texto con las instrucciones para desarrollar el laboratorio.\n",
        "\n",
        "Lea atentamente las instrucciones entregadas en las celdas de texto correspondientes y proceda con la solución de las preguntas planteadas.\n",
        "\n",
        "Nota: no olvide ir ejecutando las celdas de código de arriba hacia abajo para que no tenga errores de importación de librerías o por falta de definición de variables."
      ]
    },
    {
      "cell_type": "markdown",
      "metadata": {
        "id": "byaCF-7swfTk",
        "colab_type": "text"
      },
      "source": [
        "#### Primer integrante\n",
        "Nombre:\n",
        "\n",
        "#### Segundo integrante\n",
        "Nombre:"
      ]
    },
    {
      "cell_type": "code",
      "metadata": {
        "id": "X9DnZwCewfTp",
        "colab_type": "code",
        "colab": {}
      },
      "source": [
        "from __future__ import division\n",
        "%matplotlib inline\n",
        "import numpy as np\n",
        "import scipy as sc\n",
        "import matplotlib.pyplot as plt\n",
        "\n",
        "\n",
        "#Evitar algunas advertencias\n",
        "import warnings\n",
        "warnings.filterwarnings(\"always\")"
      ],
      "execution_count": 0,
      "outputs": []
    },
    {
      "cell_type": "markdown",
      "metadata": {
        "id": "4I_uzDkZwfT5",
        "colab_type": "text"
      },
      "source": [
        "## Ejercicio 1: Contextualización del problema\n",
        "\n",
        "\n",
        "Usaremos el dataset iris para el problema de clasificación, desde la librería sklearn. En el UCI Machine Learning Repository se encuentra más información en el siguiente [link](https://archive.ics.uci.edu/ml/datasets/iris) ."
      ]
    },
    {
      "cell_type": "code",
      "metadata": {
        "id": "-hq3PwB-wfT-",
        "colab_type": "code",
        "colab": {}
      },
      "source": [
        "#cargamos la bd iris desde el dataset de sklearn\n",
        "from sklearn import datasets\n",
        "\n",
        "iris = datasets.load_iris()\n",
        "\n",
        "\n",
        "X, Y = iris.data, iris.target"
      ],
      "execution_count": 0,
      "outputs": []
    },
    {
      "cell_type": "markdown",
      "metadata": {
        "id": "tEOwiILawfUJ",
        "colab_type": "text"
      },
      "source": [
        "Responda las siguientes preguntas: \n",
        "\n",
        "1.1 ¿Cu&aacute;ntas clases tiene el problema?:\n"
      ]
    },
    {
      "cell_type": "code",
      "metadata": {
        "id": "OXM9IolFwfUM",
        "colab_type": "code",
        "colab": {}
      },
      "source": [
        ""
      ],
      "execution_count": 0,
      "outputs": []
    },
    {
      "cell_type": "markdown",
      "metadata": {
        "id": "2R9xl6d-wfUV",
        "colab_type": "text"
      },
      "source": [
        "1.2 ¿Cu&aacute;ntas caracter&iacute;sticas tiene el problema?:"
      ]
    },
    {
      "cell_type": "code",
      "metadata": {
        "id": "ss01XtmxwfUb",
        "colab_type": "code",
        "colab": {}
      },
      "source": [
        ""
      ],
      "execution_count": 0,
      "outputs": []
    },
    {
      "cell_type": "markdown",
      "metadata": {
        "id": "DthKsGT8wfUk",
        "colab_type": "text"
      },
      "source": [
        "1.3 ¿Cu&aacute;ntas muestras tiene el problema?:"
      ]
    },
    {
      "cell_type": "code",
      "metadata": {
        "id": "q1__FoaiwfUq",
        "colab_type": "code",
        "colab": {}
      },
      "source": [
        ""
      ],
      "execution_count": 0,
      "outputs": []
    },
    {
      "cell_type": "markdown",
      "metadata": {
        "id": "B2zntzpywfU0",
        "colab_type": "text"
      },
      "source": [
        "1.4 ¿Cu&aacute;ntas muestras por cada clase hay en la base de datos?:"
      ]
    },
    {
      "cell_type": "code",
      "metadata": {
        "id": "dWN6N-x4wfU5",
        "colab_type": "code",
        "colab": {}
      },
      "source": [
        ""
      ],
      "execution_count": 0,
      "outputs": []
    },
    {
      "cell_type": "markdown",
      "metadata": {
        "id": "yrUHGTp1wfVC",
        "colab_type": "text"
      },
      "source": [
        "## Ejercicio 2: Completar código KNN\n",
        "\n",
        "Analice los siguientes métodos de la teoría vista para los modelos de *K-vecinos más cercanos (KNN)* y complete el código del método KNN.\n",
        "\n",
        "<b>Nota</b>: Para el cáculo de la distancia entre vectores tienen dos opciones, usar la función la distancia euclidiana `scipy.spatial.distance.euclidean`([Ejemplo](https://docs.scipy.org/doc/scipy/reference/generated/scipy.spatial.distance.euclidean.html)) o usar la función `numpy.linalg.norm`([Ejemplo](https://docs.scipy.org/doc/numpy/reference/generated/numpy.linalg.norm.html)). Revisen la documentación para comprender su uso. También serán de utilidad las funciones `numpy.sort` y `numpy.argsort`.\n",
        "\n",
        "\n",
        "<b>Nota</b>: Para el cáculo de la distancia entre vectores tienen dos opciones, usar la función scipy.spatial.distance.euclidean o usar la función numpy.linalg.norm. <b>Revisen la documentación </b> para comprender su uso. También serán de utilidad las funciones numpy.sort y numpy.argsort."
      ]
    },
    {
      "cell_type": "code",
      "metadata": {
        "id": "bWrCyvDEwfVE",
        "colab_type": "code",
        "colab": {}
      },
      "source": [
        "from scipy.stats import mode\n",
        "import operator\n",
        "\n",
        "#Para calcular el error en los problemas de clasificación\n",
        "def ErrorClas(Y_lest, Y):\n",
        "    error = 1 - np.sum(Y_lest == Y)/len(Y)\n",
        "    \n",
        "    return error\n",
        "\n",
        "\n",
        "def KNN(X_train, Y_train, X_val, k, tipo):\n",
        "    \n",
        "    #X_train es la matriz con las muestras de entrenamiento\n",
        "    #Y_train es un vector con los valores de salida pra cada una de las muestras de entrenamiento\n",
        "    #X_val es la matriz con las muestras de validación\n",
        "    #tipo es una bandera que indica si el problema es de regresión o de clasificación.\n",
        "    tipo = tipo\n",
        "    k = k    #Parámetro k que equivale al número de vecinos a tener en cuenta para resolver el problema de\n",
        "               #predicción de la variable de salida\n",
        "    \n",
        "    \n",
        "    return #Debe retornar un vector que contenga las predicciones para cada una de las muestras en X_val, en el mismo orden.  \n",
        "  "
      ],
      "execution_count": 0,
      "outputs": []
    },
    {
      "cell_type": "markdown",
      "metadata": {
        "id": "1WT6rvkMwfVM",
        "colab_type": "text"
      },
      "source": [
        "## Ejercicio 3\n",
        "\n",
        "Una vez haya completado el codigo del método de KNN, ejecute varias veces el proceso de entrenamiento y evaluación cambiando el parametro $k$, el cual es el numero de vecinos, y complete la siguiente tabla con los valores del error de clasificación obtenidos:"
      ]
    },
    {
      "cell_type": "code",
      "metadata": {
        "id": "foGQ1Xl7wfVQ",
        "colab_type": "code",
        "colab": {}
      },
      "source": [
        "from numpy import random\n",
        "from sklearn.model_selection import train_test_split\n",
        "import math\n",
        "N = np.size(X,0)\n",
        "\n",
        "#Validamos el modelo\n",
        "random.seed(1)\n",
        "Error = np.zeros(4)\n",
        "for j in range(4):\n",
        "    \n",
        "    Xtrain, Xtest, Ytrain, Ytest = train_test_split(X, Y, test_size=0.25)\n",
        "\n",
        "    #Normalizamos los datos\n",
        "    media = np.mean(Xtrain)\n",
        "    desvia = np.std(Xtrain)\n",
        "    Xtrain = sc.stats.stats.zscore(Xtrain)\n",
        "    Xtest = (Xtest - np.matlib.repmat(media, Xtest.shape[0], 1))/np.matlib.repmat(desvia, Xtest.shape[0], 1)\n",
        "\n",
        "    Yest = KNN(...)#Complete con el llamado apropiado de la función que Uds diseñaron\n",
        "    \n",
        "    #Evaluamos las predicciones del modelo con los datos de test\n",
        "    Error[j] = ErrorClas(Yest,Ytest)\n",
        "print('\\nError durante la prueba = ' + str(np.mean(Error)) + '+-' + str(np.std(Error)))"
      ],
      "execution_count": 0,
      "outputs": []
    },
    {
      "cell_type": "markdown",
      "metadata": {
        "id": "LFiEzJm7wfVb",
        "colab_type": "text"
      },
      "source": [
        "Responda:\n",
        "\n",
        "3.1 ¿Qué metodología de validación se usa en el experimento?\n"
      ]
    },
    {
      "cell_type": "code",
      "metadata": {
        "id": "v1ToUyyOwfVe",
        "colab_type": "code",
        "colab": {}
      },
      "source": [
        ""
      ],
      "execution_count": 0,
      "outputs": []
    },
    {
      "cell_type": "markdown",
      "metadata": {
        "id": "18a-bjJ5wfVm",
        "colab_type": "text"
      },
      "source": [
        "3.2 ¿Cuántas muestras se usan para el entrenamiento?\n"
      ]
    },
    {
      "cell_type": "code",
      "metadata": {
        "id": "ntBSXkmdwfVr",
        "colab_type": "code",
        "colab": {}
      },
      "source": [
        ""
      ],
      "execution_count": 0,
      "outputs": []
    },
    {
      "cell_type": "markdown",
      "metadata": {
        "id": "1xv4asCiwfVx",
        "colab_type": "text"
      },
      "source": [
        "3.3 ¿Cuántas muestras se usan para la validación?"
      ]
    },
    {
      "cell_type": "code",
      "metadata": {
        "id": "MlVLU6bLwfVz",
        "colab_type": "code",
        "colab": {}
      },
      "source": [
        ""
      ],
      "execution_count": 0,
      "outputs": []
    },
    {
      "cell_type": "markdown",
      "metadata": {
        "id": "CFAjFPZ9wfV8",
        "colab_type": "text"
      },
      "source": [
        "#### Tabla de resultados"
      ]
    },
    {
      "cell_type": "code",
      "metadata": {
        "id": "BAArY9a7wfV-",
        "colab_type": "code",
        "colab": {
          "referenced_widgets": [
            "54910c64ac9748bc9d1e8dd0d1434b8f"
          ]
        },
        "outputId": "992b373b-294c-4b98-e9e9-b68cd46a536b"
      },
      "source": [
        "import pandas as pd\n",
        "import qgrid\n",
        "randn = np.random.randn\n",
        "df_types = pd.DataFrame({\n",
        "    'Numero de vecinos' : pd.Series(['1', '2', '3', '4', '5', '6', '7'])})\n",
        "df_types[\"Error_Prueba\"] = \"\"\n",
        "df_types[\"Desviación estándar del error\"] = \"\"\n",
        "df_types.set_index(['Numero de vecinos'], inplace=True)\n",
        "df_types[\"Error_Prueba\"][1] = \"0.2697\"\n",
        "df_types[\"Desviación estándar del error\"][1] = \"0.088\"\n",
        "#df_types.sort_index(inplace=True)\n",
        "qgrid_widget = qgrid.show_grid(df_types, show_toolbar=False)\n",
        "qgrid_widget"
      ],
      "execution_count": 0,
      "outputs": [
        {
          "output_type": "display_data",
          "data": {
            "application/vnd.jupyter.widget-view+json": {
              "model_id": "54910c64ac9748bc9d1e8dd0d1434b8f",
              "version_major": 2,
              "version_minor": 0
            },
            "text/plain": [
              "QgridWidget(grid_options={'fullWidthRows': True, 'syncColumnCellResize': True, 'forceFitColumns': True, 'defau…"
            ]
          },
          "metadata": {
            "tags": []
          }
        }
      ]
    },
    {
      "cell_type": "markdown",
      "metadata": {
        "id": "JHKKwRmEwfWJ",
        "colab_type": "text"
      },
      "source": [
        "Ejecute la siguiente instrucción para dejar guardados en el notebook los resultados de las pruebas."
      ]
    },
    {
      "cell_type": "code",
      "metadata": {
        "id": "rQjKm3sYwfWM",
        "colab_type": "code",
        "colab": {},
        "outputId": "eaa948b7-f31e-4c12-e97d-4f7eccbeba81"
      },
      "source": [
        "qgrid_widget.get_changed_df()"
      ],
      "execution_count": 0,
      "outputs": [
        {
          "output_type": "execute_result",
          "data": {
            "text/html": [
              "<div>\n",
              "<style scoped>\n",
              "    .dataframe tbody tr th:only-of-type {\n",
              "        vertical-align: middle;\n",
              "    }\n",
              "\n",
              "    .dataframe tbody tr th {\n",
              "        vertical-align: top;\n",
              "    }\n",
              "\n",
              "    .dataframe thead th {\n",
              "        text-align: right;\n",
              "    }\n",
              "</style>\n",
              "<table border=\"1\" class=\"dataframe\">\n",
              "  <thead>\n",
              "    <tr style=\"text-align: right;\">\n",
              "      <th></th>\n",
              "      <th>Error_Prueba</th>\n",
              "      <th>Desviación estándar del error</th>\n",
              "    </tr>\n",
              "    <tr>\n",
              "      <th>Numero de vecinos</th>\n",
              "      <th></th>\n",
              "      <th></th>\n",
              "    </tr>\n",
              "  </thead>\n",
              "  <tbody>\n",
              "    <tr>\n",
              "      <th>1</th>\n",
              "      <td></td>\n",
              "      <td></td>\n",
              "    </tr>\n",
              "    <tr>\n",
              "      <th>2</th>\n",
              "      <td>0.2697</td>\n",
              "      <td>0.088</td>\n",
              "    </tr>\n",
              "    <tr>\n",
              "      <th>3</th>\n",
              "      <td></td>\n",
              "      <td></td>\n",
              "    </tr>\n",
              "    <tr>\n",
              "      <th>4</th>\n",
              "      <td></td>\n",
              "      <td></td>\n",
              "    </tr>\n",
              "    <tr>\n",
              "      <th>5</th>\n",
              "      <td></td>\n",
              "      <td></td>\n",
              "    </tr>\n",
              "    <tr>\n",
              "      <th>6</th>\n",
              "      <td></td>\n",
              "      <td></td>\n",
              "    </tr>\n",
              "    <tr>\n",
              "      <th>7</th>\n",
              "      <td></td>\n",
              "      <td></td>\n",
              "    </tr>\n",
              "  </tbody>\n",
              "</table>\n",
              "</div>"
            ],
            "text/plain": [
              "                  Error_Prueba Desviación estándar del error\n",
              "Numero de vecinos                                           \n",
              "1                                                           \n",
              "2                       0.2697                         0.088\n",
              "3                                                           \n",
              "4                                                           \n",
              "5                                                           \n",
              "6                                                           \n",
              "7                                                           "
            ]
          },
          "metadata": {
            "tags": []
          },
          "execution_count": 99
        }
      ]
    },
    {
      "cell_type": "markdown",
      "metadata": {
        "id": "hDswz_CuwfWU",
        "colab_type": "text"
      },
      "source": [
        "## Ejercicio 4\n",
        "\n",
        "A continuación debe completar el código del método parzen para resolver problemas de clasificación con el modelo ventana de Parzen."
      ]
    },
    {
      "cell_type": "code",
      "metadata": {
        "id": "fGhm2KFgwfWW",
        "colab_type": "code",
        "colab": {}
      },
      "source": [
        "#Calcula el kernel gaussiano de x\n",
        "def kernel_gaussiano(x):\n",
        "    return np.exp((-0.5)*x**2)\n",
        "\n",
        "def ParzenWindow(x,Data,h):\n",
        "    h = h\n",
        "    Ns = Data.shape[0]\n",
        "    suma = 0\n",
        "    for k in range(Ns):\n",
        "        u = sc.spatial.distance.euclidean(x,Data[k,:])\n",
        "        suma += kernel_gaussiano(u/h)\n",
        "    return suma\n",
        "\n",
        "def ParzenClass(X_train, Y_train, X_val, ancho_h):\n",
        "    \n",
        "    h = ancho_h\n",
        "    \n",
        "    return Yest#Debe retornar un vector que contenga las predicciones para cada una de las muestras en X_val, en el mismo orden.  "
      ],
      "execution_count": 0,
      "outputs": []
    },
    {
      "cell_type": "markdown",
      "metadata": {
        "id": "rFVX2HMvwfWc",
        "colab_type": "text"
      },
      "source": [
        "## Ejercicio 5\n",
        "\n",
        "Ahora debe resolver el mismo problema de clasificación con el método ventana de Parzen. Complete el código ejecute las pruebas para diferentes valores de $h$ y llene la siguiente tabla:"
      ]
    },
    {
      "cell_type": "code",
      "metadata": {
        "id": "EfAWf4BowfWh",
        "colab_type": "code",
        "colab": {}
      },
      "source": [
        "from numpy import random\n",
        "from sklearn.model_selection import StratifiedKFold\n",
        "import math\n",
        "\n",
        "#Validamos el modelo\n",
        "random.seed(1)\n",
        "Error = np.zeros(4)\n",
        "skf = StratifiedKFold(n_splits=4)\n",
        "j = 0\n",
        "for train, test in skf.split(X, Y):\n",
        "    Xtrain = X[train,:]\n",
        "    Ytrain = Y[train]\n",
        "    Xtest = X[test,:]\n",
        "    Ytest = Y[test]\n",
        "    #Normalizamos los datos\n",
        "    media = np.mean(Xtrain)\n",
        "    desvia = np.std(Xtrain)\n",
        "    Xtrain = sc.stats.stats.zscore(Xtrain)\n",
        "    Xtest = (Xtest - np.matlib.repmat(media, Xtest.shape[0], 1))/np.matlib.repmat(desvia, Xtest.shape[0], 1)\n",
        "\n",
        "    Yest = ParzenClass(...)#Complete con el llamado apropiado de la función que Uds diseñaron\n",
        "  \n",
        "    #Evaluamos las predicciones del modelo con los datos de test\n",
        "    Error[j] = ErrorClas(Yest,Ytest)\n",
        "    j += 1\n",
        "print('\\nError durante la prueba = ' + str(np.mean(Error)) + '+-' + str(np.std(Error)))"
      ],
      "execution_count": 0,
      "outputs": []
    },
    {
      "cell_type": "markdown",
      "metadata": {
        "id": "42ix67zTwfWm",
        "colab_type": "text"
      },
      "source": [
        "Responda:\n",
        "    \n",
        "5.1 ¿Qué metodología de validación se usó en la simulación?:\n",
        "\n"
      ]
    },
    {
      "cell_type": "code",
      "metadata": {
        "id": "csL1uYd-wfWo",
        "colab_type": "code",
        "colab": {}
      },
      "source": [
        ""
      ],
      "execution_count": 0,
      "outputs": []
    },
    {
      "cell_type": "markdown",
      "metadata": {
        "id": "mvSZ4d2CwfWv",
        "colab_type": "text"
      },
      "source": [
        "5.2 ¿Cuántas muestras se usan para el entrenamiento?:\n",
        "\n"
      ]
    },
    {
      "cell_type": "code",
      "metadata": {
        "id": "_sH62MDVwfWx",
        "colab_type": "code",
        "colab": {}
      },
      "source": [
        ""
      ],
      "execution_count": 0,
      "outputs": []
    },
    {
      "cell_type": "markdown",
      "metadata": {
        "id": "9TRo1gp-wfW1",
        "colab_type": "text"
      },
      "source": [
        "5.3 ¿Cuántas muestras se usan para la validación?:\n"
      ]
    },
    {
      "cell_type": "code",
      "metadata": {
        "id": "_eFN7aSqwfW3",
        "colab_type": "code",
        "colab": {}
      },
      "source": [
        ""
      ],
      "execution_count": 0,
      "outputs": []
    },
    {
      "cell_type": "markdown",
      "metadata": {
        "id": "dqR86wbjwfW8",
        "colab_type": "text"
      },
      "source": [
        "#### Tabla de resultados"
      ]
    },
    {
      "cell_type": "code",
      "metadata": {
        "id": "uIZOdWpfwfXA",
        "colab_type": "code",
        "colab": {
          "referenced_widgets": [
            "073391fef7a141d7bb990ab627719b94"
          ]
        },
        "outputId": "2c2d3f85-45a9-447d-fed4-3357724a8588"
      },
      "source": [
        "import pandas as pd\n",
        "import qgrid\n",
        "randn = np.random.randn\n",
        "df_types2 = pd.DataFrame({\n",
        "    'Tamano de ventana' : pd.Series(['0.05', '0.1', '0.5', '1', '2', '5', '10'])})\n",
        "df_types2[\"Error_Prueba\"] = \"\"\n",
        "df_types2[\"Desviación estándar del error\"] = \"\"\n",
        "df_types2.set_index(['Tamano de ventana'], inplace=True)\n",
        "df_types2[\"Error_Prueba\"][1] = \"0.222\"\n",
        "df_types2[\"Desviación estándar del error\"][1] = \"0.043\"\n",
        "#df_types.sort_index(inplace=True)\n",
        "qgrid_widget = qgrid.show_grid(df_types2, show_toolbar=False)\n",
        "qgrid_widget"
      ],
      "execution_count": 0,
      "outputs": [
        {
          "output_type": "display_data",
          "data": {
            "application/vnd.jupyter.widget-view+json": {
              "model_id": "073391fef7a141d7bb990ab627719b94",
              "version_major": 2,
              "version_minor": 0
            },
            "text/plain": [
              "QgridWidget(grid_options={'fullWidthRows': True, 'syncColumnCellResize': True, 'forceFitColumns': True, 'defau…"
            ]
          },
          "metadata": {
            "tags": []
          }
        }
      ]
    },
    {
      "cell_type": "markdown",
      "metadata": {
        "id": "yZILlf8lwfXF",
        "colab_type": "text"
      },
      "source": [
        "Ejecute la siguiente instrucción para dejar guardados en el notebook los resultados de las pruebas."
      ]
    },
    {
      "cell_type": "code",
      "metadata": {
        "id": "XZDEWr_SwfXG",
        "colab_type": "code",
        "colab": {},
        "outputId": "94f364c8-854f-4f87-810f-6e357a20cbb4"
      },
      "source": [
        "qgrid_widget.get_changed_df()"
      ],
      "execution_count": 0,
      "outputs": [
        {
          "output_type": "execute_result",
          "data": {
            "text/html": [
              "<div>\n",
              "<style scoped>\n",
              "    .dataframe tbody tr th:only-of-type {\n",
              "        vertical-align: middle;\n",
              "    }\n",
              "\n",
              "    .dataframe tbody tr th {\n",
              "        vertical-align: top;\n",
              "    }\n",
              "\n",
              "    .dataframe thead th {\n",
              "        text-align: right;\n",
              "    }\n",
              "</style>\n",
              "<table border=\"1\" class=\"dataframe\">\n",
              "  <thead>\n",
              "    <tr style=\"text-align: right;\">\n",
              "      <th></th>\n",
              "      <th>Error_Prueba</th>\n",
              "      <th>Desviación estándar del error</th>\n",
              "    </tr>\n",
              "    <tr>\n",
              "      <th>Tamaño de ventana</th>\n",
              "      <th></th>\n",
              "      <th></th>\n",
              "    </tr>\n",
              "  </thead>\n",
              "  <tbody>\n",
              "    <tr>\n",
              "      <th>0.05</th>\n",
              "      <td></td>\n",
              "      <td></td>\n",
              "    </tr>\n",
              "    <tr>\n",
              "      <th>0.1</th>\n",
              "      <td>0.222</td>\n",
              "      <td>0.043</td>\n",
              "    </tr>\n",
              "    <tr>\n",
              "      <th>0.5</th>\n",
              "      <td></td>\n",
              "      <td></td>\n",
              "    </tr>\n",
              "    <tr>\n",
              "      <th>1</th>\n",
              "      <td></td>\n",
              "      <td></td>\n",
              "    </tr>\n",
              "    <tr>\n",
              "      <th>2</th>\n",
              "      <td></td>\n",
              "      <td></td>\n",
              "    </tr>\n",
              "    <tr>\n",
              "      <th>5</th>\n",
              "      <td></td>\n",
              "      <td></td>\n",
              "    </tr>\n",
              "    <tr>\n",
              "      <th>10</th>\n",
              "      <td></td>\n",
              "      <td></td>\n",
              "    </tr>\n",
              "  </tbody>\n",
              "</table>\n",
              "</div>"
            ],
            "text/plain": [
              "                  Error_Prueba Desviación estándar del error\n",
              "Tamaño de ventana                                           \n",
              "0.05                                                        \n",
              "0.1                      0.222                         0.043\n",
              "0.5                                                         \n",
              "1                                                           \n",
              "2                                                           \n",
              "5                                                           \n",
              "10                                                          "
            ]
          },
          "metadata": {
            "tags": []
          },
          "execution_count": 95
        }
      ]
    },
    {
      "cell_type": "code",
      "metadata": {
        "id": "xRHuk4TTwfXL",
        "colab_type": "code",
        "colab": {}
      },
      "source": [
        ""
      ],
      "execution_count": 0,
      "outputs": []
    }
  ]
}