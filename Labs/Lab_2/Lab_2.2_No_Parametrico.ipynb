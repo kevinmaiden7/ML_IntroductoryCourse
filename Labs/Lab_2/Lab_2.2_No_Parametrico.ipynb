{
 "cells": [
  {
   "cell_type": "markdown",
   "metadata": {
    "colab_type": "text",
    "id": "1rYlsv1DwfTY"
   },
   "source": [
    "# Laboratorio 2 - Parte 2\n",
    "\n",
    "### Modelos no paramétricos\n",
    "\n",
    "### 2019-II\n",
    "\n",
    "#### Profesor: Julián D. Arias Londoño\n",
    "#### julian.ariasl@udea.edu.co\n"
   ]
  },
  {
   "cell_type": "markdown",
   "metadata": {
    "colab_type": "text",
    "id": "eDB0W_uAwfTf"
   },
   "source": [
    "## Guía del laboratorio\n",
    "\n",
    "En esta archivo va a encontrar tanto celdas de código cómo celdas de texto con las instrucciones para desarrollar el laboratorio.\n",
    "\n",
    "Lea atentamente las instrucciones entregadas en las celdas de texto correspondientes y proceda con la solución de las preguntas planteadas.\n",
    "\n",
    "Nota: no olvide ir ejecutando las celdas de código de arriba hacia abajo para que no tenga errores de importación de librerías o por falta de definición de variables."
   ]
  },
  {
   "cell_type": "markdown",
   "metadata": {
    "colab_type": "text",
    "id": "byaCF-7swfTk"
   },
   "source": [
    "#### Primer integrante\n",
    "Nombre: Kevin Martínez Gallego\n",
    "\n",
    "#### Segundo integrante\n",
    "Nombre: Andrés Mauricio Álvarez Ortiz"
   ]
  },
  {
   "cell_type": "code",
   "execution_count": 2,
   "metadata": {
    "colab": {},
    "colab_type": "code",
    "id": "X9DnZwCewfTp"
   },
   "outputs": [],
   "source": [
    "from __future__ import division\n",
    "%matplotlib inline\n",
    "import numpy as np\n",
    "import numpy.matlib as matlib\n",
    "import scipy as sc\n",
    "import matplotlib.pyplot as plt\n",
    "\n",
    "#Evitar algunas advertencias\n",
    "import warnings\n",
    "warnings.filterwarnings(\"always\")"
   ]
  },
  {
   "cell_type": "markdown",
   "metadata": {
    "colab_type": "text",
    "id": "4I_uzDkZwfT5"
   },
   "source": [
    "## Ejercicio 1: Contextualización del problema\n",
    "\n",
    "\n",
    "Usaremos el dataset iris para el problema de clasificación, desde la librería sklearn. En el UCI Machine Learning Repository se encuentra más información en el siguiente [link](https://archive.ics.uci.edu/ml/datasets/iris) ."
   ]
  },
  {
   "cell_type": "code",
   "execution_count": 4,
   "metadata": {
    "colab": {},
    "colab_type": "code",
    "id": "-hq3PwB-wfT-"
   },
   "outputs": [],
   "source": [
    "#cargamos la bd iris desde el dataset de sklearn\n",
    "from sklearn import datasets\n",
    "\n",
    "iris = datasets.load_iris()\n",
    "\n",
    "X, Y = iris.data, iris.target"
   ]
  },
  {
   "cell_type": "code",
   "execution_count": 5,
   "metadata": {},
   "outputs": [
    {
     "name": "stdout",
     "output_type": "stream",
     "text": [
      "(150, 4)\n",
      "(150,)\n",
      "[0 0 0 0 0 0 0 0 0 0 0 0 0 0 0 0 0 0 0 0 0 0 0 0 0 0 0 0 0 0 0 0 0 0 0 0 0\n",
      " 0 0 0 0 0 0 0 0 0 0 0 0 0 1 1 1 1 1 1 1 1 1 1 1 1 1 1 1 1 1 1 1 1 1 1 1 1\n",
      " 1 1 1 1 1 1 1 1 1 1 1 1 1 1 1 1 1 1 1 1 1 1 1 1 1 1 2 2 2 2 2 2 2 2 2 2 2\n",
      " 2 2 2 2 2 2 2 2 2 2 2 2 2 2 2 2 2 2 2 2 2 2 2 2 2 2 2 2 2 2 2 2 2 2 2 2 2\n",
      " 2 2]\n",
      "(array([0, 1, 2]), array([50, 50, 50], dtype=int64))\n"
     ]
    }
   ],
   "source": [
    "print(X.shape)\n",
    "print(Y.shape)\n",
    "print(Y)\n",
    "print(np.unique(Y, return_counts = True))"
   ]
  },
  {
   "cell_type": "markdown",
   "metadata": {
    "colab_type": "text",
    "id": "tEOwiILawfUJ"
   },
   "source": [
    "Responda las siguientes preguntas: \n",
    "\n",
    "1.1 ¿Cu&aacute;ntas clases tiene el problema?:\n"
   ]
  },
  {
   "cell_type": "markdown",
   "metadata": {
    "colab": {},
    "colab_type": "code",
    "id": "OXM9IolFwfUM"
   },
   "source": [
    "3 clases"
   ]
  },
  {
   "cell_type": "markdown",
   "metadata": {
    "colab_type": "text",
    "id": "2R9xl6d-wfUV"
   },
   "source": [
    "1.2 ¿Cu&aacute;ntas caracter&iacute;sticas tiene el problema?:"
   ]
  },
  {
   "cell_type": "markdown",
   "metadata": {
    "colab": {},
    "colab_type": "code",
    "id": "ss01XtmxwfUb"
   },
   "source": [
    "4 características"
   ]
  },
  {
   "cell_type": "markdown",
   "metadata": {
    "colab_type": "text",
    "id": "DthKsGT8wfUk"
   },
   "source": [
    "1.3 ¿Cu&aacute;ntas muestras tiene el problema?:"
   ]
  },
  {
   "cell_type": "markdown",
   "metadata": {
    "colab": {},
    "colab_type": "code",
    "id": "q1__FoaiwfUq"
   },
   "source": [
    "150 muestras"
   ]
  },
  {
   "cell_type": "markdown",
   "metadata": {
    "colab_type": "text",
    "id": "B2zntzpywfU0"
   },
   "source": [
    "1.4 ¿Cu&aacute;ntas muestras por cada clase hay en la base de datos?:"
   ]
  },
  {
   "cell_type": "markdown",
   "metadata": {
    "colab": {},
    "colab_type": "code",
    "id": "dWN6N-x4wfU5"
   },
   "source": [
    "Hay 50 muestras por cada clase"
   ]
  },
  {
   "cell_type": "markdown",
   "metadata": {
    "colab_type": "text",
    "id": "yrUHGTp1wfVC"
   },
   "source": [
    "## Ejercicio 2: Completar código KNN\n",
    "\n",
    "Analice los siguientes métodos de la teoría vista para los modelos de *K-vecinos más cercanos (KNN)* y complete el código del método KNN.\n",
    "\n",
    "<b>Nota</b>: Para el cáculo de la distancia entre vectores tienen dos opciones, usar la función la distancia euclidiana `scipy.spatial.distance.euclidean`([Ejemplo](https://docs.scipy.org/doc/scipy/reference/generated/scipy.spatial.distance.euclidean.html)) o usar la función `numpy.linalg.norm`([Ejemplo](https://docs.scipy.org/doc/numpy/reference/generated/numpy.linalg.norm.html)). Revisen la documentación para comprender su uso. También serán de utilidad las funciones `numpy.sort` y `numpy.argsort`.\n",
    "\n",
    "\n",
    "<b>Nota</b>: Para el cáculo de la distancia entre vectores tienen dos opciones, usar la función scipy.spatial.distance.euclidean o usar la función numpy.linalg.norm. <b>Revisen la documentación </b> para comprender su uso. También serán de utilidad las funciones numpy.sort y numpy.argsort."
   ]
  },
  {
   "cell_type": "code",
   "execution_count": 6,
   "metadata": {
    "colab": {},
    "colab_type": "code",
    "id": "bWrCyvDEwfVE"
   },
   "outputs": [],
   "source": [
    "from scipy.stats import mode\n",
    "from scipy.spatial import distance\n",
    "from scipy import stats\n",
    "import operator\n",
    "\n",
    "#Para calcular el error en los problemas de clasificación\n",
    "def ErrorClas(Y_lest, Y):\n",
    "    error = 1 - np.sum(Y_lest == Y)/len(Y)\n",
    "    \n",
    "    return error\n",
    "\n",
    "\n",
    "def KNN(X_train, Y_train, X_val, k, tipo):\n",
    "    \n",
    "    #X_train es la matriz con las muestras de entrenamiento\n",
    "    #Y_train es un vector con los valores de salida pra cada una de las muestras de entrenamiento\n",
    "    #X_val es la matriz con las muestras de validación\n",
    "    #tipo es una bandera que indica si el problema es de regresión o de clasificación.\n",
    "    tipo = tipo\n",
    "    #Parámetro k que equivale al número de vecinos a tener en cuenta para resolver el problema de\n",
    "    #predicción de la variable de salida\n",
    "    k = k  \n",
    "        \n",
    "    Ntest = len(X_val)\n",
    "    Y_test = np.zeros(Ntest)\n",
    "    Y_train_kVecinos = np.zeros(k)\n",
    "\n",
    "    Ntrain = len(X_train)\n",
    "    distancias = np.zeros(Ntrain)\n",
    "    for i in range(Ntest):\n",
    "        muestra = X_val[i,:]\n",
    "        for j in range(Ntrain):\n",
    "            distancias[j] = distance.euclidean(muestra, X_train[j])\n",
    "        distanciasSortIndex = np.argsort(distancias)\n",
    "        for j in range(k):\n",
    "            Y_train_kVecinos[j] = Y_train[distanciasSortIndex[j]]\n",
    "        if(tipo == 0): # clasificación\n",
    "            Y_test[i] = stats.mode(Y_train_kVecinos)[0]\n",
    "        elif(tipo == 1): # regresión\n",
    "            Y_test[i] = np.mean(Y_train_kVecinos)\n",
    "    \n",
    "    #Debe retornar un vector que contenga las predicciones para cada una de las muestras en X_val, en el mismo orden.  \n",
    "    return Y_test\n",
    "  "
   ]
  },
  {
   "cell_type": "markdown",
   "metadata": {
    "colab_type": "text",
    "id": "1WT6rvkMwfVM"
   },
   "source": [
    "## Ejercicio 3\n",
    "\n",
    "Una vez haya completado el codigo del método de KNN, ejecute varias veces el proceso de entrenamiento y evaluación cambiando el parametro $k$, el cual es el numero de vecinos, y complete la siguiente tabla con los valores del error de clasificación obtenidos:"
   ]
  },
  {
   "cell_type": "code",
   "execution_count": 8,
   "metadata": {
    "colab": {},
    "colab_type": "code",
    "id": "foGQ1Xl7wfVQ"
   },
   "outputs": [],
   "source": [
    "from numpy import random\n",
    "from sklearn.model_selection import train_test_split\n",
    "import math\n",
    "\n",
    "def executeKNN(k, tipo):\n",
    "    N = np.size(X,0)\n",
    "\n",
    "    #Validamos el modelo\n",
    "    random.seed(1)\n",
    "    Error = np.zeros(4)\n",
    "    for j in range(4):\n",
    "\n",
    "        Xtrain, Xtest, Ytrain, Ytest = train_test_split(X, Y, test_size=0.24)\n",
    "\n",
    "        #Normalizamos los datos\n",
    "        media = np.mean(Xtrain)\n",
    "        desvia = np.std(Xtrain)\n",
    "        Xtrain = sc.stats.stats.zscore(Xtrain)\n",
    "        Xtest = (Xtest - np.matlib.repmat(media, Xtest.shape[0], 1))/np.matlib.repmat(desvia, Xtest.shape[0], 1)\n",
    "\n",
    "        k = k\n",
    "        tipo = tipo\n",
    "\n",
    "        Yest = KNN(Xtrain, Ytrain, Xtest, k, tipo)#Complete con el llamado apropiado de la función que Uds diseñaron\n",
    "\n",
    "        #Evaluamos las predicciones del modelo con los datos de test\n",
    "        Error[j] = ErrorClas(Yest,Ytest)\n",
    "        \n",
    "    error = np.mean(Error)\n",
    "    std = np.std(Error)\n",
    "    print('\\nError durante la prueba = ' + str(error) + '+-' + str(std))\n",
    "    return(error, std)"
   ]
  },
  {
   "cell_type": "markdown",
   "metadata": {
    "colab_type": "text",
    "id": "LFiEzJm7wfVb"
   },
   "source": [
    "Responda:\n",
    "\n",
    "3.1 ¿Qué metodología de validación se usa en el experimento?\n"
   ]
  },
  {
   "cell_type": "markdown",
   "metadata": {
    "colab": {},
    "colab_type": "code",
    "id": "v1ToUyyOwfVe"
   },
   "source": [
    "Se utiliza validación Booststrap."
   ]
  },
  {
   "cell_type": "markdown",
   "metadata": {
    "colab_type": "text",
    "id": "18a-bjJ5wfVm"
   },
   "source": [
    "3.2 ¿Cuántas muestras se usan para el entrenamiento?\n"
   ]
  },
  {
   "cell_type": "markdown",
   "metadata": {
    "colab": {},
    "colab_type": "code",
    "id": "ntBSXkmdwfVr"
   },
   "source": [
    "Para entrenamiento se utiliza el 76% de las muestras, lo que equivale a 114 muestras."
   ]
  },
  {
   "cell_type": "markdown",
   "metadata": {
    "colab_type": "text",
    "id": "1xv4asCiwfVx"
   },
   "source": [
    "3.3 ¿Cuántas muestras se usan para la validación?"
   ]
  },
  {
   "cell_type": "markdown",
   "metadata": {
    "colab": {},
    "colab_type": "code",
    "id": "MlVLU6bLwfVz"
   },
   "source": [
    "Para validación se utiliza el 24% de las muestras, lo que equivale a 36 muestras."
   ]
  },
  {
   "cell_type": "markdown",
   "metadata": {
    "colab_type": "text",
    "id": "CFAjFPZ9wfV8"
   },
   "source": [
    "#### Tabla de resultados"
   ]
  },
  {
   "cell_type": "code",
   "execution_count": 10,
   "metadata": {
    "colab": {
     "referenced_widgets": [
      "54910c64ac9748bc9d1e8dd0d1434b8f"
     ]
    },
    "colab_type": "code",
    "id": "BAArY9a7wfV-",
    "outputId": "992b373b-294c-4b98-e9e9-b68cd46a536b"
   },
   "outputs": [
    {
     "name": "stdout",
     "output_type": "stream",
     "text": [
      "\n",
      "Error durante la prueba = 0.20833333333333337+-0.11197580205970208\n",
      "\n",
      "Error durante la prueba = 0.2777777777777778+-0.08561686115234694\n",
      "\n",
      "Error durante la prueba = 0.27083333333333337+-0.09081039465709739\n",
      "\n",
      "Error durante la prueba = 0.2916666666666667+-0.07216878364870326\n",
      "\n",
      "Error durante la prueba = 0.2777777777777778+-0.08561686115234694\n",
      "\n",
      "Error durante la prueba = 0.29166666666666663+-0.08893228107545624\n",
      "\n",
      "Error durante la prueba = 0.2847222222222222+-0.08187379251771945\n"
     ]
    },
    {
     "data": {
      "application/vnd.jupyter.widget-view+json": {
       "model_id": "741f7745605c4031bb91436ca283a50a",
       "version_major": 2,
       "version_minor": 0
      },
      "text/plain": [
       "QgridWidget(grid_options={'fullWidthRows': True, 'syncColumnCellResize': True, 'forceFitColumns': True, 'defau…"
      ]
     },
     "metadata": {},
     "output_type": "display_data"
    }
   ],
   "source": [
    "import pandas as pd\n",
    "import qgrid\n",
    "randn = np.random.randn\n",
    "df_types = pd.DataFrame({\n",
    "    'Numero de vecinos' : pd.Series(['1', '2', '3', '4', '5', '6', '7'])})\n",
    "df_types[\"Error_Prueba\"] = \"\"\n",
    "df_types[\"Desviación estándar del error\"] = \"\"\n",
    "df_types.set_index(['Numero de vecinos'], inplace=True)\n",
    "#df_types[\"Error_Prueba\"][1] = \"0.2697\"\n",
    "#df_types[\"Desviación estándar del error\"][1] = \"0.088\"\n",
    "#df_types.sort_index(inplace=True)\n",
    "\n",
    "tipo = 0 # clasificación\n",
    "valoresK = np.array([1,2,3,4,5,6,7])\n",
    "for i in range(np.size(valoresK)):\n",
    "    error, std = executeKNN(valoresK[i], tipo)\n",
    "    df_types[\"Error_Prueba\"][i] = error\n",
    "    df_types[\"Desviación estándar del error\"][i] = std\n",
    "\n",
    "qgrid_widget = qgrid.show_grid(df_types, show_toolbar=False)\n",
    "qgrid_widget"
   ]
  },
  {
   "cell_type": "markdown",
   "metadata": {
    "colab_type": "text",
    "id": "JHKKwRmEwfWJ"
   },
   "source": [
    "Ejecute la siguiente instrucción para dejar guardados en el notebook los resultados de las pruebas."
   ]
  },
  {
   "cell_type": "code",
   "execution_count": 11,
   "metadata": {
    "colab": {},
    "colab_type": "code",
    "id": "rQjKm3sYwfWM",
    "outputId": "eaa948b7-f31e-4c12-e97d-4f7eccbeba81"
   },
   "outputs": [
    {
     "data": {
      "text/html": [
       "<div>\n",
       "<style scoped>\n",
       "    .dataframe tbody tr th:only-of-type {\n",
       "        vertical-align: middle;\n",
       "    }\n",
       "\n",
       "    .dataframe tbody tr th {\n",
       "        vertical-align: top;\n",
       "    }\n",
       "\n",
       "    .dataframe thead th {\n",
       "        text-align: right;\n",
       "    }\n",
       "</style>\n",
       "<table border=\"1\" class=\"dataframe\">\n",
       "  <thead>\n",
       "    <tr style=\"text-align: right;\">\n",
       "      <th></th>\n",
       "      <th>Error_Prueba</th>\n",
       "      <th>Desviación estándar del error</th>\n",
       "    </tr>\n",
       "    <tr>\n",
       "      <th>Numero de vecinos</th>\n",
       "      <th></th>\n",
       "      <th></th>\n",
       "    </tr>\n",
       "  </thead>\n",
       "  <tbody>\n",
       "    <tr>\n",
       "      <td>1</td>\n",
       "      <td>0.208333</td>\n",
       "      <td>0.111976</td>\n",
       "    </tr>\n",
       "    <tr>\n",
       "      <td>2</td>\n",
       "      <td>0.277778</td>\n",
       "      <td>0.0856169</td>\n",
       "    </tr>\n",
       "    <tr>\n",
       "      <td>3</td>\n",
       "      <td>0.270833</td>\n",
       "      <td>0.0908104</td>\n",
       "    </tr>\n",
       "    <tr>\n",
       "      <td>4</td>\n",
       "      <td>0.291667</td>\n",
       "      <td>0.0721688</td>\n",
       "    </tr>\n",
       "    <tr>\n",
       "      <td>5</td>\n",
       "      <td>0.277778</td>\n",
       "      <td>0.0856169</td>\n",
       "    </tr>\n",
       "    <tr>\n",
       "      <td>6</td>\n",
       "      <td>0.291667</td>\n",
       "      <td>0.0889323</td>\n",
       "    </tr>\n",
       "    <tr>\n",
       "      <td>7</td>\n",
       "      <td>0.284722</td>\n",
       "      <td>0.0818738</td>\n",
       "    </tr>\n",
       "  </tbody>\n",
       "</table>\n",
       "</div>"
      ],
      "text/plain": [
       "                  Error_Prueba Desviación estándar del error\n",
       "Numero de vecinos                                           \n",
       "1                     0.208333                      0.111976\n",
       "2                     0.277778                     0.0856169\n",
       "3                     0.270833                     0.0908104\n",
       "4                     0.291667                     0.0721688\n",
       "5                     0.277778                     0.0856169\n",
       "6                     0.291667                     0.0889323\n",
       "7                     0.284722                     0.0818738"
      ]
     },
     "execution_count": 11,
     "metadata": {},
     "output_type": "execute_result"
    }
   ],
   "source": [
    "qgrid_widget.get_changed_df()"
   ]
  },
  {
   "cell_type": "markdown",
   "metadata": {
    "colab_type": "text",
    "id": "hDswz_CuwfWU"
   },
   "source": [
    "## Ejercicio 4\n",
    "\n",
    "A continuación debe completar el código del método parzen para resolver problemas de clasificación con el modelo ventana de Parzen."
   ]
  },
  {
   "cell_type": "code",
   "execution_count": 15,
   "metadata": {
    "colab": {},
    "colab_type": "code",
    "id": "fGhm2KFgwfWW"
   },
   "outputs": [],
   "source": [
    "from scipy.spatial import distance\n",
    "\n",
    "#Calcula el kernel gaussiano de x\n",
    "def kernel_gaussiano(x):\n",
    "    return np.exp((-0.5)*x**2)\n",
    "\n",
    "def ParzenWindow(x,Data,h):\n",
    "    h = h\n",
    "    Ns = Data.shape[0]\n",
    "    suma = 0\n",
    "    for k in range(Ns):\n",
    "        u = sc.spatial.distance.euclidean(x,Data[k,:])\n",
    "        suma += kernel_gaussiano(u/h)\n",
    "    return suma/Ns\n",
    "\n",
    "def ParzenClass(X_train, Y_train, X_val, ancho_h):\n",
    "    \n",
    "    h = ancho_h\n",
    "    Nval = len(X_val)\n",
    "    Ntrain = len(X_train)\n",
    "    Y_val = np.zeros(Nval)\n",
    "    \n",
    "    clases = np.unique(Y_train)\n",
    "    Nclases = len(clases)\n",
    "    \n",
    "    clases_separadas = []\n",
    "    estimados = np.zeros(Nclases)\n",
    "    \n",
    "    for i in range(Nclases):\n",
    "        index = Y_train == clases[i]\n",
    "        clases_separadas.append(X_train[index, :]) # Conjuntos de entrenamiento separado por clases\n",
    "        # obtenemos todas las muestras de entrenamiento pertenecientes a cada clase\n",
    "    \n",
    "    for i in range(Nval):\n",
    "        muestra = X_val[i,:]\n",
    "        for j in range(Nclases):\n",
    "            estimados[j] = ParzenWindow(muestra,clases_separadas[j],h)\n",
    "        Y_val[i] = np.argmax(estimados) # argmax retorna el índice donde se encuentre el mayor\n",
    "    \n",
    "    #Debe retornar un vector que contenga las predicciones para cada una de las muestras en X_val, en el mismo orden.  \n",
    "    return Y_val"
   ]
  },
  {
   "cell_type": "markdown",
   "metadata": {
    "colab_type": "text",
    "id": "rFVX2HMvwfWc"
   },
   "source": [
    "## Ejercicio 5\n",
    "\n",
    "Ahora debe resolver el mismo problema de clasificación con el método ventana de Parzen. Complete el código ejecute las pruebas para diferentes valores de $h$ y llene la siguiente tabla:"
   ]
  },
  {
   "cell_type": "code",
   "execution_count": 22,
   "metadata": {
    "colab": {},
    "colab_type": "code",
    "id": "EfAWf4BowfWh"
   },
   "outputs": [
    {
     "name": "stdout",
     "output_type": "stream",
     "text": [
      "\n",
      "Error durante la prueba = 0.2216880341880342+-0.04332854434165311\n"
     ]
    }
   ],
   "source": [
    "from numpy import random\n",
    "from sklearn.model_selection import StratifiedKFold\n",
    "import math\n",
    "\n",
    "def executePARZEN(ancho_h):\n",
    "    #Validamos el modelo\n",
    "    random.seed(1)\n",
    "    Error = np.zeros(4)\n",
    "    skf = StratifiedKFold(n_splits=4)\n",
    "    j = 0\n",
    "    for train, test in skf.split(X, Y):\n",
    "        Xtrain = X[train,:]\n",
    "        Ytrain = Y[train]\n",
    "        Xtest = X[test,:]\n",
    "        Ytest = Y[test]\n",
    "\n",
    "        #Normalizamos los datos\n",
    "        media = np.mean(Xtrain)\n",
    "        desvia = np.std(Xtrain)\n",
    "        Xtrain = sc.stats.stats.zscore(Xtrain)\n",
    "        Xtest = (Xtest - np.matlib.repmat(media, Xtest.shape[0], 1))/np.matlib.repmat(desvia, Xtest.shape[0], 1)\n",
    "\n",
    "        ancho_h = ancho_h\n",
    "\n",
    "        Yest = ParzenClass(Xtrain, Ytrain, Xtest, ancho_h)#Complete con el llamado apropiado de la función que Uds diseñaron\n",
    "\n",
    "        #Evaluamos las predicciones del modelo con los datos de test\n",
    "        Error[j] = ErrorClas(Yest,Ytest)\n",
    "        j += 1  \n",
    "        \n",
    "    error = np.mean(Error)\n",
    "    std = np.std(Error)\n",
    "    print('\\nError durante la prueba = ' + str(error) + '+-' + str(std))\n",
    "    return(error, std)\n",
    "        "
   ]
  },
  {
   "cell_type": "markdown",
   "metadata": {
    "colab_type": "text",
    "id": "42ix67zTwfWm"
   },
   "source": [
    "Responda:\n",
    "    \n",
    "5.1 ¿Qué metodología de validación se usó en la simulación?:\n",
    "\n"
   ]
  },
  {
   "cell_type": "markdown",
   "metadata": {
    "colab": {},
    "colab_type": "code",
    "id": "csL1uYd-wfWo"
   },
   "source": [
    "Se utiliza la metodología de validación cruzada, empleando 4 subconjuntos."
   ]
  },
  {
   "cell_type": "code",
   "execution_count": 23,
   "metadata": {},
   "outputs": [
    {
     "name": "stdout",
     "output_type": "stream",
     "text": [
      "(114, 4)\n",
      "(114,)\n",
      "(36, 4)\n",
      "(36,)\n"
     ]
    }
   ],
   "source": [
    "print(Xtrain.shape)\n",
    "print(Ytrain.shape)\n",
    "print(Xtest.shape)\n",
    "print(Ytest.shape)"
   ]
  },
  {
   "cell_type": "markdown",
   "metadata": {
    "colab_type": "text",
    "id": "mvSZ4d2CwfWv"
   },
   "source": [
    "5.2 ¿Cuántas muestras se usan para el entrenamiento?:\n",
    "\n"
   ]
  },
  {
   "cell_type": "markdown",
   "metadata": {
    "colab": {},
    "colab_type": "code",
    "id": "_sH62MDVwfWx"
   },
   "source": [
    "114 muestras."
   ]
  },
  {
   "cell_type": "markdown",
   "metadata": {
    "colab_type": "text",
    "id": "9TRo1gp-wfW1"
   },
   "source": [
    "5.3 ¿Cuántas muestras se usan para la validación?:\n"
   ]
  },
  {
   "cell_type": "markdown",
   "metadata": {
    "colab": {},
    "colab_type": "code",
    "id": "_eFN7aSqwfW3"
   },
   "source": [
    "36 muestras."
   ]
  },
  {
   "cell_type": "markdown",
   "metadata": {
    "colab_type": "text",
    "id": "dqR86wbjwfW8"
   },
   "source": [
    "#### Tabla de resultados"
   ]
  },
  {
   "cell_type": "code",
   "execution_count": 18,
   "metadata": {
    "colab": {
     "referenced_widgets": [
      "073391fef7a141d7bb990ab627719b94"
     ]
    },
    "colab_type": "code",
    "id": "uIZOdWpfwfXA",
    "outputId": "2c2d3f85-45a9-447d-fed4-3357724a8588"
   },
   "outputs": [
    {
     "name": "stdout",
     "output_type": "stream",
     "text": [
      "\n",
      "Error durante la prueba = 0.2216880341880342+-0.04332854434165311\n",
      "\n",
      "Error durante la prueba = 0.2216880341880342+-0.04332854434165311\n",
      "\n",
      "Error durante la prueba = 0.281517094017094+-0.04021339704891218\n",
      "\n",
      "Error durante la prueba = 0.280982905982906+-0.03145818774430656\n",
      "\n",
      "Error durante la prueba = 0.24198717948717952+-0.058466142137675314\n",
      "\n",
      "Error durante la prueba = 0.2216880341880342+-0.04696907336459245\n",
      "\n",
      "Error durante la prueba = 0.2216880341880342+-0.04696907336459245\n"
     ]
    },
    {
     "data": {
      "application/vnd.jupyter.widget-view+json": {
       "model_id": "84450f944d3f4c938f98f81c1d716ceb",
       "version_major": 2,
       "version_minor": 0
      },
      "text/plain": [
       "QgridWidget(grid_options={'fullWidthRows': True, 'syncColumnCellResize': True, 'forceFitColumns': True, 'defau…"
      ]
     },
     "metadata": {},
     "output_type": "display_data"
    }
   ],
   "source": [
    "import pandas as pd\n",
    "import qgrid\n",
    "randn = np.random.randn\n",
    "df_types2 = pd.DataFrame({\n",
    "    'Tamano de ventana' : pd.Series(['0.05', '0.1', '0.5', '1', '2', '5', '10'])})\n",
    "df_types2[\"Error_Prueba\"] = \"\"\n",
    "df_types2[\"Desviación estándar del error\"] = \"\"\n",
    "df_types2.set_index(['Tamano de ventana'], inplace=True)\n",
    "#df_types2[\"Error_Prueba\"][1] = \"0.222\"\n",
    "#df_types2[\"Desviación estándar del error\"][1] = \"0.043\"\n",
    "#df_types.sort_index(inplace=True)\n",
    "\n",
    "valoresH = np.array([0.05,0.1,0.5,1,2,5,10])\n",
    "for i in range(np.size(valoresH)):\n",
    "    error, std = executePARZEN(valoresH[i])\n",
    "    df_types2[\"Error_Prueba\"][i] = error\n",
    "    df_types2[\"Desviación estándar del error\"][i] = std\n",
    "\n",
    "qgrid_widget = qgrid.show_grid(df_types2, show_toolbar=False)\n",
    "qgrid_widget"
   ]
  },
  {
   "cell_type": "markdown",
   "metadata": {
    "colab_type": "text",
    "id": "yZILlf8lwfXF"
   },
   "source": [
    "Ejecute la siguiente instrucción para dejar guardados en el notebook los resultados de las pruebas."
   ]
  },
  {
   "cell_type": "code",
   "execution_count": 19,
   "metadata": {
    "colab": {},
    "colab_type": "code",
    "id": "XZDEWr_SwfXG",
    "outputId": "94f364c8-854f-4f87-810f-6e357a20cbb4"
   },
   "outputs": [
    {
     "data": {
      "text/html": [
       "<div>\n",
       "<style scoped>\n",
       "    .dataframe tbody tr th:only-of-type {\n",
       "        vertical-align: middle;\n",
       "    }\n",
       "\n",
       "    .dataframe tbody tr th {\n",
       "        vertical-align: top;\n",
       "    }\n",
       "\n",
       "    .dataframe thead th {\n",
       "        text-align: right;\n",
       "    }\n",
       "</style>\n",
       "<table border=\"1\" class=\"dataframe\">\n",
       "  <thead>\n",
       "    <tr style=\"text-align: right;\">\n",
       "      <th></th>\n",
       "      <th>Error_Prueba</th>\n",
       "      <th>Desviación estándar del error</th>\n",
       "    </tr>\n",
       "    <tr>\n",
       "      <th>Tamano de ventana</th>\n",
       "      <th></th>\n",
       "      <th></th>\n",
       "    </tr>\n",
       "  </thead>\n",
       "  <tbody>\n",
       "    <tr>\n",
       "      <td>0.05</td>\n",
       "      <td>0.221688</td>\n",
       "      <td>0.0433285</td>\n",
       "    </tr>\n",
       "    <tr>\n",
       "      <td>0.1</td>\n",
       "      <td>0.221688</td>\n",
       "      <td>0.0433285</td>\n",
       "    </tr>\n",
       "    <tr>\n",
       "      <td>0.5</td>\n",
       "      <td>0.281517</td>\n",
       "      <td>0.0402134</td>\n",
       "    </tr>\n",
       "    <tr>\n",
       "      <td>1</td>\n",
       "      <td>0.280983</td>\n",
       "      <td>0.0314582</td>\n",
       "    </tr>\n",
       "    <tr>\n",
       "      <td>2</td>\n",
       "      <td>0.241987</td>\n",
       "      <td>0.0584661</td>\n",
       "    </tr>\n",
       "    <tr>\n",
       "      <td>5</td>\n",
       "      <td>0.221688</td>\n",
       "      <td>0.0469691</td>\n",
       "    </tr>\n",
       "    <tr>\n",
       "      <td>10</td>\n",
       "      <td>0.221688</td>\n",
       "      <td>0.0469691</td>\n",
       "    </tr>\n",
       "  </tbody>\n",
       "</table>\n",
       "</div>"
      ],
      "text/plain": [
       "                  Error_Prueba Desviación estándar del error\n",
       "Tamano de ventana                                           \n",
       "0.05                  0.221688                     0.0433285\n",
       "0.1                   0.221688                     0.0433285\n",
       "0.5                   0.281517                     0.0402134\n",
       "1                     0.280983                     0.0314582\n",
       "2                     0.241987                     0.0584661\n",
       "5                     0.221688                     0.0469691\n",
       "10                    0.221688                     0.0469691"
      ]
     },
     "execution_count": 19,
     "metadata": {},
     "output_type": "execute_result"
    }
   ],
   "source": [
    "qgrid_widget.get_changed_df()"
   ]
  },
  {
   "cell_type": "markdown",
   "metadata": {
    "colab": {},
    "colab_type": "code",
    "id": "xRHuk4TTwfXL"
   },
   "source": []
  }
 ],
 "metadata": {
  "colab": {
   "name": "Lab_2.2_No_Parametrico.ipynb",
   "provenance": []
  },
  "kernelspec": {
   "display_name": "Python 3",
   "language": "python",
   "name": "python3"
  },
  "language_info": {
   "codemirror_mode": {
    "name": "ipython",
    "version": 3
   },
   "file_extension": ".py",
   "mimetype": "text/x-python",
   "name": "python",
   "nbconvert_exporter": "python",
   "pygments_lexer": "ipython3",
   "version": "3.7.4"
  }
 },
 "nbformat": 4,
 "nbformat_minor": 1
}
