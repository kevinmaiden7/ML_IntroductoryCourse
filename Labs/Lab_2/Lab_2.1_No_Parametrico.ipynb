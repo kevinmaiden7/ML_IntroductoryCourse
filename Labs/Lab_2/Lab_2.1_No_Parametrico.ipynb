{
 "cells": [
  {
   "cell_type": "markdown",
   "metadata": {
    "colab_type": "text",
    "id": "mQHpijnpmk1j"
   },
   "source": [
    "# Laboratorio 2 - Parte 1\n",
    "\n",
    "### Modelos no paramétricos\n",
    "\n",
    "### 2019-II\n",
    "\n",
    "#### Profesor: Julián D. Arias Londoño\n",
    "#### julian.ariasl@udea.edu.co\n"
   ]
  },
  {
   "cell_type": "markdown",
   "metadata": {
    "colab_type": "text",
    "id": "c03k7wt0mk1s"
   },
   "source": [
    "## Guía del laboratorio\n",
    "\n",
    "En esta archivo va a encontrar tanto celdas de código cómo celdas de texto con las instrucciones para desarrollar el laboratorio.\n",
    "\n",
    "Lea atentamente las instrucciones entregadas en las celdas de texto correspondientes y proceda con la solución de las preguntas planteadas.\n",
    "\n",
    "Nota: no olvide ir ejecutando las celdas de código de arriba hacia abajo para que no tenga errores de importación de librerías o por falta de definición de variables."
   ]
  },
  {
   "cell_type": "markdown",
   "metadata": {
    "colab_type": "text",
    "id": "M-J1NkObmk1z"
   },
   "source": [
    "#### Primer integrante\n",
    "Nombre: Kevin Martínez Gallego\n",
    "#### Segundo integrante\n",
    "Nombre: Andrés Mauricio Álvarez Ortiz"
   ]
  },
  {
   "cell_type": "code",
   "execution_count": 2,
   "metadata": {
    "colab": {},
    "colab_type": "code",
    "id": "nEmzh4skmk15"
   },
   "outputs": [],
   "source": [
    "from __future__ import division\n",
    "\n",
    "%matplotlib inline\n",
    "import numpy as np\n",
    "import matplotlib.pyplot as plt\n",
    "import numpy.matlib as matlib\n",
    "\n",
    "from numpy import random\n",
    "import math\n",
    "\n",
    "#Algunas advertencias que queremos evitar\n",
    "import warnings\n",
    "warnings.filterwarnings(\"always\")"
   ]
  },
  {
   "cell_type": "markdown",
   "metadata": {
    "colab_type": "text",
    "id": "IVaojQ-tmk2f"
   },
   "source": [
    "## Ejercicio 1: Generar muestras\n",
    "\n",
    "Genere un conjunto de 1000 muestras artificiales con una distribución que corresponda a la suma de dos Gaussiana con diferente media, ambas de una sola dimension. Grafique el histograma de los datos generados. (`plt.hist()`)"
   ]
  },
  {
   "cell_type": "code",
   "execution_count": 3,
   "metadata": {
    "colab": {},
    "colab_type": "code",
    "id": "ddHBgeBcmk2k"
   },
   "outputs": [
    {
     "data": {
      "image/png": "[encoded data removed]",
      "text/plain": [
       "<Figure size 432x288 with 1 Axes>"
      ]
     },
     "metadata": {
      "needs_background": "light"
     },
     "output_type": "display_data"
    }
   ],
   "source": [
    "mu_1 = 0.3\n",
    "mu_2 = 0.4 \n",
    "sigma = 1\n",
    "gaussiana_1 = np.random.normal(mu_1, sigma, 1000)\n",
    "gaussiana_2 = np.random.normal(mu_2, sigma, 1000)\n",
    "suma = gaussiana_1 + gaussiana_2\n",
    "\n",
    "count, bins, _ = plt.hist(suma, 50, density = True)\n",
    "plt.plot(bins, 1 / (np.sqrt(2 * np.pi) * sigma) * np.exp(-(bins - (mu_1 + mu_2))**2 / (2 * sigma**2)))\n",
    "plt.show()"
   ]
  },
  {
   "cell_type": "markdown",
   "metadata": {
    "colab_type": "text",
    "id": "9Cz-4RN5mk2w"
   },
   "source": [
    "## Ejercicio 2: Contextualización del problema\n",
    "\n",
    "Para el problema de regresion usaremos la misma base de datos del laboratorio anterior `AirQuality.data`. Esta es la base de datos del UCI Machine Learning Repository. En el siguiente URL se encuentra toda la descripción de la base de datos del problema http://archive.ics.uci.edu/ml/datasets/air+quality. Ejecute la siguiente celda para cargar los datos."
   ]
  },
  {
   "cell_type": "code",
   "execution_count": 3,
   "metadata": {
    "colab": {},
    "colab_type": "code",
    "id": "sR3IGhWMmk23"
   },
   "outputs": [],
   "source": [
    "#Cargamos la bd que está en un archivo .data y ahora la podemos manejar de forma matricial\n",
    "db = np.loadtxt('DB/AirQuality.data',delimiter='\\t')  # Assuming tab-delimiter\n",
    "\n",
    "\n",
    "#X: Toma las primeras 5000 filas(muestras) y las columnas 0-11 (características)\n",
    "X = db[:5000,0:12]\n",
    "\n",
    "#Y: Toma las primeras 5000 filas y la columna 12, corresponde a la salida de la regresión\n",
    "Y = db[:5000,12]"
   ]
  },
  {
   "cell_type": "code",
   "execution_count": 6,
   "metadata": {},
   "outputs": [
    {
     "name": "stdout",
     "output_type": "stream",
     "text": [
      "(5000, 12)\n",
      "(5000,)\n"
     ]
    }
   ],
   "source": [
    "print(X.shape)\n",
    "print(Y.shape)"
   ]
  },
  {
   "cell_type": "markdown",
   "metadata": {
    "colab_type": "text",
    "id": "zSwd3dQHmk3F"
   },
   "source": [
    "Describa cómo esta construida la base de datos utilizada en el problema de regresión: \n",
    "\n",
    "2.1 ¿Cuántas muestras hay en total?:"
   ]
  },
  {
   "cell_type": "markdown",
   "metadata": {
    "colab": {},
    "colab_type": "code",
    "id": "cwprnvKbmk3M"
   },
   "source": [
    "La base de datos contiene en total 9358 muestras; sin embargo, en este caso se están considerando las primeras 5000 muestras."
   ]
  },
  {
   "cell_type": "markdown",
   "metadata": {
    "colab_type": "text",
    "id": "lfLJv4Plmk3c"
   },
   "source": [
    "2.2 ¿Cuántas características tiene el problema?:"
   ]
  },
  {
   "cell_type": "markdown",
   "metadata": {
    "colab": {},
    "colab_type": "code",
    "id": "2_jNZ_2cmk3g"
   },
   "source": [
    "Originalmente, la base de datos cuenta con 15 atributos incluyendo la variable de salida. No obstante, en este caso se están considerando 12 características."
   ]
  },
  {
   "cell_type": "markdown",
   "metadata": {
    "colab_type": "text",
    "id": "S08YEQXFmk3q"
   },
   "source": [
    "## Ejercicio 3: Completar código de K-Vecinos\n",
    "\n",
    "Analice los siguientes métodos de la teoría vista para los modelos de *K-vecinos más cercanos (KNN)* y complete el código del método KNN.\n",
    "\n",
    "<b>Nota</b>: Para el cáculo de la distancia entre vectores tienen dos opciones, usar la función la distancia euclidiana `scipy.spatial.distance.euclidean`([Ejemplo](https://docs.scipy.org/doc/scipy/reference/generated/scipy.spatial.distance.euclidean.html)) o usar la función `numpy.linalg.norm`([Ejemplo](https://docs.scipy.org/doc/numpy/reference/generated/numpy.linalg.norm.html)). Revisen la documentación para comprender su uso. También serán de utilidad las funciones `numpy.sort` y `numpy.argsort`.\n"
   ]
  },
  {
   "cell_type": "code",
   "execution_count": 5,
   "metadata": {
    "colab": {},
    "colab_type": "code",
    "id": "zGhzAhZbmk3u"
   },
   "outputs": [],
   "source": [
    "import scipy as sc\n",
    "from scipy.spatial import distance\n",
    "from scipy import stats\n",
    "import operator\n",
    "\n",
    "\n",
    "def KNN(X_train, Y_train, X_test, k, tipo):\n",
    "    \n",
    "    #X_train: Matriz con las muestras de entrenamiento\n",
    "    #Y_train: Vector con los valores de salida para cada una de las muestras de entrenamiento\n",
    "    \n",
    "    #X_val: Matriz con las muestras de validación\n",
    "    #tipo: Bandera que indica si el problema es de regresión o de clasificación.\n",
    "    tipo = tipo\n",
    "    \n",
    "    #Parámetro k que equivale al número de vecinos a tener en cuenta para resolver el problema de \n",
    "    #predicción de la variable de salida\n",
    "    k = k \n",
    "    Ntest = len(X_test)\n",
    "    Y_test = np.zeros(Ntest)\n",
    "    Y_train_kVecinos = np.zeros(k)\n",
    "\n",
    "    Ntrain = len(X_train)\n",
    "    distancias = np.zeros(Ntrain)\n",
    "    for i in range(Ntest):\n",
    "        muestra = X_test[i,:]\n",
    "        for j in range(Ntrain):\n",
    "            distancias[j] = distance.euclidean(muestra, X_train[j])\n",
    "        distanciasSortIndex = np.argsort(distancias)\n",
    "        for j in range(k):\n",
    "            Y_train_kVecinos[j] = Y_train[distanciasSortIndex[j]]\n",
    "        if(tipo == 0): # clasificación\n",
    "            Y_test[i] = stats.mode(Y_train_kVecinos)\n",
    "        elif(tipo == 1): # regresión\n",
    "            Y_test[i] = np.mean(Y_train_kVecinos)\n",
    "        \n",
    "    #Debe retornar un vector que contenga las predicciones para cada una de las muestras en X_test, en el mismo orden.  \n",
    "    return Y_test "
   ]
  },
  {
   "cell_type": "markdown",
   "metadata": {
    "colab_type": "text",
    "id": "Qa9e1zM8mk37"
   },
   "source": [
    "## Ejercicio 4: Entrenamiento y pruebas\n",
    "\n",
    "Una vez haya completado el codigo del método de KNN:\n",
    "1. Ejecute varias veces el proceso de entrenamiento y validación cambiando el parametro  $k$ que corresponde al número de vecinos\n",
    "2. Completar la tabla de resultados con el error MAPE y la desviación estándar."
   ]
  },
  {
   "cell_type": "code",
   "execution_count": 6,
   "metadata": {
    "colab": {},
    "colab_type": "code",
    "id": "hSWIOOd9mk39"
   },
   "outputs": [],
   "source": [
    "\"\"\"\n",
    "Mean Absolute Percentage Error para los problemas de regresión\n",
    "\"\"\"\n",
    "def MAPE(Y_est,Y):\n",
    "    N = np.size(Y)\n",
    "    mape = np.sum(abs((Y_est.reshape(N,1) - Y.reshape(N,1))/Y.reshape(N,1)))/N\n",
    "    return mape \n",
    "\n",
    "\n",
    "\"\"\"\n",
    "Calcular el error en clasificación\n",
    "\"\"\"\n",
    "def error(Y_lest, Y):\n",
    "    \n",
    "    error = 0\n",
    "    for ye, y in zip(Y_lest, Y):\n",
    "        if ye != y:\n",
    "            error += 1\n",
    "    \n",
    "    error = error/np.size(Y)\n",
    "    \n",
    "    return error"
   ]
  },
  {
   "cell_type": "code",
   "execution_count": 7,
   "metadata": {
    "colab": {},
    "colab_type": "code",
    "id": "FXdPAMsgmk4F"
   },
   "outputs": [],
   "source": [
    "def executeKNN(k, tipo):\n",
    "    N = np.size(X,0)\n",
    "\n",
    "    #Entrenamiento y validación del modelo\n",
    "    random.seed(1)\n",
    "    Error = np.zeros(2)\n",
    "\n",
    "    for j in range(2):\n",
    "\n",
    "        ind=np.random.permutation(N)\n",
    "        Xtrain = X[ind[0:int(math.ceil(0.7*N))],:]\n",
    "        Xtest = X[ind[int(math.ceil(0.7*N)):N],:]\n",
    "        Ytrain = Y[ind[0:int(math.ceil(0.7*N))]]\n",
    "        Ytest = Y[ind[int(math.ceil(0.7*N)):N]]\n",
    "\n",
    "        #Normalizamos los datos\n",
    "        media = np.mean(Xtrain)\n",
    "        desvia = np.std(Xtrain)\n",
    "        Xtrain = sc.stats.stats.zscore(Xtrain)\n",
    "        Xtest = (Xtest - np.matlib.repmat(media, Xtest.shape[0], 1))/np.matlib.repmat(desvia, Xtest.shape[0], 1)\n",
    "\n",
    "        #Complete con el llamado apropiado de la función que Uds diseñaron \n",
    "        #(X_train, Y_train, X_val, k, tipo)\n",
    "        tipo = tipo\n",
    "        #k = 2\n",
    "        Yest = KNN(Xtrain, Ytrain, Xtest, k, tipo)\n",
    "\n",
    "        #Evaluamos las predicciones del modelo con los datos de test\n",
    "        Error[j] = MAPE(Yest,Ytest)\n",
    "\n",
    "    mape = np.mean(Error)\n",
    "    std = np.std(Error)\n",
    "\n",
    "    print('\\nError durante la prueba k=' + str(k) + ' ' +  str(mape) + '+-' + str(std))\n",
    "\n",
    "    return(mape, std)"
   ]
  },
  {
   "cell_type": "markdown",
   "metadata": {
    "colab_type": "text",
    "id": "5-vBwf2Pmk4S"
   },
   "source": [
    "Responda:\n",
    "\n",
    "4.1 ¿Qué metodología de validación se usa en el experimento?"
   ]
  },
  {
   "cell_type": "markdown",
   "metadata": {
    "colab": {},
    "colab_type": "code",
    "id": "amtSr06wmk4V"
   },
   "source": [
    "En este caso se está utilizan el método de validación MAPE (Mean Absolute Percentage Error). Con esta medida de error obtenemos en que porcentaje se desvió la salida obtenida de la esperada, respecto de las variables en cuestión."
   ]
  },
  {
   "cell_type": "code",
   "execution_count": 11,
   "metadata": {},
   "outputs": [
    {
     "name": "stdout",
     "output_type": "stream",
     "text": [
      "(3500, 12)\n",
      "(1500, 12)\n"
     ]
    }
   ],
   "source": [
    "N = np.size(X,0)\n",
    "ind=np.random.permutation(N)\n",
    "print((X[ind[0:int(math.ceil(0.7*N))],:]).shape)\n",
    "print((X[ind[int(math.ceil(0.7*N)):N],:]).shape)"
   ]
  },
  {
   "cell_type": "markdown",
   "metadata": {
    "colab_type": "text",
    "id": "pkfMMWcHmk4g"
   },
   "source": [
    "4.2 ¿Cuántas muestras se usan para el entrenamiento?"
   ]
  },
  {
   "cell_type": "markdown",
   "metadata": {
    "colab": {},
    "colab_type": "code",
    "id": "AbOkiQeCmk4i"
   },
   "source": [
    "Para entrenamiento se utilizan 3500 muestras, las cuales equivalen al 70% del total de muestras (5000)."
   ]
  },
  {
   "cell_type": "markdown",
   "metadata": {
    "colab_type": "text",
    "id": "3-jZOMzGmk4z"
   },
   "source": [
    "4.3 ¿Cuántas muestras se usan para la validación?"
   ]
  },
  {
   "cell_type": "markdown",
   "metadata": {
    "colab": {},
    "colab_type": "code",
    "id": "hgFg8zr6mk42"
   },
   "source": [
    "Para validación se utilizan 1500 muestras, las cuales equivalen al 30% restante del total de muestras (5000)."
   ]
  },
  {
   "cell_type": "markdown",
   "metadata": {
    "colab_type": "text",
    "id": "Qc7dydlZmk5D"
   },
   "source": [
    "#### Tabla de resultados"
   ]
  },
  {
   "cell_type": "code",
   "execution_count": 8,
   "metadata": {
    "colab": {
     "referenced_widgets": [
      "8336bcf3d05042f19bc7db2f0bf20277"
     ]
    },
    "colab_type": "code",
    "id": "WnO6Ulzfmk5F",
    "outputId": "1dada410-1cda-4e61-e2ad-cca06133d537"
   },
   "outputs": [
    {
     "name": "stderr",
     "output_type": "stream",
     "text": [
      "C:\\Users\\Kevin\\Anaconda3\\lib\\importlib\\_bootstrap.py:219: RuntimeWarning: numpy.ufunc size changed, may indicate binary incompatibility. Expected 192 from C header, got 216 from PyObject\n",
      "  return f(*args, **kwds)\n",
      "C:\\Users\\Kevin\\Anaconda3\\lib\\importlib\\_bootstrap.py:219: RuntimeWarning: numpy.ufunc size changed, may indicate binary incompatibility. Expected 192 from C header, got 216 from PyObject\n",
      "  return f(*args, **kwds)\n",
      "C:\\Users\\Kevin\\Anaconda3\\lib\\importlib\\_bootstrap.py:219: RuntimeWarning: numpy.ufunc size changed, may indicate binary incompatibility. Expected 192 from C header, got 216 from PyObject\n",
      "  return f(*args, **kwds)\n",
      "C:\\Users\\Kevin\\Anaconda3\\lib\\importlib\\_bootstrap.py:219: RuntimeWarning: numpy.ufunc size changed, may indicate binary incompatibility. Expected 192 from C header, got 216 from PyObject\n",
      "  return f(*args, **kwds)\n",
      "C:\\Users\\Kevin\\Anaconda3\\lib\\importlib\\_bootstrap.py:219: RuntimeWarning: numpy.ufunc size changed, may indicate binary incompatibility. Expected 192 from C header, got 216 from PyObject\n",
      "  return f(*args, **kwds)\n",
      "C:\\Users\\Kevin\\Anaconda3\\lib\\importlib\\_bootstrap.py:219: RuntimeWarning: numpy.ufunc size changed, may indicate binary incompatibility. Expected 192 from C header, got 216 from PyObject\n",
      "  return f(*args, **kwds)\n",
      "C:\\Users\\Kevin\\Anaconda3\\lib\\importlib\\_bootstrap.py:219: RuntimeWarning: numpy.ufunc size changed, may indicate binary incompatibility. Expected 192 from C header, got 216 from PyObject\n",
      "  return f(*args, **kwds)\n",
      "C:\\Users\\Kevin\\Anaconda3\\lib\\importlib\\_bootstrap.py:219: RuntimeWarning: numpy.ufunc size changed, may indicate binary incompatibility. Expected 192 from C header, got 216 from PyObject\n",
      "  return f(*args, **kwds)\n",
      "C:\\Users\\Kevin\\Anaconda3\\lib\\importlib\\_bootstrap.py:219: RuntimeWarning: numpy.ufunc size changed, may indicate binary incompatibility. Expected 192 from C header, got 216 from PyObject\n",
      "  return f(*args, **kwds)\n",
      "C:\\Users\\Kevin\\Anaconda3\\lib\\importlib\\_bootstrap.py:219: RuntimeWarning: numpy.ufunc size changed, may indicate binary incompatibility. Expected 192 from C header, got 216 from PyObject\n",
      "  return f(*args, **kwds)\n",
      "C:\\Users\\Kevin\\Anaconda3\\lib\\importlib\\_bootstrap.py:219: RuntimeWarning: numpy.ufunc size changed, may indicate binary incompatibility. Expected 192 from C header, got 216 from PyObject\n",
      "  return f(*args, **kwds)\n",
      "C:\\Users\\Kevin\\Anaconda3\\lib\\importlib\\_bootstrap.py:219: RuntimeWarning: numpy.ufunc size changed, may indicate binary incompatibility. Expected 192 from C header, got 216 from PyObject\n",
      "  return f(*args, **kwds)\n",
      "C:\\Users\\Kevin\\Anaconda3\\lib\\importlib\\_bootstrap.py:219: RuntimeWarning: numpy.ufunc size changed, may indicate binary incompatibility. Expected 192 from C header, got 216 from PyObject\n",
      "  return f(*args, **kwds)\n",
      "C:\\Users\\Kevin\\Anaconda3\\lib\\importlib\\_bootstrap.py:219: RuntimeWarning: numpy.ufunc size changed, may indicate binary incompatibility. Expected 192 from C header, got 216 from PyObject\n",
      "  return f(*args, **kwds)\n",
      "C:\\Users\\Kevin\\Anaconda3\\lib\\importlib\\_bootstrap.py:219: RuntimeWarning: numpy.ufunc size changed, may indicate binary incompatibility. Expected 192 from C header, got 216 from PyObject\n",
      "  return f(*args, **kwds)\n",
      "C:\\Users\\Kevin\\Anaconda3\\lib\\importlib\\_bootstrap.py:219: RuntimeWarning: numpy.ufunc size changed, may indicate binary incompatibility. Expected 192 from C header, got 216 from PyObject\n",
      "  return f(*args, **kwds)\n",
      "C:\\Users\\Kevin\\Anaconda3\\lib\\importlib\\_bootstrap.py:219: RuntimeWarning: numpy.ufunc size changed, may indicate binary incompatibility. Expected 192 from C header, got 216 from PyObject\n",
      "  return f(*args, **kwds)\n",
      "C:\\Users\\Kevin\\Anaconda3\\lib\\importlib\\_bootstrap.py:219: RuntimeWarning: numpy.ufunc size changed, may indicate binary incompatibility. Expected 192 from C header, got 216 from PyObject\n",
      "  return f(*args, **kwds)\n",
      "C:\\Users\\Kevin\\Anaconda3\\lib\\importlib\\_bootstrap.py:219: RuntimeWarning: numpy.ufunc size changed, may indicate binary incompatibility. Expected 192 from C header, got 216 from PyObject\n",
      "  return f(*args, **kwds)\n",
      "C:\\Users\\Kevin\\Anaconda3\\lib\\importlib\\_bootstrap.py:219: RuntimeWarning: numpy.ufunc size changed, may indicate binary incompatibility. Expected 192 from C header, got 216 from PyObject\n",
      "  return f(*args, **kwds)\n",
      "C:\\Users\\Kevin\\Anaconda3\\lib\\importlib\\_bootstrap.py:219: RuntimeWarning: numpy.ufunc size changed, may indicate binary incompatibility. Expected 192 from C header, got 216 from PyObject\n",
      "  return f(*args, **kwds)\n",
      "C:\\Users\\Kevin\\Anaconda3\\lib\\importlib\\_bootstrap.py:219: RuntimeWarning: numpy.ufunc size changed, may indicate binary incompatibility. Expected 192 from C header, got 216 from PyObject\n",
      "  return f(*args, **kwds)\n",
      "C:\\Users\\Kevin\\Anaconda3\\lib\\importlib\\_bootstrap.py:219: RuntimeWarning: numpy.ufunc size changed, may indicate binary incompatibility. Expected 192 from C header, got 216 from PyObject\n",
      "  return f(*args, **kwds)\n",
      "C:\\Users\\Kevin\\Anaconda3\\lib\\importlib\\_bootstrap.py:219: RuntimeWarning: numpy.ufunc size changed, may indicate binary incompatibility. Expected 192 from C header, got 216 from PyObject\n",
      "  return f(*args, **kwds)\n",
      "C:\\Users\\Kevin\\Anaconda3\\lib\\importlib\\_bootstrap.py:219: RuntimeWarning: numpy.ufunc size changed, may indicate binary incompatibility. Expected 192 from C header, got 216 from PyObject\n",
      "  return f(*args, **kwds)\n",
      "C:\\Users\\Kevin\\Anaconda3\\lib\\importlib\\_bootstrap.py:219: RuntimeWarning: numpy.ufunc size changed, may indicate binary incompatibility. Expected 192 from C header, got 216 from PyObject\n",
      "  return f(*args, **kwds)\n",
      "C:\\Users\\Kevin\\Anaconda3\\lib\\importlib\\_bootstrap.py:219: RuntimeWarning: numpy.ufunc size changed, may indicate binary incompatibility. Expected 192 from C header, got 216 from PyObject\n",
      "  return f(*args, **kwds)\n",
      "C:\\Users\\Kevin\\Anaconda3\\lib\\importlib\\_bootstrap.py:219: RuntimeWarning: numpy.ufunc size changed, may indicate binary incompatibility. Expected 192 from C header, got 216 from PyObject\n",
      "  return f(*args, **kwds)\n",
      "C:\\Users\\Kevin\\Anaconda3\\lib\\importlib\\_bootstrap.py:219: RuntimeWarning: numpy.ufunc size changed, may indicate binary incompatibility. Expected 192 from C header, got 216 from PyObject\n",
      "  return f(*args, **kwds)\n",
      "C:\\Users\\Kevin\\Anaconda3\\lib\\importlib\\_bootstrap.py:219: RuntimeWarning: numpy.ufunc size changed, may indicate binary incompatibility. Expected 192 from C header, got 216 from PyObject\n",
      "  return f(*args, **kwds)\n",
      "C:\\Users\\Kevin\\Anaconda3\\lib\\importlib\\_bootstrap.py:219: RuntimeWarning: numpy.ufunc size changed, may indicate binary incompatibility. Expected 192 from C header, got 216 from PyObject\n",
      "  return f(*args, **kwds)\n",
      "C:\\Users\\Kevin\\Anaconda3\\lib\\importlib\\_bootstrap.py:219: RuntimeWarning: numpy.ufunc size changed, may indicate binary incompatibility. Expected 192 from C header, got 216 from PyObject\n",
      "  return f(*args, **kwds)\n",
      "C:\\Users\\Kevin\\Anaconda3\\lib\\importlib\\_bootstrap.py:219: RuntimeWarning: numpy.ufunc size changed, may indicate binary incompatibility. Expected 192 from C header, got 216 from PyObject\n",
      "  return f(*args, **kwds)\n",
      "C:\\Users\\Kevin\\Anaconda3\\lib\\importlib\\_bootstrap.py:219: RuntimeWarning: numpy.ufunc size changed, may indicate binary incompatibility. Expected 192 from C header, got 216 from PyObject\n",
      "  return f(*args, **kwds)\n",
      "C:\\Users\\Kevin\\Anaconda3\\lib\\site-packages\\ipywidgets\\widgets\\widget.py:282: DeprecationWarning: Widget registration using a string name has been deprecated. Widget registration now uses a plain `@register` decorator.\n",
      "  warnings.warn(\"Widget registration using a string name has been deprecated. Widget registration now uses a plain `@register` decorator.\", DeprecationWarning)\n",
      "C:\\Users\\Kevin\\Anaconda3\\lib\\site-packages\\qgrid\\grid.py:573: DeprecationWarning: metadata {'sync': True} was set from the constructor. With traitlets 4.1, metadata should be set using the .tag() method, e.g., Int().tag(key1='value1', key2='value2')\n",
      "  _df_json = Unicode('', sync=True)\n"
     ]
    },
    {
     "name": "stdout",
     "output_type": "stream",
     "text": [
      "\n",
      "Error durante la prueba k=1 0.3840372997747079+-0.016497301273993348\n",
      "\n",
      "Error durante la prueba k=2 0.3630095013508765+-0.006140024361192514\n",
      "\n",
      "Error durante la prueba k=3 0.3497424913566185+-0.0023601226154101596\n",
      "\n",
      "Error durante la prueba k=4 0.34117124804036614+-0.004561202028195682\n",
      "\n",
      "Error durante la prueba k=5 0.33365100995901664+-0.0027102869335308977\n",
      "\n",
      "Error durante la prueba k=6 0.3252859355963996+-0.001992847379454543\n",
      "\n",
      "Error durante la prueba k=7 0.3201103542753637+-0.0007978802015047026\n",
      "\n",
      "Error durante la prueba k=100 0.26879661924012493+-0.005340544195603092\n"
     ]
    },
    {
     "name": "stderr",
     "output_type": "stream",
     "text": [
      "C:\\Users\\Kevin\\Anaconda3\\lib\\site-packages\\qgrid\\grid.py:827: DeprecationWarning: QgridWidget._df_changed is deprecated in traitlets 4.1: use @observe and @unobserve instead.\n",
      "  def _df_changed(self):\n"
     ]
    },
    {
     "data": {
      "application/vnd.jupyter.widget-view+json": {
       "model_id": "d15b0299266e4f14ae3626a4966d47fa",
       "version_major": 2,
       "version_minor": 0
      },
      "text/plain": [
       "QgridWidget(grid_options={'fullWidthRows': True, 'syncColumnCellResize': True, 'forceFitColumns': True, 'defau…"
      ]
     },
     "metadata": {},
     "output_type": "display_data"
    }
   ],
   "source": [
    "import numpy as np\n",
    "import pandas as pd\n",
    "#!pip install qgrid\n",
    "import qgrid\n",
    "randn = np.random.randn\n",
    "df_types = pd.DataFrame({\n",
    "    'Numero de vecinos' : pd.Series(['1', '2', '3', '4', '5', '6', '7', '100'])})\n",
    "df_types[\"Error_Prueba\"] = \"\"\n",
    "df_types[\"Desviación estándar del error\"] = \"\"\n",
    "df_types.set_index(['Numero de vecinos'], inplace=True)\n",
    "#df_types[\"Error_Prueba\"][1] = \"0.3630\"\n",
    "#df_types[\"Desviación estándar del error\"][1] = \"0.0061\"\n",
    "\n",
    "tipo = 1 # regresión\n",
    "valoresK = np.array([1,2,3,4,5,6,7,100])\n",
    "for i in range(np.size(valoresK)):\n",
    "    error, std = executeKNN(valoresK[i], tipo)\n",
    "    df_types[\"Error_Prueba\"][i] = error\n",
    "    df_types[\"Desviación estándar del error\"][i] = std\n",
    "\n",
    "#df_types.sort_index(inplace=True)\n",
    "qgrid_widget = qgrid.show_grid(df_types, show_toolbar=False)\n",
    "qgrid_widget"
   ]
  },
  {
   "cell_type": "markdown",
   "metadata": {
    "colab_type": "text",
    "id": "_X3eei6bmk5V"
   },
   "source": [
    "Ejecute la siguiente instrucción para dejar guardados en el notebook los resultados de las pruebas."
   ]
  },
  {
   "cell_type": "code",
   "execution_count": 9,
   "metadata": {
    "colab": {},
    "colab_type": "code",
    "id": "kCGZ6GXhmk5X",
    "outputId": "e264abf3-edbf-4d18-dd3f-34b761172cc4"
   },
   "outputs": [
    {
     "data": {
      "text/html": [
       "<div>\n",
       "<style scoped>\n",
       "    .dataframe tbody tr th:only-of-type {\n",
       "        vertical-align: middle;\n",
       "    }\n",
       "\n",
       "    .dataframe tbody tr th {\n",
       "        vertical-align: top;\n",
       "    }\n",
       "\n",
       "    .dataframe thead th {\n",
       "        text-align: right;\n",
       "    }\n",
       "</style>\n",
       "<table border=\"1\" class=\"dataframe\">\n",
       "  <thead>\n",
       "    <tr style=\"text-align: right;\">\n",
       "      <th></th>\n",
       "      <th>Error_Prueba</th>\n",
       "      <th>Desviación estándar del error</th>\n",
       "    </tr>\n",
       "    <tr>\n",
       "      <th>Numero de vecinos</th>\n",
       "      <th></th>\n",
       "      <th></th>\n",
       "    </tr>\n",
       "  </thead>\n",
       "  <tbody>\n",
       "    <tr>\n",
       "      <td>1</td>\n",
       "      <td>0.384037</td>\n",
       "      <td>0.0164973</td>\n",
       "    </tr>\n",
       "    <tr>\n",
       "      <td>2</td>\n",
       "      <td>0.36301</td>\n",
       "      <td>0.00614002</td>\n",
       "    </tr>\n",
       "    <tr>\n",
       "      <td>3</td>\n",
       "      <td>0.349742</td>\n",
       "      <td>0.00236012</td>\n",
       "    </tr>\n",
       "    <tr>\n",
       "      <td>4</td>\n",
       "      <td>0.341171</td>\n",
       "      <td>0.0045612</td>\n",
       "    </tr>\n",
       "    <tr>\n",
       "      <td>5</td>\n",
       "      <td>0.333651</td>\n",
       "      <td>0.00271029</td>\n",
       "    </tr>\n",
       "    <tr>\n",
       "      <td>6</td>\n",
       "      <td>0.325286</td>\n",
       "      <td>0.00199285</td>\n",
       "    </tr>\n",
       "    <tr>\n",
       "      <td>7</td>\n",
       "      <td>0.32011</td>\n",
       "      <td>0.00079788</td>\n",
       "    </tr>\n",
       "    <tr>\n",
       "      <td>100</td>\n",
       "      <td>0.268797</td>\n",
       "      <td>0.00534054</td>\n",
       "    </tr>\n",
       "  </tbody>\n",
       "</table>\n",
       "</div>"
      ],
      "text/plain": [
       "                  Error_Prueba Desviación estándar del error\n",
       "Numero de vecinos                                           \n",
       "1                     0.384037                     0.0164973\n",
       "2                      0.36301                    0.00614002\n",
       "3                     0.349742                    0.00236012\n",
       "4                     0.341171                     0.0045612\n",
       "5                     0.333651                    0.00271029\n",
       "6                     0.325286                    0.00199285\n",
       "7                      0.32011                    0.00079788\n",
       "100                   0.268797                    0.00534054"
      ]
     },
     "execution_count": 9,
     "metadata": {},
     "output_type": "execute_result"
    }
   ],
   "source": [
    "qgrid_widget.get_changed_df()"
   ]
  },
  {
   "cell_type": "markdown",
   "metadata": {
    "colab_type": "text",
    "id": "dNRwhIJSmk5s"
   },
   "source": [
    "## Ejercicio 5: Ventana de Parzen\n",
    "\n",
    "Resolver el mismo problema de regresión, pero con el modelo de *Ventana de Parzen*. Se debe completar el código de la función <font color='blue'>Nadaraya-Watson</font>  Recuerde la función de densidad de probabilidad con la ventana de Parzen.\n",
    "$$f({\\bf{x}}^*) = \\frac{1}{N h^d} \\sum_{i=1}^{N} K(u_i), \\;\\; u_i = \\frac{d({\\bf{x}}^*,{\\bf{x}}_i)}{h}$$\n",
    "\n",
    "\n",
    "Nota: Los métodos `dist_euclidiana` y ECM continuan siendo válidos para el modelo ventana de Parzen.\n"
   ]
  },
  {
   "cell_type": "code",
   "execution_count": 35,
   "metadata": {
    "colab": {},
    "colab_type": "code",
    "id": "egP7RXExmk5y"
   },
   "outputs": [],
   "source": [
    "def kernel_gaussiano(x):\n",
    "    return (np.exp((-0.5)*x**2))\n",
    "\n",
    "def Nadaraya_Watson(X_train, Y_train, X_val, ancho_h):\n",
    "    \n",
    "    h = ancho_h    #Parámetro h que equivale al ancho de la ventana o kernel\n",
    "    Nval = len(X_val)\n",
    "    Ntrain = len(X_train)\n",
    "    Y_val = np.zeros(Nval)\n",
    "    \n",
    "    for i in range(Nval):\n",
    "        muestra = X_val[i,:]\n",
    "        numerador = 0\n",
    "        denominador = 0\n",
    "        for j in range(Ntrain):\n",
    "            distancia = distance.euclidean(muestra, X_train[j])/h\n",
    "            peso = kernel_gaussiano(distancia)\n",
    "            numerador += peso * Y_train[j]\n",
    "            denominador += peso\n",
    "        Y_val[i] = numerador/denominador\n",
    "        \n",
    "    #Debe retornar un vector que contenga las predicciones para cada una de las muestras en X_val, en el mismo orden.      \n",
    "    return Y_val\n"
   ]
  },
  {
   "cell_type": "code",
   "execution_count": 51,
   "metadata": {
    "colab": {},
    "colab_type": "code",
    "id": "FXdPAMsgmk4F"
   },
   "outputs": [],
   "source": [
    "def executePARZEN_NW(ancho_h):\n",
    "    N = np.size(X,0)\n",
    "\n",
    "    #Entrenamiento y validación del modelo\n",
    "    random.seed(1)\n",
    "    Error = np.zeros(2)\n",
    "\n",
    "    for j in range(2):\n",
    "\n",
    "        ind=np.random.permutation(N)\n",
    "        Xtrain = X[ind[0:int(math.ceil(0.7*N))],:]\n",
    "        Xtest = X[ind[int(math.ceil(0.7*N)):N],:]\n",
    "        Ytrain = Y[ind[0:int(math.ceil(0.7*N))]]\n",
    "        Ytest = Y[ind[int(math.ceil(0.7*N)):N]]\n",
    "\n",
    "        #Normalizamos los datos\n",
    "        media = np.mean(Xtrain)\n",
    "        desvia = np.std(Xtrain)\n",
    "        Xtrain = sc.stats.stats.zscore(Xtrain)\n",
    "        Xtest = (Xtest - np.matlib.repmat(media, Xtest.shape[0], 1))/np.matlib.repmat(desvia, Xtest.shape[0], 1)\n",
    "\n",
    "        #Complete con el llamado apropiado de la función que Uds diseñaron \n",
    "        #(X_train, Y_train, X_val, k, tipo)\n",
    "        #tipo = 0\n",
    "        #ancho_h = 0.9\n",
    "        Yest = Nadaraya_Watson(Xtrain, Ytrain, Xtest, ancho_h)\n",
    "\n",
    "        #Evaluamos las predicciones del modelo con los datos de test\n",
    "        Error[j] = MAPE(Yest,Ytest)\n",
    "\n",
    "    mape = np.mean(Error)\n",
    "    std = np.std(Error)\n",
    "\n",
    "    print('\\nError durante la prueba ' +  str(mape) + '+-' + str(std))\n",
    "\n",
    "    return(mape, std)"
   ]
  },
  {
   "cell_type": "markdown",
   "metadata": {
    "colab_type": "text",
    "id": "Jg6buzoqmk6F"
   },
   "source": [
    "## Ejercicio 6: Entrenamiento y pruebas\n",
    "\n",
    "Una vez haya completado el codigo del método de Ventana de Parzen, ejecute varias veces el proceso de entrenamiento y validación cambiando el parametro $h$, que corresponde al ancho de la función kernel. Completar la siguiente tabla con los valores del error MAPE obtenidos y su desviación estándar:"
   ]
  },
  {
   "cell_type": "markdown",
   "metadata": {
    "colab_type": "text",
    "id": "pQjaxpMtmk6K"
   },
   "source": [
    "#### Tabla de resultados"
   ]
  },
  {
   "cell_type": "code",
   "execution_count": 52,
   "metadata": {
    "colab": {
     "referenced_widgets": [
      "6b8d92a1035640618a91a35f3e2cbe89"
     ]
    },
    "colab_type": "code",
    "id": "e8-N-W9Vmk6T",
    "outputId": "0b11b46e-1374-417e-94fa-403201aa4e34"
   },
   "outputs": [
    {
     "name": "stdout",
     "output_type": "stream",
     "text": [
      "\n",
      "Error durante la prueba 0.38130057348448304+-0.015731139983383324\n",
      "\n",
      "Error durante la prueba 0.30111035388439256+-0.0031344056092405814\n",
      "\n",
      "Error durante la prueba 0.3052229403956968+-0.0031592182248232903\n",
      "\n",
      "Error durante la prueba 0.305480581722527+-0.003943068384557297\n",
      "\n",
      "Error durante la prueba 0.299316519656669+-0.004245154346174562\n",
      "\n",
      "Error durante la prueba 0.2644374071451173+-0.0033811170453101613\n",
      "\n",
      "Error durante la prueba 2.1427564244929034+-0.15597858444551282\n"
     ]
    },
    {
     "data": {
      "application/vnd.jupyter.widget-view+json": {
       "model_id": "d0c1b6c94a464ccb94936565c9b809d5",
       "version_major": 2,
       "version_minor": 0
      },
      "text/plain": [
       "QgridWidget(grid_options={'fullWidthRows': True, 'syncColumnCellResize': True, 'forceFitColumns': True, 'defau…"
      ]
     },
     "metadata": {},
     "output_type": "display_data"
    }
   ],
   "source": [
    "randn = np.random.randn\n",
    "df_types2 = pd.DataFrame({\n",
    "    'Ancho del kernel' : pd.Series(['0.1', '0.9', '1', '2', '3', '5', '10'])})\n",
    "df_types2[\"Error_Prueba\"] = \"\"\n",
    "df_types2[\"Desviación estándar del error\"] = \"\"\n",
    "df_types2.set_index(['Ancho del kernel'], inplace=True)\n",
    "#df_types2[\"Error_Prueba\"][1] = \"0.3011\"\n",
    "#df_types2[\"Desviación estándar del error\"][1] = \"0.0031\"\n",
    "\n",
    "valoresH = np.array([0.1,0.9,1,2,3,5,10])\n",
    "for i in range(np.size(valoresH)):\n",
    "    error, std = executePARZEN_NW(valoresH[i])\n",
    "    df_types2[\"Error_Prueba\"][i] = error\n",
    "    df_types2[\"Desviación estándar del error\"][i] = std\n",
    "\n",
    "#df_types.sort_index(inplace=True)\n",
    "qgrid_widget = qgrid.show_grid(df_types2, show_toolbar=False)\n",
    "qgrid_widget"
   ]
  },
  {
   "cell_type": "markdown",
   "metadata": {
    "colab_type": "text",
    "id": "n8FnyYbbmk6q"
   },
   "source": [
    "Ejecute la siguiente instrucción para dejar guardados en el notebook los resultados de las pruebas."
   ]
  },
  {
   "cell_type": "code",
   "execution_count": 53,
   "metadata": {
    "colab": {},
    "colab_type": "code",
    "id": "2O6QqN8Zmk6t",
    "outputId": "f9933b4f-e4f6-42e0-9158-40a49135987e"
   },
   "outputs": [
    {
     "data": {
      "text/html": [
       "<div>\n",
       "<style scoped>\n",
       "    .dataframe tbody tr th:only-of-type {\n",
       "        vertical-align: middle;\n",
       "    }\n",
       "\n",
       "    .dataframe tbody tr th {\n",
       "        vertical-align: top;\n",
       "    }\n",
       "\n",
       "    .dataframe thead th {\n",
       "        text-align: right;\n",
       "    }\n",
       "</style>\n",
       "<table border=\"1\" class=\"dataframe\">\n",
       "  <thead>\n",
       "    <tr style=\"text-align: right;\">\n",
       "      <th></th>\n",
       "      <th>Error_Prueba</th>\n",
       "      <th>Desviación estándar del error</th>\n",
       "    </tr>\n",
       "    <tr>\n",
       "      <th>Ancho del kernel</th>\n",
       "      <th></th>\n",
       "      <th></th>\n",
       "    </tr>\n",
       "  </thead>\n",
       "  <tbody>\n",
       "    <tr>\n",
       "      <td>0.1</td>\n",
       "      <td>0.381301</td>\n",
       "      <td>0.0157311</td>\n",
       "    </tr>\n",
       "    <tr>\n",
       "      <td>0.9</td>\n",
       "      <td>0.30111</td>\n",
       "      <td>0.00313441</td>\n",
       "    </tr>\n",
       "    <tr>\n",
       "      <td>1</td>\n",
       "      <td>0.305223</td>\n",
       "      <td>0.00315922</td>\n",
       "    </tr>\n",
       "    <tr>\n",
       "      <td>2</td>\n",
       "      <td>0.305481</td>\n",
       "      <td>0.00394307</td>\n",
       "    </tr>\n",
       "    <tr>\n",
       "      <td>3</td>\n",
       "      <td>0.299317</td>\n",
       "      <td>0.00424515</td>\n",
       "    </tr>\n",
       "    <tr>\n",
       "      <td>5</td>\n",
       "      <td>0.264437</td>\n",
       "      <td>0.00338112</td>\n",
       "    </tr>\n",
       "    <tr>\n",
       "      <td>10</td>\n",
       "      <td>2.14276</td>\n",
       "      <td>0.155979</td>\n",
       "    </tr>\n",
       "  </tbody>\n",
       "</table>\n",
       "</div>"
      ],
      "text/plain": [
       "                 Error_Prueba Desviación estándar del error\n",
       "Ancho del kernel                                           \n",
       "0.1                  0.381301                     0.0157311\n",
       "0.9                   0.30111                    0.00313441\n",
       "1                    0.305223                    0.00315922\n",
       "2                    0.305481                    0.00394307\n",
       "3                    0.299317                    0.00424515\n",
       "5                    0.264437                    0.00338112\n",
       "10                    2.14276                      0.155979"
      ]
     },
     "execution_count": 53,
     "metadata": {},
     "output_type": "execute_result"
    }
   ],
   "source": [
    "qgrid_widget.get_changed_df()"
   ]
  },
  {
   "cell_type": "markdown",
   "metadata": {
    "colab_type": "text",
    "id": "7RlPw-NXmk7D"
   },
   "source": [
    "Responda:\n",
    "\n",
    "6.1 Si intenta repetir la prueba anterior para un $h = 0.05$ el algoritmo falla. ¿Cuál es la causa de la falla?:"
   ]
  },
  {
   "cell_type": "code",
   "execution_count": 0,
   "metadata": {
    "colab": {},
    "colab_type": "code",
    "id": "VUbyJltUmk7H"
   },
   "outputs": [],
   "source": []
  },
  {
   "cell_type": "markdown",
   "metadata": {
    "colab_type": "text",
    "id": "EP4v4jYtmk7V"
   },
   "source": [
    "6.2 ¿Cómo evito que se presente la excepción?:"
   ]
  },
  {
   "cell_type": "code",
   "execution_count": 0,
   "metadata": {
    "colab": {},
    "colab_type": "code",
    "id": "P5J-St2bmk7c"
   },
   "outputs": [],
   "source": []
  }
 ],
 "metadata": {
  "colab": {
   "name": "Lab_2.1_No_Parametrico.ipynb",
   "provenance": []
  },
  "kernelspec": {
   "display_name": "Python 3",
   "language": "python",
   "name": "python3"
  },
  "language_info": {
   "codemirror_mode": {
    "name": "ipython",
    "version": 3
   },
   "file_extension": ".py",
   "mimetype": "text/x-python",
   "name": "python",
   "nbconvert_exporter": "python",
   "pygments_lexer": "ipython3",
   "version": "3.7.4"
  }
 },
 "nbformat": 4,
 "nbformat_minor": 1
}
