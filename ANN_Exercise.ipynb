{
 "cells": [
  {
   "cell_type": "markdown",
   "metadata": {},
   "source": [
    "### Ejercicio: Red neuronal MLP con tres capas ocultas."
   ]
  },
  {
   "cell_type": "markdown",
   "metadata": {},
   "source": [
    "![alt text](./Images/ANN3.png \"ANN\")"
   ]
  },
  {
   "cell_type": "markdown",
   "metadata": {},
   "source": [
    "1) activaciones para las neuronas de la primera capa oculta:\n",
    "\n",
    "$$\n",
    " a_j = \\sum_{i=1}^{d} w_{ji}^{(1)} x_i + w_{j0}^{(1)}\n",
    "$$\n",
    "\n",
    "2) activaciones para las neuronas de la segunda capa oculta:\n",
    "\n",
    "$$\n",
    " a_l = \\sum_{j=1}^{M_1} w_{lj}^{(2)} h_{1}(a_j) + w_{l0}^{(2)}\n",
    "$$\n",
    "\n",
    "3) activaciones para las neuronas de la tercera capa oculta:\n",
    "\n",
    "$$\n",
    " a_r = \\sum_{l=1}^{M_2} w_{rl}^{(3)} h_{2}(a_l) + w_{r0}^{(3)}\n",
    "$$\n",
    "\n",
    "4) activaciones para las neuronas de la capa de salida:\n",
    "\n",
    "$$\n",
    " y_k = \\sigma(\\sum_{r=1}^{M_3} w_{kr}^{(4)} h_{3}(a_r) + w_{k0}^{(4)})\n",
    "$$\n",
    "\n",
    "Combinando lo anterior se obtiene la ecuación:\n",
    "\n",
    "$$\n",
    "y_k({\\bf{x}},{\\bf{w}}) = \\sigma\\left( \\sum_{r=1}^{M_3} w_{kr}^{(4)} h_3 \\left(\\sum_{l=1}^{M_2} w_{rl}^{(3)} h_2 \\left( \\sum_{j=1}^{M_1} w_{lj}^{(2)} h_1 \\left( \\sum_{i=1}^{d} w_{ji}^{(1)} x_i + w_{j0}^{(1)} \\right) + w_{l0}^{(2)}\\right) + w_{r0}^{(3)}\\right) + w_{k0}^{(4)}\\right)\n",
    "$$"
   ]
  },
  {
   "cell_type": "markdown",
   "metadata": {},
   "source": [
    "#### Sustituyendo ciclos por operaciones vectoriales, y teniendo en cuenta un Mini-batch como entrada.\n",
    "\n",
    "##### Capa 1:\n",
    "\n",
    "La matriz de pesos es de la forma: $$ W_1=[M_1,d+1] $$\n",
    "\n",
    "\"Para cada neurona de la capa 1, los pesos asociados a las conexiones con cada neurona de la capa de entrada, más una columna de unos que representa el término independiente\"\n",
    "\n",
    "El conjunto de muestras está dado por la matriz: $$ X=[S,d+1] $$\n",
    "\n",
    "donde S es el tamaño de los subconjuntos del mini-batch.\n",
    "\n",
    "Ahora, obtenemos las salidas de cada de neurona de la capa 1 para cada muestra del mini-batch, mediante la operación:\n",
    "\n",
    "$$ X.W_1^{T}=[S,M_1]=C_1 $$\n",
    "\n",
    "Luego, extendemos la matriz C1 adicionando una columna de unos (1s) al final para representar las salidas del término independiente:\n",
    "\n",
    "$$ C_1=[S,M_1+1] $$\n",
    "\n",
    "##### Capa 2:\n",
    "\n",
    "La matriz de pesos es de la forma: $$ W_2=[M_2,M_1+1] $$\n",
    "\n",
    "\"Para cada neurona de la capa 2, los pesos asociados a las conexiones con cada neurona de la capa 1, más el término independiente de la capa 1\"\n",
    "\n",
    "Ahora, obtenemos las salidas de cada neurona de la capa 2:\n",
    "\n",
    "$$ C_1.W_2^{T}=[S,M_2]=C_2 $$ y extendiendo C2: $$ C_2=[S,M_2+1] $$\n",
    "\n",
    "##### Capa 3:\n",
    "\n",
    "La matriz de pesos es de la forma: $$ W_3=[M_3,M_2+1] $$\n",
    "\n",
    "Salidas de cada neurona de la capa 3:\n",
    "\n",
    "$$ C_2.W_3^{T}=[S,M_3]=C_3 $$ y extendiendo C3: $$ C_3=[S,M_3+1] $$\n",
    "\n",
    "##### Capa de Salida (4):\n",
    "\n",
    "La matriz de pesos es de la forma: $$ W_4=[K,M_3+1] $$\n",
    "\n",
    "Salidas de la red para cada muestra del mini-batch:\n",
    "\n",
    "$$  C_3.W_4^{T}=[S,K]$$\n",
    "\n",
    "Combinando lo anterior y teniendo en cuenta las funciones de activación de las capas, se obtiene la ecuacion:\n",
    "\n",
    "$$ y({\\bf{x}},{\\bf{w}}) = \\sigma\\left(add(h_3(add(h_2(add(h_1(X.W_1^T))).W_2^T).W_3^T).W_4^T\\right) $$\n",
    "\n",
    "(se asume una función 'add' que concatena a una matriz una columna de unos al final)"
   ]
  }
 ],
 "metadata": {
  "kernelspec": {
   "display_name": "Python 3",
   "language": "python",
   "name": "python3"
  },
  "language_info": {
   "codemirror_mode": {
    "name": "ipython",
    "version": 3
   },
   "file_extension": ".py",
   "mimetype": "text/x-python",
   "name": "python",
   "nbconvert_exporter": "python",
   "pygments_lexer": "ipython3",
   "version": "3.7.4"
  }
 },
 "nbformat": 4,
 "nbformat_minor": 2
}
